{
 "cells": [
  {
   "cell_type": "markdown",
   "metadata": {},
   "source": [
    "#### iLQR for kinematic example"
   ]
  },
  {
   "cell_type": "code",
   "execution_count": 10,
   "metadata": {},
   "outputs": [
    {
     "name": "stdout",
     "output_type": "stream",
     "text": [
      "The autoreload extension is already loaded. To reload it, use:\n",
      "  %reload_ext autoreload\n"
     ]
    }
   ],
   "source": [
    "import numpy as np\n",
    "import matplotlib.pyplot as plt\n",
    "from IPython.display import clear_output\n",
    "import time\n",
    "from ocp import *\n",
    "from costs import *\n",
    "\n",
    "%load_ext autoreload\n",
    "%autoreload 2\n",
    "np.set_printoptions(precision=4, suppress=True)"
   ]
  },
  {
   "cell_type": "markdown",
   "metadata": {},
   "source": [
    "#### Create 2link robot "
   ]
  },
  {
   "cell_type": "code",
   "execution_count": 31,
   "metadata": {},
   "outputs": [],
   "source": [
    "dt = 0.01\n",
    "T = 100\n",
    "\n",
    "sys = TwoLinkRobot(dt = dt)\n",
    "x0 = np.array([0,0,0,0])\n",
    "sys.set_init_state(x0)\n",
    "\n",
    "#set initial control output to be all zeros\n",
    "us = np.zeros((T+1,sys.Du))\n",
    "_ = sys.compute_matrices(x0, us[0])\n",
    "xs = sys.rollout(us[:-1])"
   ]
  },
  {
   "cell_type": "markdown",
   "metadata": {},
   "source": [
    "#### Plot initial trajectory"
   ]
  },
  {
   "cell_type": "raw",
   "metadata": {},
   "source": [
    "sys.plot_traj(xs)"
   ]
  },
  {
   "cell_type": "markdown",
   "metadata": {},
   "source": [
    "#### Set the regularization cost coefficients Q and R "
   ]
  },
  {
   "cell_type": "code",
   "execution_count": 32,
   "metadata": {},
   "outputs": [],
   "source": [
    "Q = np.eye(sys.Dx)*.1\n",
    "Q[0:2,0:2] *= 0.0  #only put cost regularization on the velocity, not on the joint angles\n",
    "Qf = np.eye(sys.Dx)*1\n",
    "Qf[0:2,0:2] *= 0.0 #only put cost regularization on the velocity, not on the joint angles\n",
    "R = np.eye(sys.Du)*.1\n",
    "mu = 1e-6          #regularization coefficient"
   ]
  },
  {
   "cell_type": "markdown",
   "metadata": {},
   "source": [
    "#### Set end effector reference "
   ]
  },
  {
   "cell_type": "code",
   "execution_count": 33,
   "metadata": {},
   "outputs": [],
   "source": [
    "#W and WT: cost coefficients for the end-effector reaching task\n",
    "p_ref = np.array([.5, .8])\n",
    "W = np.eye(2)*1\n",
    "WT = np.eye(2)*100\n",
    "sys.set_pref(p_ref)"
   ]
  },
  {
   "cell_type": "markdown",
   "metadata": {},
   "source": [
    "### iLQR using cost model"
   ]
  },
  {
   "cell_type": "markdown",
   "metadata": {},
   "source": [
    "#### Define the cost"
   ]
  },
  {
   "cell_type": "code",
   "execution_count": 34,
   "metadata": {},
   "outputs": [],
   "source": [
    "#The costs consist of: a) state regularization (Q), b) control regularization (R), and c) End-effector reaching task (W)\n",
    "#Running cost is for the time 0 <= t < T, while terminal cost is for the time t = T\n",
    "\n",
    "runningStateCost = CostModelQuadratic(sys, Q)\n",
    "runningControlCost = CostModelQuadratic(sys, None, R)\n",
    "runningEECost = CostModelQuadraticTranslation(sys,W,p_ref)\n",
    "runningCost = CostModelSum(sys, [runningStateCost, runningControlCost, runningEECost])\n",
    "\n",
    "terminalStateCost = CostModelQuadratic(sys,Qf)\n",
    "terminalControlCost = CostModelQuadratic(sys, None,R)\n",
    "terminalEECost = CostModelQuadraticTranslation(sys,WT,p_ref)\n",
    "terminalCost = CostModelSum(sys, [terminalStateCost, terminalControlCost, terminalEECost])\n",
    "\n",
    "costs = [runningCost]*T + [terminalCost]"
   ]
  },
  {
   "cell_type": "markdown",
   "metadata": {},
   "source": [
    "#### Construct ILQR"
   ]
  },
  {
   "cell_type": "code",
   "execution_count": 35,
   "metadata": {},
   "outputs": [],
   "source": [
    "ilqr_cost = ILQR(sys, mu)\n",
    "ilqr_cost.set_init_state(x0)\n",
    "ilqr_cost.set_timestep(T)\n",
    "ilqr_cost.set_cost(costs)\n",
    "ilqr_cost.set_state(xs, us) #set initial trajectory"
   ]
  },
  {
   "cell_type": "markdown",
   "metadata": {},
   "source": [
    "#### Solve and Plot"
   ]
  },
  {
   "cell_type": "code",
   "execution_count": 38,
   "metadata": {},
   "outputs": [
    {
     "data": {
      "image/png": "[encoded data removed]",
      "text/plain": [
       "<Figure size 432x288 with 1 Axes>"
      ]
     },
     "metadata": {
      "needs_background": "light"
     },
     "output_type": "display_data"
    }
   ],
   "source": [
    "n_iter = 30\n",
    "ilqr_cost.solve(n_iter, method='batch')\n",
    "xs_batch, us_batch = ilqr_cost.xs, ilqr_cost.us\n",
    "\n",
    "clear_output()\n",
    "plt.plot(xs_batch[:,0], xs_batch[:,1], 'b--')\n",
    "plt.show()"
   ]
  },
  {
   "cell_type": "markdown",
   "metadata": {},
   "source": [
    "#### Play traj"
   ]
  },
  {
   "cell_type": "code",
   "execution_count": 39,
   "metadata": {},
   "outputs": [
    {
     "data": {
      "image/png": "[encoded data removed]",
      "text/plain": [
       "<Figure size 432x288 with 1 Axes>"
      ]
     },
     "metadata": {
      "needs_background": "light"
     },
     "output_type": "display_data"
    }
   ],
   "source": [
    "sys.plot_traj(ilqr_cost.xs)"
   ]
  }
 ],
 "metadata": {
  "kernelspec": {
   "display_name": "Python 2",
   "language": "python",
   "name": "python2"
  },
  "language_info": {
   "codemirror_mode": {
    "name": "ipython",
    "version": 2
   },
   "file_extension": ".py",
   "mimetype": "text/x-python",
   "name": "python",
   "nbconvert_exporter": "python",
   "pygments_lexer": "ipython2",
   "version": "2.7.12"
  }
 },
 "nbformat": 4,
 "nbformat_minor": 2
}
