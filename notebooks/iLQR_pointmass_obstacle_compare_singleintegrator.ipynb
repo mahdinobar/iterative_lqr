{
 "cells": [
  {
   "cell_type": "markdown",
   "metadata": {},
   "source": [
    "#### iLQR for point mass example with obstacle (single integrator)"
   ]
  },
  {
   "cell_type": "code",
   "execution_count": 26,
   "metadata": {},
   "outputs": [
    {
     "name": "stdout",
     "output_type": "stream",
     "text": [
      "The autoreload extension is already loaded. To reload it, use:\n",
      "  %reload_ext autoreload\n"
     ]
    }
   ],
   "source": [
    "import numpy as np\n",
    "import matplotlib.pyplot as plt\n",
    "from IPython.display import clear_output\n",
    "import time\n",
    "from ocp import *\n",
    "from costs import *\n",
    "from ocp_utils import *\n",
    "\n",
    "%load_ext autoreload\n",
    "%autoreload 2\n",
    "np.set_printoptions(precision=4, suppress=True)"
   ]
  },
  {
   "cell_type": "markdown",
   "metadata": {},
   "source": [
    "## Steps:"
   ]
  },
  {
   "cell_type": "markdown",
   "metadata": {},
   "source": [
    "#### 1. Define the dynamical system (e.g., double integrator, 2d robot, n-d manipulator, etc.)\n",
    "#### 2. Define the cost functions\n",
    "#### 3. Construct the ILQR problem\n",
    "#### 4. Solve"
   ]
  },
  {
   "cell_type": "markdown",
   "metadata": {},
   "source": [
    "#### Create point mass system with dimension 2 (double integrator)"
   ]
  },
  {
   "cell_type": "code",
   "execution_count": 27,
   "metadata": {},
   "outputs": [],
   "source": [
    "class SingleIntegrator():\n",
    "    def __init__(self,A,B):\n",
    "        self.A = A\n",
    "        self.B = B\n",
    "        self.Dx = A.shape[0]\n",
    "        self.Du = B.shape[1]\n",
    "        \n",
    "    def reset_AB(self, A,B):\n",
    "        self.A = A\n",
    "        self.B = B\n",
    "        \n",
    "    def set_init_state(self,x0):\n",
    "        self.x0 = x0\n",
    "    \n",
    "    def compute_matrices(self,x,u):\n",
    "        #compute the derivatives of the dynamics\n",
    "        return self.A,self.B\n",
    "    \n",
    "    def compute_ee(self,x, ee_id=1):\n",
    "        #The end-effector for a point mass system is simply its position\n",
    "        #The ee_id is added as dummy variable, just for uniformity of notation with other systems\n",
    "        return x, None \n",
    "    \n",
    "    def compute_Jacobian(self,x, ee_id=1):\n",
    "        #The end-effector Jacobian for a point mass system is simply an identity matrix\n",
    "        #The ee_id is added as dummy variable, just for uniformity of notation with other systems\n",
    "        return np.eye(int(self.Dx)) \n",
    "    \n",
    "    \n",
    "    def step(self, x, u):\n",
    "        return self.A.dot(x) + self.B.dot(u)\n",
    "    \n",
    "    def rollout(self,us):\n",
    "        x_cur = self.x0\n",
    "        xs = [x_cur]\n",
    "        T = len(us)\n",
    "        for i in range(T):\n",
    "            x_cur = self.step(x_cur, us[i])\n",
    "            xs += [x_cur]\n",
    "        return np.array(xs)"
   ]
  },
  {
   "cell_type": "code",
   "execution_count": 28,
   "metadata": {},
   "outputs": [],
   "source": [
    "dt = 0.01  #duration of 1 time step\n",
    "T = 100    #total number of time steps\n",
    "Dx, Du = 2, 2 #dimensions of x and u\n",
    "\n",
    "#Define the matrix A and B to define a double integrator\n",
    "A = np.eye(Dx)\n",
    "B = np.eye(Du)*dt\n",
    "\n",
    "sys = SingleIntegrator(A, B)"
   ]
  },
  {
   "cell_type": "markdown",
   "metadata": {},
   "source": [
    "#### Set initial state and control trajectory"
   ]
  },
  {
   "cell_type": "code",
   "execution_count": 29,
   "metadata": {},
   "outputs": [],
   "source": [
    "x0 = np.zeros(Dx)\n",
    "sys.set_init_state(x0)\n",
    "\n",
    "#set initial control output to be all zeros\n",
    "us = np.zeros((T+1,sys.Du))\n",
    "_ = sys.compute_matrices(x0, us[0])\n",
    "xs = sys.rollout(us[:-1])"
   ]
  },
  {
   "cell_type": "markdown",
   "metadata": {},
   "source": [
    "#### Plot initial trajectory"
   ]
  },
  {
   "cell_type": "raw",
   "metadata": {},
   "source": [
    "sys.plot_traj(xs)"
   ]
  },
  {
   "cell_type": "markdown",
   "metadata": {},
   "source": [
    "#### Set the regularization cost coefficients Q and R "
   ]
  },
  {
   "cell_type": "code",
   "execution_count": 61,
   "metadata": {},
   "outputs": [],
   "source": [
    "Q = np.eye(sys.Dx)*0.  #coefficient for running cost\n",
    "Qf = np.eye(sys.Dx)*1000  #coefficient for terminal cost\n",
    "R = np.eye(sys.Du)*0.01  #control coefficient\n",
    "mu = 1e-6              #regularization coefficient"
   ]
  },
  {
   "cell_type": "markdown",
   "metadata": {},
   "source": [
    "#### Set reference target"
   ]
  },
  {
   "cell_type": "code",
   "execution_count": 62,
   "metadata": {},
   "outputs": [],
   "source": [
    "x_target = np.array([3, 3])"
   ]
  },
  {
   "cell_type": "markdown",
   "metadata": {},
   "source": [
    "#### Set obstacle"
   ]
  },
  {
   "cell_type": "code",
   "execution_count": 76,
   "metadata": {},
   "outputs": [
    {
     "data": {
      "image/png": "[encoded data removed]",
      "text/plain": [
       "<Figure size 432x288 with 1 Axes>"
      ]
     },
     "metadata": {
      "needs_background": "light"
     },
     "output_type": "display_data"
    }
   ],
   "source": [
    "p_obs1 = np.array([1.,1.])   #obstacle position\n",
    "r_obs1 = np.array([0.5, 0.2]) #radius of the ellipse\n",
    "ori_obs1 = 0  #rotate the ellipse clockwise\n",
    "w_obs1 = 100   #weight of the obstacle cost\n",
    "\n",
    "#compute the covariance matrix of the ellipse\n",
    "Sigma_obs1 = compute_covariance(r_obs1, ori_obs1)\n",
    "\n",
    "\n",
    "#plot the ellipse\n",
    "fig, ax = plt.subplots()\n",
    "plot_gaussian_2D(p_obs1, Sigma_obs1, ax=ax)\n",
    "ax.set_xlim(0, 2)\n",
    "ax.set_ylim(0,2)\n",
    "ax.set_aspect('equal')"
   ]
  },
  {
   "cell_type": "markdown",
   "metadata": {},
   "source": [
    "### iLQR using cost model"
   ]
  },
  {
   "cell_type": "markdown",
   "metadata": {},
   "source": [
    "#### Define the cost"
   ]
  },
  {
   "cell_type": "code",
   "execution_count": 81,
   "metadata": {},
   "outputs": [],
   "source": [
    "#The costs consist of: a) state tracking (Q), b) control regularization (R), c) obstacle cost\n",
    "#Running cost is for the time 0 <= t < T, while terminal cost is for the time t = T\n",
    "costs = []\n",
    "for i in range(T):\n",
    "    runningStateCost = CostModelQuadratic(sys, Q, x_ref = x_target)\n",
    "    runningControlCost = CostModelQuadratic(sys, None, R)\n",
    "    runningObstacleCost = CostModelCollisionEllipsoidNew(sys, p_obs1, Sigma_obs1, w_obs1)    \n",
    "    runningCost = CostModelSum(sys, [runningStateCost, runningControlCost, runningObstacleCost])\n",
    "    costs += [runningCost]\n",
    "\n",
    "terminalStateCost = CostModelQuadratic(sys,Qf, x_ref = x_target)\n",
    "terminalControlCost = CostModelQuadratic(sys, None,R)\n",
    "terminalObstacleCost = CostModelCollisionEllipsoidNew(sys, p_obs1, Sigma_obs1, w_obs1)\n",
    "terminalCost = CostModelSum(sys, [terminalStateCost, terminalControlCost, terminalObstacleCost])\n",
    "\n",
    "costs += [terminalCost]"
   ]
  },
  {
   "cell_type": "markdown",
   "metadata": {},
   "source": [
    "#### Construct ILQR"
   ]
  },
  {
   "cell_type": "code",
   "execution_count": 82,
   "metadata": {},
   "outputs": [],
   "source": [
    "ilqr_cost = ILQR(sys, mu)\n",
    "ilqr_cost.set_init_state(x0)\n",
    "ilqr_cost.set_timestep(T)\n",
    "ilqr_cost.set_cost(costs)\n",
    "ilqr_cost.set_state(xs, us)    #set initial guess"
   ]
  },
  {
   "cell_type": "markdown",
   "metadata": {},
   "source": [
    "#### Solve and Plot"
   ]
  },
  {
   "cell_type": "code",
   "execution_count": 83,
   "metadata": {},
   "outputs": [],
   "source": [
    "n_iter = 30\n",
    "ilqr_cost.solve(n_iter, method='batch')\n",
    "xs_batch, us_batch = ilqr_cost.xs, ilqr_cost.us\n",
    "clear_output()"
   ]
  },
  {
   "cell_type": "code",
   "execution_count": 84,
   "metadata": {},
   "outputs": [
    {
     "data": {
      "image/png": "[encoded data removed]",
      "text/plain": [
       "<Figure size 432x288 with 1 Axes>"
      ]
     },
     "metadata": {
      "needs_background": "light"
     },
     "output_type": "display_data"
    }
   ],
   "source": [
    "fig, ax = plt.subplots()\n",
    "ax.plot(xs_batch[::5,0], xs_batch[::5,1], 'b-o')\n",
    "ax.plot(x_target[0], x_target[1], 'or', markersize = 10, label='target')\n",
    "plot_gaussian_2D(p_obs1, Sigma_obs1, ax=ax)\n",
    "ax.legend()\n",
    "plt.axis('equal')\n",
    "plt.show()"
   ]
  },
  {
   "cell_type": "code",
   "execution_count": 71,
   "metadata": {},
   "outputs": [],
   "source": [
    "class CostModelCollisionEllipsoidOld():\n",
    "    '''\n",
    "    The collision cost model between the end-effector and an ellipsoid obstacle\n",
    "    '''\n",
    "    def __init__(self, sys, p_obs, Sigma_obs, ee_id, w_obs = 1., d_thres = 1., R_obs = None):\n",
    "        self.sys = sys\n",
    "        self.Dx, self.Du = sys.Dx, sys.Du\n",
    "        self.p_obs = p_obs #obstacle position\n",
    "        self.Sigma_obs = Sigma_obs #obstacle ellipse covariance matrix       \n",
    "        self.Sigma_obs_inv = np.linalg.inv(Sigma_obs)\n",
    "        \n",
    "        \n",
    "        if R_obs is not None:\n",
    "            self.R_obs = R_obs #orientation of the obstacle w.r.t. the world\n",
    "            self.Sigma_obs_inv = self.R_obs.dot(self.Sigma_obs_inv).dot(self.R_obs.T) #transform the cost coefficient to the object frame    \n",
    "\n",
    "        self.w_obs = w_obs\n",
    "        self.d_thres = d_thres\n",
    "        self.obs_status = False\n",
    "        self.ee_id = ee_id\n",
    "        \n",
    "    def calc(self, x, u):\n",
    "        p,_ = self.sys.compute_ee(x, self.ee_id)\n",
    "        self.normalized_d = (p-self.p_obs).T.dot(self.Sigma_obs_inv).dot(p-self.p_obs) \n",
    "        if self.normalized_d < self.d_thres:\n",
    "            self.obs_status = True #very near to the obstacle\n",
    "            self.L = 0.5*self.w_obs*(self.normalized_d-self.d_thres)**2\n",
    "        else:\n",
    "            self.obs_status = False\n",
    "            self.L = 0\n",
    "        return self.L\n",
    "    \n",
    "    def calcDiff(self, x, u, recalc = True):\n",
    "        if recalc:\n",
    "            self.calc(x, u)\n",
    "        self.J   = self.sys.compute_Jacobian(x, self.ee_id)[:3]  #Only use the translation part\n",
    "        p,_      = self.sys.compute_ee(x, self.ee_id)\n",
    "        \n",
    "        if self.obs_status:\n",
    "            Jtemp = self.J.T.dot(self.Sigma_obs_inv).dot(p-self.p_obs)\n",
    "            self.Lx = np.zeros(self.Dx)\n",
    "            self.Lx[:]  = self.w_obs*Jtemp.dot(self.normalized_d-self.d_thres)\n",
    "            self.Lxx = np.zeros((self.Dx, self.Dx))\n",
    "            self.Lxx = self.w_obs*Jtemp.T.dot(Jtemp)\n",
    "        else:\n",
    "            self.Lx = np.zeros(self.Dx)\n",
    "            self.Lxx = np.zeros((self.Dx, self.Dx))\n",
    "        \n",
    "        self.Lu  = np.zeros(self.Du)\n",
    "        self.Lxu = np.zeros((self.Dx, self.Du))\n",
    "        self.Luu  = np.zeros((self.Du, self.Du))\n",
    "        "
   ]
  },
  {
   "cell_type": "code",
   "execution_count": 20,
   "metadata": {},
   "outputs": [],
   "source": [
    "class CostModelCollisionEllipsoidNew():\n",
    "    '''\n",
    "    The collision cost model between the end-effector and an ellipsoid obstacle\n",
    "    '''\n",
    "    def __init__(self, sys, p_obs, Sigma_obs, ee_id, w_obs = 1., d_thres = 1., R_obs = None):\n",
    "        self.sys = sys\n",
    "        self.Dx, self.Du = sys.Dx, sys.Du\n",
    "        self.p_obs = p_obs #obstacle position\n",
    "        self.Sigma_obs = Sigma_obs #obstacle ellipse covariance matrix       \n",
    "        self.Sigma_obs_inv = np.linalg.inv(Sigma_obs)\n",
    "        \n",
    "        \n",
    "        if R_obs is not None:\n",
    "            self.R_obs = R_obs #orientation of the obstacle w.r.t. the world\n",
    "            self.Sigma_obs_inv = self.R_obs.dot(self.Sigma_obs_inv).dot(self.R_obs.T) #transform the cost coefficient to the object frame    \n",
    "\n",
    "        self.w_obs = w_obs\n",
    "        self.d_thres = d_thres\n",
    "        self.obs_status = False\n",
    "        self.ee_id = ee_id\n",
    "        \n",
    "    def calc(self, x, u):\n",
    "        p,_ = self.sys.compute_ee(x, self.ee_id)\n",
    "        self.normalized_d = (p-self.p_obs).T.dot(self.Sigma_obs_inv).dot(p-self.p_obs) \n",
    "        if self.normalized_d < self.d_thres:\n",
    "            self.obs_status = True #very near to the obstacle\n",
    "            self.L = self.d_thres-0.5*self.w_obs*self.normalized_d\n",
    "        else:\n",
    "            self.obs_status = False\n",
    "            self.L = 0\n",
    "        return self.L\n",
    "    \n",
    "    def calcDiff(self, x, u, recalc = True):\n",
    "        if recalc:\n",
    "            self.calc(x, u)\n",
    "        self.J   = self.sys.compute_Jacobian(x, self.ee_id)[:3]  #Only use the translation part\n",
    "        p,_      = self.sys.compute_ee(x, self.ee_id)\n",
    "        \n",
    "        if self.obs_status:\n",
    "            Jtemp = -self.J.T.dot(self.Sigma_obs_inv).dot(p-self.p_obs)\n",
    "            self.Lx = np.zeros(self.Dx)\n",
    "            self.Lx[:]  = self.w_obs*Jtemp\n",
    "            self.Lxx = np.zeros((self.Dx, self.Dx))\n",
    "            self.Lxx= self.w_obs*self.J.T.dot(self.Sigma_obs_inv).dot(self.J)\n",
    "        else:\n",
    "            self.Lx = np.zeros(self.Dx)\n",
    "            self.Lxx = np.zeros((self.Dx, self.Dx))\n",
    "        \n",
    "        self.Lu  = np.zeros(self.Du)\n",
    "        self.Lxu = np.zeros((self.Dx, self.Du))\n",
    "        self.Luu  = np.zeros((self.Du, self.Du))"
   ]
  },
  {
   "cell_type": "code",
   "execution_count": 80,
   "metadata": {},
   "outputs": [
    {
     "name": "stdout",
     "output_type": "stream",
     "text": [
      "[[ 0.4543 -1.3989  0.      0.    ]]\n",
      "[ 0.4543 -1.3989  0.      0.    ]\n",
      "[[0. 0. 0. 0.]]\n"
     ]
    }
   ],
   "source": [
    "idx = np.random.randint(len(ilqr_cost.xs))\n",
    "idx = 40\n",
    "x = ilqr_cost.xs[idx]\n",
    "u = ilqr_cost.us[idx]\n",
    "\n",
    "inc = 0.001\n",
    "J = np.zeros((1, len(x)))\n",
    "for i in range(len(xs[0])):\n",
    "    x_p = x.copy()\n",
    "    x_p[i] += inc\n",
    "    cost_p = runningObstacleCost.calc(x_p, u)\n",
    "    \n",
    "    x_m = x.copy()\n",
    "    x_m[i] -= inc\n",
    "    cost_m = runningObstacleCost.calc(x_m, u)\n",
    "    \n",
    "    diff = (cost_p-cost_m)/(2*inc)\n",
    "    J[0,i] = diff\n",
    "    \n",
    "J_true = runningObstacleCost.calcDiff(x, u)\n",
    "J_true = runningObstacleCost.Lx\n",
    "print(J)\n",
    "print(J_true)\n",
    "print(J-J_true)"
   ]
  }
 ],
 "metadata": {
  "kernelspec": {
   "display_name": "Python 3",
   "language": "python",
   "name": "python3"
  },
  "language_info": {
   "codemirror_mode": {
    "name": "ipython",
    "version": 3
   },
   "file_extension": ".py",
   "mimetype": "text/x-python",
   "name": "python",
   "nbconvert_exporter": "python",
   "pygments_lexer": "ipython3",
   "version": "3.8.3"
  }
 },
 "nbformat": 4,
 "nbformat_minor": 4
}
