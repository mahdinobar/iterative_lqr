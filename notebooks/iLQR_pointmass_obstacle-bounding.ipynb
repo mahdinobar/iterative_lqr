{
 "cells": [
  {
   "cell_type": "markdown",
   "metadata": {},
   "source": [
    "#### iLQR for point mass example"
   ]
  },
  {
   "cell_type": "code",
   "execution_count": 1,
   "metadata": {},
   "outputs": [],
   "source": [
    "import numpy as np\n",
    "import matplotlib.pyplot as plt\n",
    "from numpy import dot\n",
    "from numpy.linalg import inv\n",
    "from IPython.display import clear_output\n",
    "import time\n",
    "from ocp import *\n",
    "from costs import *\n",
    "%load_ext autoreload\n",
    "%autoreload 2\n",
    "\n",
    "np.set_printoptions(precision=4, suppress=True)"
   ]
  },
  {
   "cell_type": "markdown",
   "metadata": {},
   "source": [
    "#### Create point mass system with dimension 2 (double integrator)"
   ]
  },
  {
   "cell_type": "code",
   "execution_count": 2,
   "metadata": {},
   "outputs": [],
   "source": [
    "dt = 0.05\n",
    "T = 100\n",
    "Dx, Du = 4, 2\n",
    "A = np.eye(Dx)\n",
    "A[:2,2:] = np.eye(2)*dt\n",
    "B = np.zeros((Dx, Du))\n",
    "B[2:, :] = np.eye(Du)\n",
    "\n",
    "sys = LinearSystem(A, B)"
   ]
  },
  {
   "cell_type": "markdown",
   "metadata": {},
   "source": [
    "#### Set initial state and control trajectory"
   ]
  },
  {
   "cell_type": "code",
   "execution_count": 87,
   "metadata": {},
   "outputs": [],
   "source": [
    "x0 = np.zeros(Dx)\n",
    "x0[3] = 0\n",
    "sys.set_init_state(x0)\n",
    "\n",
    "#set initial control output to be all zeros\n",
    "us = np.zeros((T+1,sys.Du))\n",
    "_ = sys.compute_matrices(x0, us[0])\n",
    "xs = sys.rollout(us[:-1])"
   ]
  },
  {
   "cell_type": "markdown",
   "metadata": {},
   "source": [
    "#### Plot initial trajectory"
   ]
  },
  {
   "cell_type": "raw",
   "metadata": {},
   "source": [
    "sys.plot_traj(xs)"
   ]
  },
  {
   "cell_type": "markdown",
   "metadata": {},
   "source": [
    "#### Set the regularization cost coefficients Q and R "
   ]
  },
  {
   "cell_type": "code",
   "execution_count": 88,
   "metadata": {},
   "outputs": [],
   "source": [
    "Q = np.eye(sys.Dx)*0.\n",
    "#Q[0:2,0:2] *= 0.0\n",
    "Qf = np.eye(sys.Dx)*0\n",
    "#Qf[0:2,0:2] *= 0.0\n",
    "R = np.eye(sys.Du)*.001\n",
    "mu = 1e-6"
   ]
  },
  {
   "cell_type": "markdown",
   "metadata": {},
   "source": [
    "#### Set reference target"
   ]
  },
  {
   "cell_type": "code",
   "execution_count": 89,
   "metadata": {},
   "outputs": [],
   "source": [
    "x_ref = np.array([2, 2, 0,0])"
   ]
  },
  {
   "cell_type": "markdown",
   "metadata": {},
   "source": [
    "#### Set obstacle"
   ]
  },
  {
   "cell_type": "code",
   "execution_count": 101,
   "metadata": {},
   "outputs": [],
   "source": [
    "p_obs1 = np.array([1.1,1.1])\n",
    "Sigma_obs1 = np.diag([0.7, 0.7])\n",
    "w_obs1 = 10\n",
    "r_obs1 = 2"
   ]
  },
  {
   "cell_type": "markdown",
   "metadata": {},
   "source": [
    "### iLQR using cost model"
   ]
  },
  {
   "cell_type": "markdown",
   "metadata": {},
   "source": [
    "#### Define the cost"
   ]
  },
  {
   "cell_type": "code",
   "execution_count": 102,
   "metadata": {},
   "outputs": [],
   "source": [
    "#The costs consist of: a) state tracking (Q), b) control regularization (R)\n",
    "#Running cost is for the time 0 <= t < T, while terminal cost is for the time t = T\n",
    "costs = []\n",
    "\n",
    "for i in range(T):\n",
    "    runningStateCost = CostModelQuadratic(sys, Q, x_ref = x_ref)\n",
    "    runningControlCost = CostModelQuadratic(sys, None, R)\n",
    "    #runningObstacleCost = CostModelCollisionEllipsoid(sys, p_obs1, Sigma_obs1, w_obs1)\n",
    "    activation = ActivationCollision(nr=2, threshold = r_obs1)\n",
    "    runningObstacleCost = CostModelCollisionCircle(sys, activation, p_obs1, Sigma_obs1, w_obs1)\n",
    "    \n",
    "    runningCost = CostModelSum(sys, [runningStateCost, runningControlCost, runningObstacleCost])\n",
    "    costs += [runningCost]\n",
    "\n",
    "terminalStateCost = CostModelQuadratic(sys,Qf, x_ref = x_ref)\n",
    "terminalControlCost = CostModelQuadratic(sys, None,R)\n",
    "#terminalObstacleCost = CostModelCollisionEllipsoid(sys, p_obs1, Sigma_obs1, w_obs1)\n",
    "activation = ActivationCollision(nr=2, threshold = r_obs1)\n",
    "terminalObstacleCost = CostModelCollisionCircle(sys, activation, p_obs1, Sigma_obs1, w_obs1)\n",
    "terminalCost = CostModelSum(sys, [terminalStateCost, terminalControlCost, terminalObstacleCost])\n",
    "\n",
    "costs += [terminalCost]"
   ]
  },
  {
   "cell_type": "markdown",
   "metadata": {},
   "source": [
    "#### Construct ILQR"
   ]
  },
  {
   "cell_type": "code",
   "execution_count": 103,
   "metadata": {},
   "outputs": [],
   "source": [
    "ilqr_cost = ILQR(sys)\n",
    "ilqr_cost.set_init_state(x0)\n",
    "ilqr_cost.set_timestep(T)\n",
    "ilqr_cost.set_cost(costs)\n",
    "ilqr_cost.set_state(xs, us)"
   ]
  },
  {
   "cell_type": "markdown",
   "metadata": {},
   "source": [
    "#### Solve and Plot"
   ]
  },
  {
   "cell_type": "markdown",
   "metadata": {},
   "source": [
    "#### Solve"
   ]
  },
  {
   "cell_type": "code",
   "execution_count": 104,
   "metadata": {},
   "outputs": [
    {
     "data": {
      "text/plain": [
       "array([0., 0.])"
      ]
     },
     "execution_count": 104,
     "metadata": {},
     "output_type": "execute_result"
    }
   ],
   "source": [
    "ilqr_cost.k[0]"
   ]
  },
  {
   "cell_type": "code",
   "execution_count": 105,
   "metadata": {},
   "outputs": [
    {
     "data": {
      "text/plain": [
       "array([0., 0., 0., 0.])"
      ]
     },
     "execution_count": 105,
     "metadata": {},
     "output_type": "execute_result"
    }
   ],
   "source": [
    "ilqr_cost.Lx[0]"
   ]
  },
  {
   "cell_type": "code",
   "execution_count": 106,
   "metadata": {},
   "outputs": [
    {
     "data": {
      "text/plain": [
       "array([[0., 0.],\n",
       "       [0., 0.],\n",
       "       [0., 0.],\n",
       "       [0., 0.]])"
      ]
     },
     "execution_count": 106,
     "metadata": {},
     "output_type": "execute_result"
    }
   ],
   "source": [
    "ilqr_cost.Fu[0]"
   ]
  },
  {
   "cell_type": "code",
   "execution_count": 107,
   "metadata": {},
   "outputs": [
    {
     "data": {
      "text/plain": [
       "array([0., 0.])"
      ]
     },
     "execution_count": 107,
     "metadata": {},
     "output_type": "execute_result"
    }
   ],
   "source": [
    "ilqr_cost.Qu[0]"
   ]
  },
  {
   "cell_type": "code",
   "execution_count": 108,
   "metadata": {},
   "outputs": [
    {
     "data": {
      "text/plain": [
       "array([[0., 0.],\n",
       "       [0., 0.]])"
      ]
     },
     "execution_count": 108,
     "metadata": {},
     "output_type": "execute_result"
    }
   ],
   "source": [
    "ilqr_cost.Quu[0]"
   ]
  },
  {
   "cell_type": "code",
   "execution_count": 109,
   "metadata": {},
   "outputs": [
    {
     "data": {
      "text/plain": [
       "array([[0., 0., 0., 0.],\n",
       "       [0., 0., 0., 0.],\n",
       "       [0., 0., 0., 0.],\n",
       "       [0., 0., 0., 0.]])"
      ]
     },
     "execution_count": 109,
     "metadata": {},
     "output_type": "execute_result"
    }
   ],
   "source": [
    "ilqr_cost.Vxx[0]"
   ]
  },
  {
   "cell_type": "code",
   "execution_count": null,
   "metadata": {},
   "outputs": [],
   "source": []
  },
  {
   "cell_type": "raw",
   "metadata": {},
   "source": [
    "+ self.Fu[i].T.dot(self.Vxx[i+1]).dot(self.Fu[i]) + self.mu*np.eye(self.Du)"
   ]
  },
  {
   "cell_type": "raw",
   "metadata": {},
   "source": [
    "np.linalg.inv(ilqr_cost.Quu[0]).dot(ilqr_cost.Qu[0])"
   ]
  },
  {
   "cell_type": "code",
   "execution_count": 110,
   "metadata": {},
   "outputs": [],
   "source": [
    "n_iter = 10\n",
    "ilqr_cost.solve(n_iter, method='batch')\n",
    "xs_batch, us_batch = ilqr_cost.xs, ilqr_cost.us\n",
    "\n",
    "clear_output()"
   ]
  },
  {
   "cell_type": "code",
   "execution_count": 111,
   "metadata": {},
   "outputs": [],
   "source": [
    "idx = -1"
   ]
  },
  {
   "cell_type": "code",
   "execution_count": 112,
   "metadata": {},
   "outputs": [
    {
     "data": {
      "image/png": "[encoded data removed]",
      "text/plain": [
       "<Figure size 432x288 with 1 Axes>"
      ]
     },
     "metadata": {
      "needs_background": "light"
     },
     "output_type": "display_data"
    }
   ],
   "source": [
    "fig, ax = plt.subplots()\n",
    "ax.plot(xs_batch[:idx,0], xs_batch[:idx,1], 'b-o', label='batch')\n",
    "ax.plot(p_obs1[0], p_obs1[1], 'o', markersize=10)\n",
    "c1 = plt.Circle(p_obs1, radius=r_obs1)\n",
    "ax.add_patch(c1)\n",
    "ax.legend()\n",
    "plt.axis('equal')\n",
    "plt.show()"
   ]
  },
  {
   "cell_type": "code",
   "execution_count": 70,
   "metadata": {},
   "outputs": [
    {
     "data": {
      "text/plain": [
       "[<matplotlib.lines.Line2D at 0x7f16870e14d0>]"
      ]
     },
     "execution_count": 70,
     "metadata": {},
     "output_type": "execute_result"
    },
    {
     "data": {
      "image/png": "[encoded data removed]",
      "text/plain": [
       "<Figure size 432x288 with 1 Axes>"
      ]
     },
     "metadata": {
      "needs_background": "light"
     },
     "output_type": "display_data"
    }
   ],
   "source": [
    "plt.plot(xs_batch[:idx,0],'b-o', label='batch')"
   ]
  },
  {
   "cell_type": "code",
   "execution_count": 24,
   "metadata": {},
   "outputs": [
    {
     "data": {
      "text/plain": [
       "[<matplotlib.lines.Line2D at 0x7f1687448fd0>]"
      ]
     },
     "execution_count": 24,
     "metadata": {},
     "output_type": "execute_result"
    },
    {
     "data": {
      "image/png": "[encoded data removed]",
      "text/plain": [
       "<Figure size 432x288 with 1 Axes>"
      ]
     },
     "metadata": {
      "needs_background": "light"
     },
     "output_type": "display_data"
    }
   ],
   "source": [
    "plt.plot(xs_batch[:idx,1],'b-o', label='batch')"
   ]
  },
  {
   "cell_type": "markdown",
   "metadata": {},
   "source": [
    "#### Print obstacle costs"
   ]
  },
  {
   "cell_type": "raw",
   "metadata": {},
   "source": [
    "ilqr_cost.calc_cost(xs, us)\n",
    "\n",
    "ilqr_cost.set_state(xs,us)\n",
    "\n",
    "ilqr_cost.calc_diff()"
   ]
  },
  {
   "cell_type": "code",
   "execution_count": 162,
   "metadata": {},
   "outputs": [
    {
     "data": {
      "text/plain": [
       "array([[-0.5556,  0.    ,  0.    ,  0.    ],\n",
       "       [ 0.    , -0.5556,  0.    ,  0.    ],\n",
       "       [ 0.    ,  0.    ,  0.    ,  0.    ],\n",
       "       [ 0.    ,  0.    ,  0.    ,  0.    ]])"
      ]
     },
     "execution_count": 162,
     "metadata": {},
     "output_type": "execute_result"
    }
   ],
   "source": [
    "ilqr_cost.costs[0].Lxx"
   ]
  },
  {
   "cell_type": "code",
   "execution_count": 161,
   "metadata": {},
   "outputs": [
    {
     "name": "stdout",
     "output_type": "stream",
     "text": [
      "(0, array([0.3333, 0.2778, 0.    , 0.    ]))\n",
      "(1, array([0.3333, 0.2778, 0.    , 0.    ]))\n",
      "(2, array([0.3275, 0.2729, 0.    , 0.    ]))\n",
      "(3, array([0.3104, 0.2587, 0.    , 0.    ]))\n",
      "(4, array([0.2798, 0.2332, 0.    , 0.    ]))\n",
      "(5, array([0.2362, 0.1968, 0.    , 0.    ]))\n",
      "(6, array([0.1825, 0.1521, 0.    , 0.    ]))\n",
      "(7, array([0.1235, 0.1029, 0.    , 0.    ]))\n",
      "(8, array([0.0651, 0.0542, 0.    , 0.    ]))\n",
      "(9, array([0.0133, 0.0111, 0.    , 0.    ]))\n",
      "(10, array([-0.0263, -0.0219,  0.    ,  0.    ]))\n",
      "(11, array([-0.0494, -0.0411,  0.    ,  0.    ]))\n",
      "(12, array([-0.0536, -0.0446,  0.    ,  0.    ]))\n",
      "(13, array([-0.0385, -0.0321,  0.    ,  0.    ]))\n",
      "(14, array([-0.0062, -0.0052,  0.    ,  0.    ]))\n",
      "(15, array([0.0395, 0.0329, 0.    , 0.    ]))\n",
      "(16, array([0.0931, 0.0776, 0.    , 0.    ]))\n",
      "(17, array([0.1483, 0.1236, 0.    , 0.    ]))\n",
      "(18, array([0.1985, 0.1654, 0.    , 0.    ]))\n",
      "(19, array([0.2377, 0.1981, 0.    , 0.    ]))\n",
      "(20, array([0.2614, 0.2179, 0.    , 0.    ]))\n",
      "(21, array([0.2668, 0.2223, 0.    , 0.    ]))\n",
      "(22, array([0.2531, 0.2109, 0.    , 0.    ]))\n",
      "(23, array([0.222, 0.185, 0.   , 0.   ]))\n",
      "(24, array([0.1771, 0.1476, 0.    , 0.    ]))\n",
      "(25, array([0.1238, 0.1032, 0.    , 0.    ]))\n",
      "(26, array([0.0683, 0.0569, 0.    , 0.    ]))\n",
      "(27, array([0.0172, 0.0143, 0.    , 0.    ]))\n",
      "(28, array([-0.0236, -0.0197,  0.    ,  0.    ]))\n",
      "(29, array([-0.0492, -0.041 ,  0.    ,  0.    ]))\n",
      "(30, array([-0.0565, -0.0471,  0.    ,  0.    ]))\n",
      "(31, array([-0.0449, -0.0374,  0.    ,  0.    ]))\n",
      "(32, array([-0.0155, -0.0129,  0.    ,  0.    ]))\n",
      "(33, array([0.0281, 0.0234, 0.    , 0.    ]))\n",
      "(34, array([0.0808, 0.0673, 0.    , 0.    ]))\n",
      "(35, array([0.1364, 0.1136, 0.    , 0.    ]))\n",
      "(36, array([0.1883, 0.1569, 0.    , 0.    ]))\n",
      "(37, array([0.2304, 0.192 , 0.    , 0.    ]))\n",
      "(38, array([0.2577, 0.2148, 0.    , 0.    ]))\n",
      "(39, array([0.2671, 0.2226, 0.    , 0.    ]))\n",
      "(40, array([0.2574, 0.2145, 0.    , 0.    ]))\n",
      "(41, array([0.2298, 0.1915, 0.    , 0.    ]))\n",
      "(42, array([0.1875, 0.1562, 0.    , 0.    ]))\n",
      "(43, array([0.1355, 0.1129, 0.    , 0.    ]))\n",
      "(44, array([0.0799, 0.0666, 0.    , 0.    ]))\n",
      "(45, array([0.0273, 0.0228, 0.    , 0.    ]))\n",
      "(46, array([-0.0161, -0.0134,  0.    ,  0.    ]))\n",
      "(47, array([-0.0452, -0.0377,  0.    ,  0.    ]))\n",
      "(48, array([-0.0566, -0.0471,  0.    ,  0.    ]))\n",
      "(49, array([-0.0489, -0.0407,  0.    ,  0.    ]))\n",
      "(50, array([-0.023 , -0.0192,  0.    ,  0.    ]))\n",
      "(51, array([0.0179, 0.0149, 0.    , 0.    ]))\n",
      "(52, array([0.0692, 0.0577, 0.    , 0.    ]))\n",
      "(53, array([0.1247, 0.1039, 0.    , 0.    ]))\n",
      "(54, array([0.1779, 0.1482, 0.    , 0.    ]))\n",
      "(55, array([0.2225, 0.1855, 0.    , 0.    ]))\n",
      "(56, array([0.2534, 0.2111, 0.    , 0.    ]))\n",
      "(57, array([0.2667, 0.2223, 0.    , 0.    ]))\n",
      "(58, array([0.2611, 0.2176, 0.    , 0.    ]))\n",
      "(59, array([0.237 , 0.1975, 0.    , 0.    ]))\n",
      "(60, array([0.1975, 0.1646, 0.    , 0.    ]))\n",
      "(61, array([0.147 , 0.1225, 0.    , 0.    ]))\n",
      "(62, array([0.0917, 0.0764, 0.    , 0.    ]))\n",
      "(63, array([0.0379, 0.0316, 0.    , 0.    ]))\n",
      "(64, array([-0.0079, -0.0066,  0.    ,  0.    ]))\n",
      "(65, array([-0.0404, -0.0337,  0.    ,  0.    ]))\n",
      "(66, array([-0.0557, -0.0465,  0.    ,  0.    ]))\n",
      "(67, array([-0.0521, -0.0434,  0.    ,  0.    ]))\n",
      "(68, array([-0.0299, -0.0249,  0.    ,  0.    ]))\n",
      "(69, array([0.0082, 0.0068, 0.    , 0.    ]))\n",
      "(70, array([0.0577, 0.0481, 0.    , 0.    ]))\n",
      "(71, array([0.1129, 0.0941, 0.    , 0.    ]))\n",
      "(72, array([0.1671, 0.1393, 0.    , 0.    ]))\n",
      "(73, array([0.2141, 0.1784, 0.    , 0.    ]))\n",
      "(74, array([0.2482, 0.2068, 0.    , 0.    ]))\n",
      "(75, array([0.2655, 0.2212, 0.    , 0.    ]))\n",
      "(76, array([0.2638, 0.2199, 0.    , 0.    ]))\n",
      "(77, array([0.2435, 0.2029, 0.    , 0.    ]))\n",
      "(78, array([0.2069, 0.1724, 0.    , 0.    ]))\n",
      "(79, array([0.1583, 0.1319, 0.    , 0.    ]))\n",
      "(80, array([0.1034, 0.0862, 0.    , 0.    ]))\n",
      "(81, array([0.0487, 0.0406, 0.    , 0.    ]))\n",
      "(82, array([0.0006, 0.0005, 0.    , 0.    ]))\n",
      "(83, array([-0.0351, -0.0293,  0.    ,  0.    ]))\n",
      "(84, array([-0.0545, -0.0454,  0.    ,  0.    ]))\n",
      "(85, array([-0.055 , -0.0459,  0.    ,  0.    ]))\n",
      "(86, array([-0.0369, -0.0307,  0.    ,  0.    ]))\n",
      "(87, array([-0.0021, -0.0018,  0.    ,  0.    ]))\n",
      "(88, array([0.045 , 0.0375, 0.    , 0.    ]))\n",
      "(89, array([0.0988, 0.0824, 0.    , 0.    ]))\n",
      "(90, array([0.1529, 0.1274, 0.    , 0.    ]))\n",
      "(91, array([0.2006, 0.1672, 0.    , 0.    ]))\n",
      "(92, array([0.2361, 0.1967, 0.    , 0.    ]))\n",
      "(93, array([0.2547, 0.2122, 0.    , 0.    ]))\n",
      "(94, array([0.2536, 0.2113, 0.    , 0.    ]))\n",
      "(95, array([0.2321, 0.1934, 0.    , 0.    ]))\n",
      "(96, array([0.1916, 0.1597, 0.    , 0.    ]))\n",
      "(97, array([0.1353, 0.1127, 0.    , 0.    ]))\n",
      "(98, array([0.0673, 0.0561, 0.    , 0.    ]))\n",
      "(99, array([-0.0075, -0.0062,  0.    ,  0.    ]))\n",
      "(100, array([-0.0849, -0.0708,  0.    ,  0.    ]))\n"
     ]
    }
   ],
   "source": [
    "for i in range(T+1):\n",
    "    cost_obs = ilqr_cost.costs[i].costs[-1]\n",
    "    print(i, cost_obs.Lx)"
   ]
  },
  {
   "cell_type": "markdown",
   "metadata": {},
   "source": [
    "#### Check derivative"
   ]
  },
  {
   "cell_type": "code",
   "execution_count": 139,
   "metadata": {},
   "outputs": [
    {
     "data": {
      "text/plain": [
       "array([0.6, 0.5])"
      ]
     },
     "execution_count": 139,
     "metadata": {},
     "output_type": "execute_result"
    }
   ],
   "source": [
    "p_obs1"
   ]
  },
  {
   "cell_type": "code",
   "execution_count": 146,
   "metadata": {},
   "outputs": [
    {
     "name": "stdout",
     "output_type": "stream",
     "text": [
      "-0.16000000000000003\n"
     ]
    }
   ],
   "source": [
    "x = np.array([1., .9, 0, 0])\n",
    "u = np.zeros(2)\n",
    "\n",
    "cost0 = runningObstacleCost.calc(x, u)\n",
    "print(cost0)"
   ]
  },
  {
   "cell_type": "code",
   "execution_count": 130,
   "metadata": {},
   "outputs": [
    {
     "name": "stdout",
     "output_type": "stream",
     "text": [
      "-0.0003831179667335694\n",
      "-0.00035821429009708186\n",
      "[-0.0271 -0.0022]\n",
      "[-0.0266 -0.0017  0.      0.    ]\n"
     ]
    }
   ],
   "source": [
    "J = np.zeros(2)\n",
    "inc = 0.001\n",
    "for i in range(2):\n",
    "    xn = x.copy()\n",
    "    xn[i] += inc\n",
    "    costn = runningObstacleCost.calc(xn, u)\n",
    "    dc = (costn-cost0)/inc\n",
    "    print(costn)\n",
    "    J[i] = dc\n",
    "print(J)\n",
    "\n",
    "runningObstacleCost.calc(x, u)\n",
    "\n",
    "runningObstacleCost.calcDiff(x, u)\n",
    "print(runningObstacleCost.Lx)"
   ]
  }
 ],
 "metadata": {
  "kernelspec": {
   "display_name": "Python 2",
   "language": "python",
   "name": "python2"
  },
  "language_info": {
   "codemirror_mode": {
    "name": "ipython",
    "version": 2
   },
   "file_extension": ".py",
   "mimetype": "text/x-python",
   "name": "python",
   "nbconvert_exporter": "python",
   "pygments_lexer": "ipython2",
   "version": "2.7.12"
  }
 },
 "nbformat": 4,
 "nbformat_minor": 2
}
