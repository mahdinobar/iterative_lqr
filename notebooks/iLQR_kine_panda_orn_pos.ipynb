{
 "cells": [
  {
   "cell_type": "markdown",
   "metadata": {},
   "source": [
    "#### iLQR for kinematic example"
   ]
  },
  {
   "cell_type": "code",
   "execution_count": 1,
   "metadata": {},
   "outputs": [],
   "source": [
    "import numpy as np\n",
    "import matplotlib.pyplot as plt\n",
    "from IPython.display import clear_output\n",
    "import time\n",
    "from ocp import *\n",
    "from costs import *\n",
    "from ocp_utils import *\n",
    "\n",
    "import pybullet as p\n",
    "import pybullet_data\n",
    "\n",
    "%load_ext autoreload\n",
    "%autoreload 2\n",
    "np.set_printoptions(precision=4, suppress=True)"
   ]
  },
  {
   "cell_type": "markdown",
   "metadata": {},
   "source": [
    "#### Setup pybullet with the urdf"
   ]
  },
  {
   "cell_type": "code",
   "execution_count": 2,
   "metadata": {},
   "outputs": [],
   "source": [
    "# configure pybullet and load plane.urdf and quadcopter.urdf\n",
    "#physicsClient = p.connect(p.DIRECT)  # pybullet only for computations no visualisation, faster\n",
    "physicsClient = p.connect(p.GUI)  # pybullet with visualisation\n",
    "p.configureDebugVisualizer(p.COV_ENABLE_GUI,0)\n",
    "\n",
    "p.setAdditionalSearchPath(pybullet_data.getDataPath())"
   ]
  },
  {
   "cell_type": "code",
   "execution_count": 3,
   "metadata": {},
   "outputs": [],
   "source": [
    "p.resetSimulation()\n",
    "\n",
    "robot_urdf = \"../data/urdf/frankaemika_new/panda_arm.urdf\"\n",
    "robot_id = p.loadURDF(robot_urdf, useFixedBase=1)\n",
    "joint_limits = get_joint_limits(robot_id, 7)\n",
    "\n",
    "p.loadURDF('plane.urdf')\n",
    "\n",
    "#Define the end-effector\n",
    "link_id = 10\n",
    "link_name = 'panda_grasptarget_hand'\n",
    "\n",
    "#Create a ball to show the target\n",
    "_,_,ballId = create_primitives(radius=0.05)"
   ]
  },
  {
   "cell_type": "markdown",
   "metadata": {},
   "source": [
    "### Construct the robot system"
   ]
  },
  {
   "cell_type": "code",
   "execution_count": 4,
   "metadata": {},
   "outputs": [],
   "source": [
    "dt = 0.05\n",
    "T = 100\n",
    "dof = 7\n",
    "sys = URDFRobot(dof=dof, robot_id=robot_id, dt = dt)"
   ]
  },
  {
   "cell_type": "markdown",
   "metadata": {},
   "source": [
    "#### Find a suitable target orientation"
   ]
  },
  {
   "cell_type": "code",
   "execution_count": 72,
   "metadata": {},
   "outputs": [
    {
     "name": "stdout",
     "output_type": "stream",
     "text": [
      "Target orientation:  [ 0.1628  0.941  -0.2712 -0.1204]\n",
      "Target position:  [-0.126   0.152   0.7095]\n"
     ]
    }
   ],
   "source": [
    "qT = np.random.uniform(-1,1,7)\n",
    "qT[3] -= 1\n",
    "qT[5] += 1\n",
    "xT = np.concatenate([qT, np.zeros(7)])\n",
    "sys.set_init_state(xT)\n",
    "target_pos,target_orn = sys.compute_ee(xT,link_id)\n",
    "print(\"Target orientation: \",target_orn)\n",
    "print(\"Target position: \",target_pos)"
   ]
  },
  {
   "cell_type": "markdown",
   "metadata": {},
   "source": [
    "#### Set the initial state"
   ]
  },
  {
   "cell_type": "code",
   "execution_count": 73,
   "metadata": {},
   "outputs": [
    {
     "name": "stdout",
     "output_type": "stream",
     "text": [
      "X0 orientation:  [ 0.9239  0.3827 -0.      0.    ]\n"
     ]
    }
   ],
   "source": [
    "q0 = np.random.rand(7)\n",
    "q0 = np.array([0.,0.,0.,-1.5,0.,1.5,0.])\n",
    "#q0 = np.array([0.4201, 0.4719, 0.9226, 0.8089, 0.3113, 0.7598, 0.364 ])\n",
    "x0 = np.concatenate([q0, np.zeros(7)])\n",
    "sys.set_init_state(x0)\n",
    "x0_pos,x0_orn = sys.compute_ee(x0,link_id)\n",
    "print(\"X0 orientation: \",x0_orn)"
   ]
  },
  {
   "cell_type": "markdown",
   "metadata": {},
   "source": [
    "#### Add a target visual feedback"
   ]
  },
  {
   "cell_type": "code",
   "execution_count": 74,
   "metadata": {},
   "outputs": [],
   "source": [
    "p.resetBasePositionAndOrientation(ballId, target_pos, target_orn)"
   ]
  },
  {
   "cell_type": "markdown",
   "metadata": {},
   "source": [
    "#### Set initial control output"
   ]
  },
  {
   "cell_type": "code",
   "execution_count": 75,
   "metadata": {},
   "outputs": [],
   "source": [
    "#set initial control output to be all zeros\n",
    "us = np.zeros((T+1,sys.Du))\n",
    "_ = sys.compute_matrices(x0, us[0])\n",
    "xs = sys.rollout(us[:-1])"
   ]
  },
  {
   "cell_type": "markdown",
   "metadata": {},
   "source": [
    "#### Plot initial trajectory"
   ]
  },
  {
   "cell_type": "raw",
   "metadata": {},
   "source": [
    "sys.vis_traj(xs)"
   ]
  },
  {
   "cell_type": "markdown",
   "metadata": {},
   "source": [
    "#### Set the regularization cost coefficients Q and R "
   ]
  },
  {
   "cell_type": "code",
   "execution_count": 76,
   "metadata": {},
   "outputs": [],
   "source": [
    "Q = np.eye(sys.Dx)*1\n",
    "Q[0:sys.dof,0:sys.dof] *= 0.01  #only put cost regularization on the velocity, not on the joint angles\n",
    "Qf = np.eye(sys.Dx)*1\n",
    "Qf[0:sys.dof,0:sys.dof] *= 0.01 #only put cost regularization on the velocity, not on the joint angles\n",
    "R = np.eye(sys.Du)*1e-9\n",
    "mu = 1e-9          #regularization coefficient"
   ]
  },
  {
   "cell_type": "markdown",
   "metadata": {},
   "source": [
    "#### Set the task space cost coefficients W & WT"
   ]
  },
  {
   "cell_type": "code",
   "execution_count": 77,
   "metadata": {},
   "outputs": [],
   "source": [
    "W = np.diag([10,10,10])\n",
    "WT = np.diag([100,100,100])\n",
    "W_ori = np.diag([.1,.1,.1])\n",
    "WT_ori = np.diag([1,1,1])"
   ]
  },
  {
   "cell_type": "markdown",
   "metadata": {},
   "source": [
    "### iLQR using cost model"
   ]
  },
  {
   "cell_type": "markdown",
   "metadata": {},
   "source": [
    "#### Define the cost"
   ]
  },
  {
   "cell_type": "code",
   "execution_count": 78,
   "metadata": {},
   "outputs": [],
   "source": [
    "#The costs consist of: a) state regularization (Q), b) control regularization (R), and c) End-effector reaching task (W)\n",
    "#Running cost is for the time 0 <= t < T, while terminal cost is for the time t = T\n",
    "runningStateCost = CostModelQuadratic(sys, Q)\n",
    "runningControlCost = CostModelQuadratic(sys, None, R)\n",
    "runningEECostPosition = CostModelQuadraticTranslation(sys,W, link_id,target_pos)\n",
    "runningEECostOrientation = CostModelQuadraticOrientation(sys,W_ori, link_id,target_orn)\n",
    "runningCost = CostModelSum(sys, [runningStateCost, runningControlCost, runningEECostPosition, runningEECostOrientation])\n",
    "\n",
    "terminalStateCost = CostModelQuadratic(sys,Qf)\n",
    "terminalControlCost = CostModelQuadratic(sys, None,R)\n",
    "terminalEECostPosition = CostModelQuadraticTranslation(sys,WT, link_id,target_pos)\n",
    "terminalEECostOrientation = CostModelQuadraticOrientation(sys,WT_ori, link_id,target_orn)\n",
    "terminalCost = CostModelSum(sys, [terminalStateCost, terminalControlCost, terminalEECostPosition, terminalEECostOrientation])\n",
    "\n",
    "costs = [runningCost]*T + [terminalCost]"
   ]
  },
  {
   "cell_type": "markdown",
   "metadata": {},
   "source": [
    "#### Construct ILQR"
   ]
  },
  {
   "cell_type": "code",
   "execution_count": 79,
   "metadata": {},
   "outputs": [],
   "source": [
    "ilqr_cost = ILQR(sys, mu)\n",
    "ilqr_cost.set_init_state(x0)\n",
    "ilqr_cost.set_timestep(T)\n",
    "ilqr_cost.set_cost(costs)\n",
    "ilqr_cost.set_state(xs, us) #set initial trajectory"
   ]
  },
  {
   "cell_type": "code",
   "execution_count": 80,
   "metadata": {},
   "outputs": [],
   "source": [
    "ilqr_cost.mu = mu"
   ]
  },
  {
   "cell_type": "markdown",
   "metadata": {},
   "source": [
    "#### Solve and Plot"
   ]
  },
  {
   "cell_type": "code",
   "execution_count": 81,
   "metadata": {
    "scrolled": true
   },
   "outputs": [
    {
     "name": "stdout",
     "output_type": "stream",
     "text": [
      "Cost converges at iteration 9, cannot decrease further\n"
     ]
    }
   ],
   "source": [
    "n_iter = 30\n",
    "ilqr_cost.solve(n_iter, method='recursive')\n",
    "xs_batch, us_batch = ilqr_cost.xs, ilqr_cost.us\n",
    "\n",
    "#clear_output()"
   ]
  },
  {
   "cell_type": "markdown",
   "metadata": {},
   "source": [
    "#### Play traj"
   ]
  },
  {
   "cell_type": "code",
   "execution_count": 82,
   "metadata": {},
   "outputs": [],
   "source": [
    "sys.vis_traj(ilqr_cost.xs)"
   ]
  },
  {
   "cell_type": "markdown",
   "metadata": {},
   "source": [
    "#### Compute Error"
   ]
  },
  {
   "cell_type": "code",
   "execution_count": 83,
   "metadata": {},
   "outputs": [],
   "source": [
    "pos, quat = sys.compute_ee(ilqr_cost.xs[-1], link_id)"
   ]
  },
  {
   "cell_type": "code",
   "execution_count": 84,
   "metadata": {},
   "outputs": [
    {
     "name": "stdout",
     "output_type": "stream",
     "text": [
      "Position error:  [ 0.0009 -0.0044 -0.0034]\n",
      "Absolute position error:  0.005635567552113992\n"
     ]
    }
   ],
   "source": [
    "print(\"Position error: \", target_pos - pos)\n",
    "print(\"Absolute position error: \", np.linalg.norm(target_pos - pos))"
   ]
  },
  {
   "cell_type": "code",
   "execution_count": 87,
   "metadata": {},
   "outputs": [
    {
     "name": "stdout",
     "output_type": "stream",
     "text": [
      "Position error:  [-0.0681 -0.0045 -0.0448 -0.0816]\n",
      "Absolute position error:  0.11547126383518339\n"
     ]
    }
   ],
   "source": [
    "print(\"Position error: \", target_orn - quat)\n",
    "print(\"Absolute position error: \", np.linalg.norm(target_orn - quat))"
   ]
  },
  {
   "cell_type": "code",
   "execution_count": 92,
   "metadata": {},
   "outputs": [],
   "source": [
    "desired_orn_mat = quat2Mat( target_orn )\n",
    "obtained_orn_mat = quat2Mat( quat )\n",
    "\n",
    "desired_frame = np.identity(4)\n",
    "desired_frame[:3,:3] = desired_orn_mat\n",
    "\n",
    "obtained_frame = np.identity(4)\n",
    "obtained_frame[:3,:3] = obtained_orn_mat"
   ]
  },
  {
   "cell_type": "code",
   "execution_count": 25,
   "metadata": {},
   "outputs": [
    {
     "data": {
      "image/png": "[encoded data removed]",
      "text/plain": [
       "<Figure size 432x288 with 1 Axes>"
      ]
     },
     "metadata": {
      "needs_background": "light"
     },
     "output_type": "display_data"
    }
   ],
   "source": [
    "%matplotlib inline\n",
    "from mpl_toolkits.mplot3d import Axes3D\n",
    "fig = plt.figure()\n",
    "ax = fig.add_subplot(111, projection='3d')\n",
    "plot_pose_matrix(ax,desired_frame,'')\n",
    "plot_pose_matrix(ax,obtained_frame,'')\n",
    "set_axes_equal(ax)\n",
    "plt.show()"
   ]
  }
 ],
 "metadata": {
  "kernelspec": {
   "display_name": "Python 3",
   "language": "python",
   "name": "python3"
  },
  "language_info": {
   "codemirror_mode": {
    "name": "ipython",
    "version": 3
   },
   "file_extension": ".py",
   "mimetype": "text/x-python",
   "name": "python",
   "nbconvert_exporter": "python",
   "pygments_lexer": "ipython3",
   "version": "3.8.3"
  }
 },
 "nbformat": 4,
 "nbformat_minor": 4
}
