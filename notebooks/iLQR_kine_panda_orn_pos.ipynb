{
 "cells": [
  {
   "cell_type": "markdown",
   "metadata": {},
   "source": [
    "#### iLQR for kinematic example"
   ]
  },
  {
   "cell_type": "code",
   "execution_count": 1,
   "metadata": {},
   "outputs": [],
   "source": [
    "import numpy as np\n",
    "import matplotlib.pyplot as plt\n",
    "from IPython.display import clear_output\n",
    "import time\n",
    "from ocp import *\n",
    "from costs import *\n",
    "from ocp_utils import *\n",
    "\n",
    "import pybullet as p\n",
    "import pybullet_data\n",
    "\n",
    "%load_ext autoreload\n",
    "%autoreload 2\n",
    "np.set_printoptions(precision=4, suppress=True)"
   ]
  },
  {
   "cell_type": "markdown",
   "metadata": {},
   "source": [
    "#### Setup pybullet with the urdf"
   ]
  },
  {
   "cell_type": "code",
   "execution_count": 2,
   "metadata": {},
   "outputs": [],
   "source": [
    "# configure pybullet and load plane.urdf and quadcopter.urdf\n",
    "#physicsClient = p.connect(p.DIRECT)  # pybullet only for computations no visualisation, faster\n",
    "physicsClient = p.connect(p.GUI)  # pybullet with visualisation\n",
    "p.configureDebugVisualizer(p.COV_ENABLE_GUI,0)\n",
    "\n",
    "p.setAdditionalSearchPath(pybullet_data.getDataPath())"
   ]
  },
  {
   "cell_type": "code",
   "execution_count": 3,
   "metadata": {},
   "outputs": [],
   "source": [
    "p.resetSimulation()\n",
    "\n",
    "robot_urdf = \"../data/urdf/frankaemika_new/panda_arm.urdf\"\n",
    "robot_id = p.loadURDF(robot_urdf, useFixedBase=1)\n",
    "joint_limits = get_joint_limits(robot_id, 7)\n",
    "\n",
    "p.loadURDF('plane.urdf')\n",
    "\n",
    "#Define the end-effector\n",
    "link_id = 10\n",
    "link_name = 'panda_grasptarget_hand'\n",
    "\n",
    "#Create a ball to show the target\n",
    "_,_,ballId = create_primitives(radius=0.05)"
   ]
  },
  {
   "cell_type": "markdown",
   "metadata": {},
   "source": [
    "### Construct the robot system"
   ]
  },
  {
   "cell_type": "code",
   "execution_count": 4,
   "metadata": {},
   "outputs": [],
   "source": [
    "dt = 0.05\n",
    "T = 100\n",
    "dof = 7\n",
    "sys = URDFRobot(dof=dof, robot_id=robot_id, dt = dt)"
   ]
  },
  {
   "cell_type": "markdown",
   "metadata": {},
   "source": [
    "#### Find a suitable target orientation"
   ]
  },
  {
   "cell_type": "code",
   "execution_count": 5,
   "metadata": {},
   "outputs": [
    {
     "name": "stdout",
     "output_type": "stream",
     "text": [
      "Target orientation:  [ 0.9696 -0.0215 -0.1469  0.1945]\n",
      "Target position:  [ 0.1441 -0.1148  0.7294]\n"
     ]
    }
   ],
   "source": [
    "qT = np.random.uniform(-1,1,7)\n",
    "qT[3] -= 1\n",
    "qT[5] += 1\n",
    "xT = np.concatenate([qT, np.zeros(7)])\n",
    "sys.set_init_state(xT)\n",
    "target_pos,target_orn = sys.compute_ee(xT,link_id)\n",
    "print(\"Target orientation: \",target_orn)\n",
    "print(\"Target position: \",target_pos)"
   ]
  },
  {
   "cell_type": "markdown",
   "metadata": {},
   "source": [
    "#### Set the initial state"
   ]
  },
  {
   "cell_type": "code",
   "execution_count": 6,
   "metadata": {},
   "outputs": [
    {
     "name": "stdout",
     "output_type": "stream",
     "text": [
      "X0 orientation:  [ 0.9239  0.3827 -0.      0.    ]\n"
     ]
    }
   ],
   "source": [
    "q0 = np.random.rand(7)\n",
    "q0 = np.array([0.,0.,0.,-1.5,0.,1.5,0.])\n",
    "#q0 = np.array([0.4201, 0.4719, 0.9226, 0.8089, 0.3113, 0.7598, 0.364 ])\n",
    "x0 = np.concatenate([q0, np.zeros(7)])\n",
    "sys.set_init_state(x0)\n",
    "x0_pos,x0_orn = sys.compute_ee(x0,link_id)\n",
    "print(\"X0 orientation: \",x0_orn)"
   ]
  },
  {
   "cell_type": "markdown",
   "metadata": {},
   "source": [
    "#### Add a target visual feedback"
   ]
  },
  {
   "cell_type": "code",
   "execution_count": 7,
   "metadata": {},
   "outputs": [],
   "source": [
    "p.resetBasePositionAndOrientation(ballId, target_pos, target_orn)"
   ]
  },
  {
   "cell_type": "markdown",
   "metadata": {},
   "source": [
    "#### Set initial control output"
   ]
  },
  {
   "cell_type": "code",
   "execution_count": 8,
   "metadata": {},
   "outputs": [],
   "source": [
    "#set initial control output to be all zeros\n",
    "us = np.zeros((T+1,sys.Du))\n",
    "_ = sys.compute_matrices(x0, us[0])\n",
    "xs = sys.rollout(us[:-1])"
   ]
  },
  {
   "cell_type": "markdown",
   "metadata": {},
   "source": [
    "#### Plot initial trajectory"
   ]
  },
  {
   "cell_type": "raw",
   "metadata": {},
   "source": [
    "sys.vis_traj(xs)"
   ]
  },
  {
   "cell_type": "markdown",
   "metadata": {},
   "source": [
    "#### Set the regularization cost coefficients Q and R "
   ]
  },
  {
   "cell_type": "code",
   "execution_count": 9,
   "metadata": {},
   "outputs": [],
   "source": [
    "Q = np.eye(sys.Dx)*1\n",
    "Q[0:sys.dof,0:sys.dof] *= 0.01  #only put cost regularization on the velocity, not on the joint angles\n",
    "Qf = np.eye(sys.Dx)*1\n",
    "Qf[0:sys.dof,0:sys.dof] *= 0.01 #only put cost regularization on the velocity, not on the joint angles\n",
    "R = np.eye(sys.Du)*1e-9\n",
    "mu = 1e-9          #regularization coefficient"
   ]
  },
  {
   "cell_type": "markdown",
   "metadata": {},
   "source": [
    "#### Set the task space cost coefficients W & WT"
   ]
  },
  {
   "cell_type": "code",
   "execution_count": 10,
   "metadata": {},
   "outputs": [],
   "source": [
    "W = np.diag([100,100,100,10,10,10])\n",
    "WT = np.diag([100,100,100,10,10,10])"
   ]
  },
  {
   "cell_type": "markdown",
   "metadata": {},
   "source": [
    "### iLQR using cost model"
   ]
  },
  {
   "cell_type": "markdown",
   "metadata": {},
   "source": [
    "#### Define the cost"
   ]
  },
  {
   "cell_type": "code",
   "execution_count": 11,
   "metadata": {},
   "outputs": [],
   "source": [
    "#The costs consist of: a) state regularization (Q), b) control regularization (R), and c) End-effector reaching task (W)\n",
    "#Running cost is for the time 0 <= t < T, while terminal cost is for the time t = T\n",
    "runningStateCost = CostModelQuadratic(sys, Q)\n",
    "runningControlCost = CostModelQuadratic(sys, None, R)\n",
    "runningEECost = CostModelQuadraticPositionOrientation(sys,W, link_id,target_orn,target_pos)\n",
    "runningCost = CostModelSum(sys, [runningStateCost, runningControlCost, runningEECost])\n",
    "\n",
    "terminalStateCost = CostModelQuadratic(sys,Qf)\n",
    "terminalControlCost = CostModelQuadratic(sys, None,R)\n",
    "terminalEECost = CostModelQuadraticPositionOrientation(sys,WT, link_id,target_orn,target_pos)\n",
    "terminalCost = CostModelSum(sys, [terminalStateCost, terminalControlCost, terminalEECost])\n",
    "\n",
    "costs = [runningCost]*T + [terminalCost]"
   ]
  },
  {
   "cell_type": "markdown",
   "metadata": {},
   "source": [
    "#### Construct ILQR"
   ]
  },
  {
   "cell_type": "code",
   "execution_count": 12,
   "metadata": {},
   "outputs": [],
   "source": [
    "ilqr_cost = ILQR(sys, mu)\n",
    "ilqr_cost.set_init_state(x0)\n",
    "ilqr_cost.set_timestep(T)\n",
    "ilqr_cost.set_cost(costs)\n",
    "ilqr_cost.set_state(xs, us) #set initial trajectory"
   ]
  },
  {
   "cell_type": "code",
   "execution_count": 13,
   "metadata": {},
   "outputs": [],
   "source": [
    "ilqr_cost.mu = mu"
   ]
  },
  {
   "cell_type": "markdown",
   "metadata": {},
   "source": [
    "#### Solve and Plot"
   ]
  },
  {
   "cell_type": "code",
   "execution_count": 14,
   "metadata": {
    "scrolled": true
   },
   "outputs": [
    {
     "name": "stdout",
     "output_type": "stream",
     "text": [
      "Cost converges at iteration 6, cannot decrease further\n"
     ]
    }
   ],
   "source": [
    "n_iter = 30\n",
    "ilqr_cost.solve(n_iter, method='recursive')\n",
    "xs_batch, us_batch = ilqr_cost.xs, ilqr_cost.us\n",
    "\n",
    "#clear_output()"
   ]
  },
  {
   "cell_type": "markdown",
   "metadata": {},
   "source": [
    "#### Play traj"
   ]
  },
  {
   "cell_type": "code",
   "execution_count": 15,
   "metadata": {},
   "outputs": [],
   "source": [
    "sys.vis_traj(ilqr_cost.xs)"
   ]
  },
  {
   "cell_type": "markdown",
   "metadata": {},
   "source": [
    "#### Compute Error"
   ]
  },
  {
   "cell_type": "code",
   "execution_count": 16,
   "metadata": {},
   "outputs": [],
   "source": [
    "pos, quat = sys.compute_ee(ilqr_cost.xs[-1], link_id)"
   ]
  },
  {
   "cell_type": "code",
   "execution_count": 17,
   "metadata": {},
   "outputs": [
    {
     "name": "stdout",
     "output_type": "stream",
     "text": [
      "Position error:  [-0.0003 -0.0002 -0.0011]\n",
      "Absolute position error:  0.0011418807651990155\n"
     ]
    }
   ],
   "source": [
    "print(\"Position error: \", target_pos - pos)\n",
    "print(\"Absolute position error: \", np.linalg.norm(target_pos - pos))"
   ]
  },
  {
   "cell_type": "code",
   "execution_count": 18,
   "metadata": {},
   "outputs": [],
   "source": [
    "def plot_pose_matrix(ax,T,label=None,scale=1):\n",
    "    base = T[:3,-1]\n",
    "    orn = T[:3,:3]\n",
    "    ax.plot([base[0],base[0]+scale*orn[0,0]],[base[1],base[1]+scale*orn[1,0]],[base[2],base[2]+scale*orn[2,0]],c='r')\n",
    "    ax.plot([base[0],base[0]+scale*orn[0,1]],[base[1],base[1]+scale*orn[1,1]],[base[2],base[2]+scale*orn[2,1]],c='g')\n",
    "    ax.plot([base[0],base[0]+scale*orn[0,2]],[base[1],base[1]+scale*orn[1,2]],[base[2],base[2]+scale*orn[2,2]],c='b')\n",
    "    \n",
    "    if label is not None:\n",
    "        ax.text(base[0],base[1],base[2],label)\n",
    "\n",
    "def set_axes_equal(ax):\n",
    "    '''Make axes of 3D plot have equal scale so that spheres appear as spheres,\n",
    "    cubes as cubes, etc..  This is one possible solution to Matplotlib's\n",
    "    ax.set_aspect('equal') and ax.axis('equal') not working for 3D.\n",
    "\n",
    "    Input\n",
    "      ax: a matplotlib axis, e.g., as output from plt.gca().\n",
    "    '''\n",
    "\n",
    "    x_limits = ax.get_xlim3d()\n",
    "    y_limits = ax.get_ylim3d()\n",
    "    z_limits = ax.get_zlim3d()\n",
    "\n",
    "    x_range = abs(x_limits[1] - x_limits[0])\n",
    "    x_middle = np.mean(x_limits)\n",
    "    y_range = abs(y_limits[1] - y_limits[0])\n",
    "    y_middle = np.mean(y_limits)\n",
    "    z_range = abs(z_limits[1] - z_limits[0])\n",
    "    z_middle = np.mean(z_limits)\n",
    "\n",
    "    # The plot bounding box is a sphere in the sense of the infinity\n",
    "    # norm, hence I call half the max range the plot radius.\n",
    "    plot_radius = 0.5*max([x_range, y_range, z_range])\n",
    "\n",
    "    ax.set_xlim3d([x_middle - plot_radius, x_middle + plot_radius])\n",
    "    ax.set_ylim3d([y_middle - plot_radius, y_middle + plot_radius])\n",
    "    ax.set_zlim3d([z_middle - plot_radius, z_middle + plot_radius])"
   ]
  },
  {
   "cell_type": "code",
   "execution_count": 19,
   "metadata": {},
   "outputs": [],
   "source": [
    "from scipy.spatial.transform import Rotation\n",
    "\n",
    "desired_orn_mat = Rotation.from_quat( target_orn ).as_matrix()\n",
    "obtained_orn_mat = Rotation.from_quat( quat ).as_matrix()\n",
    "\n",
    "desired_frame = np.identity(4)\n",
    "desired_frame[:3,:3] = desired_orn_mat\n",
    "\n",
    "obtained_frame = np.identity(4)\n",
    "obtained_frame[:3,:3] = obtained_orn_mat"
   ]
  },
  {
   "cell_type": "code",
   "execution_count": 20,
   "metadata": {},
   "outputs": [
    {
     "data": {
      "image/png": "[encoded data removed]",
      "text/plain": [
       "<Figure size 432x288 with 1 Axes>"
      ]
     },
     "metadata": {
      "needs_background": "light"
     },
     "output_type": "display_data"
    }
   ],
   "source": [
    "%matplotlib inline\n",
    "\n",
    "fig = plt.figure()\n",
    "ax = fig.add_subplot(111, projection='3d')\n",
    "plot_pose_matrix(ax,desired_frame,'')\n",
    "plot_pose_matrix(ax,obtained_frame,'')\n",
    "set_axes_equal(ax)\n",
    "plt.show()"
   ]
  },
  {
   "cell_type": "code",
   "execution_count": null,
   "metadata": {},
   "outputs": [],
   "source": []
  }
 ],
 "metadata": {
  "kernelspec": {
   "display_name": "Python 3",
   "language": "python",
   "name": "python3"
  },
  "language_info": {
   "codemirror_mode": {
    "name": "ipython",
    "version": 3
   },
   "file_extension": ".py",
   "mimetype": "text/x-python",
   "name": "python",
   "nbconvert_exporter": "python",
   "pygments_lexer": "ipython3",
   "version": "3.9.2"
  }
 },
 "nbformat": 4,
 "nbformat_minor": 4
}
