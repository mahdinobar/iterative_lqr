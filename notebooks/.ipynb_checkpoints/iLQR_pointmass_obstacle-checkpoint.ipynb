{
 "cells": [
  {
   "cell_type": "markdown",
   "metadata": {},
   "source": [
    "#### iLQR for point mass example"
   ]
  },
  {
   "cell_type": "code",
   "execution_count": 1,
   "metadata": {},
   "outputs": [],
   "source": [
    "import numpy as np\n",
    "import matplotlib.pyplot as plt\n",
    "from numpy import dot\n",
    "from numpy.linalg import inv\n",
    "from IPython.display import clear_output\n",
    "import time\n",
    "from ocp import *\n",
    "from costs import *\n",
    "%load_ext autoreload\n",
    "%autoreload 2\n",
    "\n",
    "np.set_printoptions(precision=4, suppress=True)"
   ]
  },
  {
   "cell_type": "markdown",
   "metadata": {},
   "source": [
    "#### Create point mass system with dimension 2 (double integrator)"
   ]
  },
  {
   "cell_type": "code",
   "execution_count": 2,
   "metadata": {},
   "outputs": [],
   "source": [
    "dt = 0.01\n",
    "T = 100\n",
    "Dx, Du = 4, 2\n",
    "A = np.eye(Dx)\n",
    "A[:2,2:] = np.eye(2)*dt\n",
    "B = np.zeros((Dx, Du))\n",
    "B[2:, :] = np.eye(Du)\n",
    "\n",
    "sys = LinearSystem(A, B)"
   ]
  },
  {
   "cell_type": "markdown",
   "metadata": {},
   "source": [
    "#### Set initial state and control trajectory"
   ]
  },
  {
   "cell_type": "code",
   "execution_count": 3,
   "metadata": {},
   "outputs": [],
   "source": [
    "x0 = np.zeros(Dx)\n",
    "x0[3] = 0\n",
    "sys.set_init_state(x0)\n",
    "\n",
    "#set initial control output to be all zeros\n",
    "us = np.zeros((T+1,sys.Du))\n",
    "_ = sys.compute_matrices(x0, us[0])\n",
    "xs = sys.rollout(us[:-1])"
   ]
  },
  {
   "cell_type": "markdown",
   "metadata": {},
   "source": [
    "#### Plot initial trajectory"
   ]
  },
  {
   "cell_type": "raw",
   "metadata": {},
   "source": [
    "sys.plot_traj(xs)"
   ]
  },
  {
   "cell_type": "markdown",
   "metadata": {},
   "source": [
    "#### Set the regularization cost coefficients Q and R "
   ]
  },
  {
   "cell_type": "code",
   "execution_count": 4,
   "metadata": {},
   "outputs": [],
   "source": [
    "Q = np.eye(sys.Dx)*1\n",
    "#Q[0:2,0:2] *= 0.0\n",
    "Qf = np.eye(sys.Dx)*100\n",
    "#Qf[0:2,0:2] *= 0.0\n",
    "R = np.eye(sys.Du)*.001\n",
    "mu = 1e-6"
   ]
  },
  {
   "cell_type": "markdown",
   "metadata": {},
   "source": [
    "#### Set reference target"
   ]
  },
  {
   "cell_type": "code",
   "execution_count": 5,
   "metadata": {},
   "outputs": [],
   "source": [
    "x_ref = np.array([2, 2, 0,0])"
   ]
  },
  {
   "cell_type": "markdown",
   "metadata": {},
   "source": [
    "#### Set obstacle"
   ]
  },
  {
   "cell_type": "code",
   "execution_count": 6,
   "metadata": {},
   "outputs": [],
   "source": [
    "p_obs1 = np.array([1.,0.6])\n",
    "Sigma_obs1 = np.diag([0.5, 0.5])\n",
    "w_obs1 = 0\n",
    "r_obs1 = 0.7"
   ]
  },
  {
   "cell_type": "markdown",
   "metadata": {},
   "source": [
    "### iLQR using cost model"
   ]
  },
  {
   "cell_type": "markdown",
   "metadata": {},
   "source": [
    "#### Define the cost"
   ]
  },
  {
   "cell_type": "code",
   "execution_count": 32,
   "metadata": {},
   "outputs": [],
   "source": [
    "#The costs consist of: a) state tracking (Q), b) control regularization (R)\n",
    "#Running cost is for the time 0 <= t < T, while terminal cost is for the time t = T\n",
    "costs = []\n",
    "\n",
    "for i in range(T):\n",
    "    runningStateCost = CostModelQuadratic(sys, Q, x_ref = x_ref)\n",
    "    runningControlCost = CostModelQuadratic(sys, None, R)\n",
    "    runningObstacleCost = CostModelCollisionEllipsoid(sys, p_obs1, Sigma_obs1, w_obs1)\n",
    "#     activation = ActivationCollision(nr=2, threshold = r_obs1)\n",
    "#     runningObstacleCost = CostModelCollisionCircle(sys, activation, p_obs1, Sigma_obs1, w_obs1)\n",
    "    \n",
    "    runningCost = CostModelSum(sys, [runningStateCost, runningControlCost])\n",
    "    costs += [runningCost]\n",
    "\n",
    "terminalStateCost = CostModelQuadratic(sys,Qf, x_ref = x_ref)\n",
    "terminalControlCost = CostModelQuadratic(sys, None,R)\n",
    "terminalObstacleCost = CostModelCollisionEllipsoid(sys, p_obs1, Sigma_obs1, w_obs1)\n",
    "# activation = ActivationCollision(nr=2, threshold = r_obs1)\n",
    "# terminalObstacleCost = CostModelCollisionCircle(sys, activation, p_obs1, Sigma_obs1, w_obs1)\n",
    "terminalCost = CostModelSum(sys, [terminalStateCost, terminalControlCost])\n",
    "\n",
    "costs += [terminalCost]"
   ]
  },
  {
   "cell_type": "markdown",
   "metadata": {},
   "source": [
    "#### Construct ILQR"
   ]
  },
  {
   "cell_type": "code",
   "execution_count": 33,
   "metadata": {},
   "outputs": [],
   "source": [
    "ilqr_cost = ILQR(sys)\n",
    "ilqr_cost.set_init_state(x0)\n",
    "ilqr_cost.set_timestep(T)\n",
    "ilqr_cost.set_cost(costs)\n",
    "ilqr_cost.set_state(xs, us)"
   ]
  },
  {
   "cell_type": "markdown",
   "metadata": {},
   "source": [
    "#### Solve and Plot"
   ]
  },
  {
   "cell_type": "markdown",
   "metadata": {},
   "source": [
    "#### Solve"
   ]
  },
  {
   "cell_type": "code",
   "execution_count": 34,
   "metadata": {},
   "outputs": [
    {
     "name": "stdout",
     "output_type": "stream",
     "text": [
      "800.0\n",
      "(1.0, 405.7320914304789)\n",
      "405.7320914304789\n",
      "(1.0, 405.73209143047467)\n",
      "405.73209143047467\n",
      "(1.0, 405.7320914304745)\n",
      "405.7320914304745\n",
      "(1.0, 405.7320914304745)\n",
      "405.7320914304745\n",
      "(1.0, 405.7320914304745)\n",
      "405.7320914304745\n",
      "(1.0, 405.73209143047427)\n",
      "405.73209143047427\n",
      "(1.0, 405.7320914304745)\n",
      "(0.8, 405.73209143047444)\n",
      "(0.6400000000000001, 405.7320914304745)\n",
      "(0.5120000000000001, 405.73209143047427)\n",
      "405.73209143047427\n",
      "(1.0, 405.7320914304743)\n",
      "(0.8, 405.73209143047444)\n",
      "(0.6400000000000001, 405.7320914304744)\n",
      "(0.5120000000000001, 405.7320914304743)\n",
      "(0.40960000000000013, 405.7320914304744)\n",
      "(0.32768000000000014, 405.7320914304744)\n",
      "(0.2621440000000001, 405.7320914304744)\n",
      "(0.2097152000000001, 405.7320914304745)\n",
      "(0.1677721600000001, 405.73209143047444)\n",
      "(0.13421772800000006, 405.73209143047455)\n",
      "(0.10737418240000006, 405.7320914304745)\n",
      "(0.08589934592000005, 405.7320914304745)\n",
      "(0.06871947673600004, 405.73209143047444)\n",
      "(0.054975581388800036, 405.73209143047455)\n",
      "(0.043980465111040035, 405.7320914304745)\n",
      "(0.03518437208883203, 405.73209143047444)\n",
      "(0.028147497671065627, 405.7320914304743)\n",
      "(0.022517998136852502, 405.7320914304742)\n",
      "405.7320914304742\n",
      "(1.0, 405.7320914304743)\n",
      "(0.8, 405.73209143047427)\n",
      "(0.6400000000000001, 405.7320914304744)\n",
      "(0.5120000000000001, 405.7320914304743)\n",
      "(0.40960000000000013, 405.7320914304744)\n",
      "(0.32768000000000014, 405.7320914304743)\n",
      "(0.2621440000000001, 405.73209143047427)\n",
      "(0.2097152000000001, 405.73209143047427)\n",
      "(0.1677721600000001, 405.7320914304745)\n",
      "(0.13421772800000006, 405.73209143047444)\n",
      "(0.10737418240000006, 405.7320914304742)\n",
      "405.7320914304742\n",
      "(1.0, 405.7320914304743)\n",
      "(0.8, 405.73209143047444)\n",
      "(0.6400000000000001, 405.73209143047455)\n",
      "(0.5120000000000001, 405.7320914304745)\n",
      "(0.40960000000000013, 405.7320914304745)\n",
      "(0.32768000000000014, 405.73209143047427)\n",
      "(0.2621440000000001, 405.73209143047444)\n",
      "(0.2097152000000001, 405.7320914304744)\n",
      "(0.1677721600000001, 405.73209143047444)\n",
      "(0.13421772800000006, 405.73209143047444)\n",
      "(0.10737418240000006, 405.7320914304744)\n",
      "(0.08589934592000005, 405.73209143047444)\n",
      "(0.06871947673600004, 405.7320914304744)\n",
      "(0.054975581388800036, 405.7320914304743)\n",
      "(0.043980465111040035, 405.73209143047427)\n",
      "(0.03518437208883203, 405.73209143047455)\n",
      "(0.028147497671065627, 405.7320914304744)\n",
      "(0.022517998136852502, 405.7320914304745)\n",
      "(0.018014398509482003, 405.7320914304745)\n",
      "(0.014411518807585602, 405.7320914304744)\n",
      "(0.011529215046068483, 405.7320914304745)\n",
      "(0.009223372036854787, 405.7320914304745)\n",
      "(0.00737869762948383, 405.7320914304745)\n",
      "(0.005902958103587064, 405.73209143047444)\n",
      "(0.004722366482869652, 405.7320914304742)\n"
     ]
    }
   ],
   "source": [
    "n_iter = 10\n",
    "ilqr_cost.solve(n_iter, method='recursive')\n",
    "xs_batch, us_batch = ilqr_cost.xs, ilqr_cost.us\n",
    "\n",
    "\n",
    "#clear_output()"
   ]
  },
  {
   "cell_type": "code",
   "execution_count": 35,
   "metadata": {},
   "outputs": [],
   "source": [
    "idx = -1"
   ]
  },
  {
   "cell_type": "code",
   "execution_count": 36,
   "metadata": {},
   "outputs": [
    {
     "data": {
      "image/png": "[encoded data removed]",
      "text/plain": [
       "<Figure size 432x288 with 1 Axes>"
      ]
     },
     "metadata": {
      "needs_background": "light"
     },
     "output_type": "display_data"
    }
   ],
   "source": [
    "fig, ax = plt.subplots()\n",
    "ax.plot(xs_batch[:idx,0], xs_batch[:idx,1], 'b-o', label='batch')\n",
    "ax.plot(p_obs1[0], p_obs1[1], 'o', markersize=10)\n",
    "c1 = plt.Circle(p_obs1, radius=r_obs1)\n",
    "ax.add_patch(c1)\n",
    "ax.legend()\n",
    "plt.axis('equal')\n",
    "plt.show()"
   ]
  },
  {
   "cell_type": "code",
   "execution_count": 255,
   "metadata": {},
   "outputs": [
    {
     "data": {
      "text/plain": [
       "[<matplotlib.lines.Line2D at 0x7fdc1e3b0350>]"
      ]
     },
     "execution_count": 255,
     "metadata": {},
     "output_type": "execute_result"
    },
    {
     "data": {
      "image/png": "[encoded data removed]",
      "text/plain": [
       "<Figure size 432x288 with 1 Axes>"
      ]
     },
     "metadata": {
      "needs_background": "light"
     },
     "output_type": "display_data"
    }
   ],
   "source": [
    "plt.plot(xs_batch[:idx,0],'b-o', label='batch')"
   ]
  },
  {
   "cell_type": "code",
   "execution_count": 139,
   "metadata": {},
   "outputs": [
    {
     "data": {
      "text/plain": [
       "[<matplotlib.lines.Line2D at 0x7fdc1e6a5a90>]"
      ]
     },
     "execution_count": 139,
     "metadata": {},
     "output_type": "execute_result"
    },
    {
     "data": {
      "image/png": "[encoded data removed]",
      "text/plain": [
       "<Figure size 432x288 with 1 Axes>"
      ]
     },
     "metadata": {
      "needs_background": "light"
     },
     "output_type": "display_data"
    }
   ],
   "source": [
    "plt.plot(xs_batch[:idx,1],'b-o', label='batch')"
   ]
  },
  {
   "cell_type": "markdown",
   "metadata": {},
   "source": [
    "#### Print obstacle costs"
   ]
  },
  {
   "cell_type": "raw",
   "metadata": {},
   "source": [
    "ilqr_cost.calc_cost(xs, us)\n",
    "\n",
    "ilqr_cost.set_state(xs,us)\n",
    "\n",
    "ilqr_cost.calc_diff()"
   ]
  },
  {
   "cell_type": "code",
   "execution_count": 45,
   "metadata": {},
   "outputs": [
    {
     "data": {
      "text/plain": [
       "array([[-0.0004,  0.    ,  0.    ,  0.    ],\n",
       "       [ 0.    , -0.0004,  0.    ,  0.    ],\n",
       "       [ 0.    ,  0.    ,  0.    ,  0.    ],\n",
       "       [ 0.    ,  0.    ,  0.    ,  0.    ]])"
      ]
     },
     "execution_count": 45,
     "metadata": {},
     "output_type": "execute_result"
    }
   ],
   "source": [
    "ilqr_cost.costs[0].Lxx"
   ]
  },
  {
   "cell_type": "code",
   "execution_count": 46,
   "metadata": {},
   "outputs": [
    {
     "name": "stdout",
     "output_type": "stream",
     "text": [
      "(0, array([[-0.0004, -0.    ,  0.    ,  0.    ],\n",
      "       [-0.    , -0.0004,  0.    ,  0.    ],\n",
      "       [ 0.    ,  0.    ,  0.    ,  0.    ],\n",
      "       [ 0.    ,  0.    ,  0.    ,  0.    ]]), True)\n",
      "(1, array([[-0.0004, -0.    ,  0.    ,  0.    ],\n",
      "       [-0.    , -0.0004,  0.    ,  0.    ],\n",
      "       [ 0.    ,  0.    ,  0.    ,  0.    ],\n",
      "       [ 0.    ,  0.    ,  0.    ,  0.    ]]), True)\n",
      "(2, array([[-0.0004, -0.    ,  0.    ,  0.    ],\n",
      "       [-0.    , -0.0004,  0.    ,  0.    ],\n",
      "       [ 0.    ,  0.    ,  0.    ,  0.    ],\n",
      "       [ 0.    ,  0.    ,  0.    ,  0.    ]]), True)\n",
      "(3, array([[-0.0004, -0.    ,  0.    ,  0.    ],\n",
      "       [-0.    , -0.0004,  0.    ,  0.    ],\n",
      "       [ 0.    ,  0.    ,  0.    ,  0.    ],\n",
      "       [ 0.    ,  0.    ,  0.    ,  0.    ]]), True)\n",
      "(4, array([[-0.0004, -0.    ,  0.    ,  0.    ],\n",
      "       [-0.    , -0.0004,  0.    ,  0.    ],\n",
      "       [ 0.    ,  0.    ,  0.    ,  0.    ],\n",
      "       [ 0.    ,  0.    ,  0.    ,  0.    ]]), True)\n",
      "(5, array([[-0.0004, -0.    ,  0.    ,  0.    ],\n",
      "       [-0.    , -0.0004,  0.    ,  0.    ],\n",
      "       [ 0.    ,  0.    ,  0.    ,  0.    ],\n",
      "       [ 0.    ,  0.    ,  0.    ,  0.    ]]), True)\n",
      "(6, array([[-0.0004, -0.    ,  0.    ,  0.    ],\n",
      "       [-0.    , -0.0004,  0.    ,  0.    ],\n",
      "       [ 0.    ,  0.    ,  0.    ,  0.    ],\n",
      "       [ 0.    ,  0.    ,  0.    ,  0.    ]]), True)\n",
      "(7, array([[-0.0004, -0.    ,  0.    ,  0.    ],\n",
      "       [-0.    , -0.0004,  0.    ,  0.    ],\n",
      "       [ 0.    ,  0.    ,  0.    ,  0.    ],\n",
      "       [ 0.    ,  0.    ,  0.    ,  0.    ]]), True)\n",
      "(8, array([[-0.0004, -0.    ,  0.    ,  0.    ],\n",
      "       [-0.    , -0.0004,  0.    ,  0.    ],\n",
      "       [ 0.    ,  0.    ,  0.    ,  0.    ],\n",
      "       [ 0.    ,  0.    ,  0.    ,  0.    ]]), True)\n",
      "(9, array([[-0.0004, -0.    ,  0.    ,  0.    ],\n",
      "       [-0.    , -0.0004,  0.    ,  0.    ],\n",
      "       [ 0.    ,  0.    ,  0.    ,  0.    ],\n",
      "       [ 0.    ,  0.    ,  0.    ,  0.    ]]), True)\n",
      "(10, array([[-0.0004, -0.    ,  0.    ,  0.    ],\n",
      "       [-0.    , -0.0004,  0.    ,  0.    ],\n",
      "       [ 0.    ,  0.    ,  0.    ,  0.    ],\n",
      "       [ 0.    ,  0.    ,  0.    ,  0.    ]]), True)\n",
      "(11, array([[-0.0004, -0.    ,  0.    ,  0.    ],\n",
      "       [-0.    , -0.0004,  0.    ,  0.    ],\n",
      "       [ 0.    ,  0.    ,  0.    ,  0.    ],\n",
      "       [ 0.    ,  0.    ,  0.    ,  0.    ]]), True)\n",
      "(12, array([[-0.0004, -0.    ,  0.    ,  0.    ],\n",
      "       [-0.    , -0.0004,  0.    ,  0.    ],\n",
      "       [ 0.    ,  0.    ,  0.    ,  0.    ],\n",
      "       [ 0.    ,  0.    ,  0.    ,  0.    ]]), True)\n",
      "(13, array([[-0.0004, -0.    ,  0.    ,  0.    ],\n",
      "       [-0.    , -0.0004,  0.    ,  0.    ],\n",
      "       [ 0.    ,  0.    ,  0.    ,  0.    ],\n",
      "       [ 0.    ,  0.    ,  0.    ,  0.    ]]), True)\n",
      "(14, array([[-0.0004, -0.    ,  0.    ,  0.    ],\n",
      "       [-0.    , -0.0004,  0.    ,  0.    ],\n",
      "       [ 0.    ,  0.    ,  0.    ,  0.    ],\n",
      "       [ 0.    ,  0.    ,  0.    ,  0.    ]]), True)\n",
      "(15, array([[-0.0004, -0.    ,  0.    ,  0.    ],\n",
      "       [-0.    , -0.0004,  0.    ,  0.    ],\n",
      "       [ 0.    ,  0.    ,  0.    ,  0.    ],\n",
      "       [ 0.    ,  0.    ,  0.    ,  0.    ]]), True)\n",
      "(16, array([[-0.0004, -0.    ,  0.    ,  0.    ],\n",
      "       [-0.    , -0.0004,  0.    ,  0.    ],\n",
      "       [ 0.    ,  0.    ,  0.    ,  0.    ],\n",
      "       [ 0.    ,  0.    ,  0.    ,  0.    ]]), True)\n",
      "(17, array([[-0.0004, -0.    ,  0.    ,  0.    ],\n",
      "       [-0.    , -0.0004,  0.    ,  0.    ],\n",
      "       [ 0.    ,  0.    ,  0.    ,  0.    ],\n",
      "       [ 0.    ,  0.    ,  0.    ,  0.    ]]), True)\n",
      "(18, array([[-0.0004, -0.    ,  0.    ,  0.    ],\n",
      "       [-0.    , -0.0004,  0.    ,  0.    ],\n",
      "       [ 0.    ,  0.    ,  0.    ,  0.    ],\n",
      "       [ 0.    ,  0.    ,  0.    ,  0.    ]]), True)\n",
      "(19, array([[-0.0004, -0.    ,  0.    ,  0.    ],\n",
      "       [-0.    , -0.0004,  0.    ,  0.    ],\n",
      "       [ 0.    ,  0.    ,  0.    ,  0.    ],\n",
      "       [ 0.    ,  0.    ,  0.    ,  0.    ]]), True)\n",
      "(20, array([[-0.0004, -0.    ,  0.    ,  0.    ],\n",
      "       [-0.    , -0.0004,  0.    ,  0.    ],\n",
      "       [ 0.    ,  0.    ,  0.    ,  0.    ],\n",
      "       [ 0.    ,  0.    ,  0.    ,  0.    ]]), True)\n",
      "(21, array([[-0.0004, -0.    ,  0.    ,  0.    ],\n",
      "       [-0.    , -0.0004,  0.    ,  0.    ],\n",
      "       [ 0.    ,  0.    ,  0.    ,  0.    ],\n",
      "       [ 0.    ,  0.    ,  0.    ,  0.    ]]), True)\n",
      "(22, array([[-0.0004, -0.    ,  0.    ,  0.    ],\n",
      "       [-0.    , -0.0004,  0.    ,  0.    ],\n",
      "       [ 0.    ,  0.    ,  0.    ,  0.    ],\n",
      "       [ 0.    ,  0.    ,  0.    ,  0.    ]]), True)\n",
      "(23, array([[-0.0004, -0.    ,  0.    ,  0.    ],\n",
      "       [-0.    , -0.0004,  0.    ,  0.    ],\n",
      "       [ 0.    ,  0.    ,  0.    ,  0.    ],\n",
      "       [ 0.    ,  0.    ,  0.    ,  0.    ]]), True)\n",
      "(24, array([[-0.0004, -0.    ,  0.    ,  0.    ],\n",
      "       [-0.    , -0.0004,  0.    ,  0.    ],\n",
      "       [ 0.    ,  0.    ,  0.    ,  0.    ],\n",
      "       [ 0.    ,  0.    ,  0.    ,  0.    ]]), True)\n",
      "(25, array([[-0.0004, -0.    ,  0.    ,  0.    ],\n",
      "       [-0.    , -0.0004,  0.    ,  0.    ],\n",
      "       [ 0.    ,  0.    ,  0.    ,  0.    ],\n",
      "       [ 0.    ,  0.    ,  0.    ,  0.    ]]), True)\n",
      "(26, array([[-0.0004, -0.    ,  0.    ,  0.    ],\n",
      "       [-0.    , -0.0004,  0.    ,  0.    ],\n",
      "       [ 0.    ,  0.    ,  0.    ,  0.    ],\n",
      "       [ 0.    ,  0.    ,  0.    ,  0.    ]]), True)\n",
      "(27, array([[-0.0004, -0.    ,  0.    ,  0.    ],\n",
      "       [-0.    , -0.0004,  0.    ,  0.    ],\n",
      "       [ 0.    ,  0.    ,  0.    ,  0.    ],\n",
      "       [ 0.    ,  0.    ,  0.    ,  0.    ]]), True)\n",
      "(28, array([[-0.0004, -0.    ,  0.    ,  0.    ],\n",
      "       [-0.    , -0.0004,  0.    ,  0.    ],\n",
      "       [ 0.    ,  0.    ,  0.    ,  0.    ],\n",
      "       [ 0.    ,  0.    ,  0.    ,  0.    ]]), True)\n",
      "(29, array([[-0.0004, -0.    ,  0.    ,  0.    ],\n",
      "       [-0.    , -0.0004,  0.    ,  0.    ],\n",
      "       [ 0.    ,  0.    ,  0.    ,  0.    ],\n",
      "       [ 0.    ,  0.    ,  0.    ,  0.    ]]), True)\n",
      "(30, array([[-0.0004, -0.    ,  0.    ,  0.    ],\n",
      "       [-0.    , -0.0004,  0.    ,  0.    ],\n",
      "       [ 0.    ,  0.    ,  0.    ,  0.    ],\n",
      "       [ 0.    ,  0.    ,  0.    ,  0.    ]]), True)\n",
      "(31, array([[-0.0004, -0.    ,  0.    ,  0.    ],\n",
      "       [-0.    , -0.0004,  0.    ,  0.    ],\n",
      "       [ 0.    ,  0.    ,  0.    ,  0.    ],\n",
      "       [ 0.    ,  0.    ,  0.    ,  0.    ]]), True)\n",
      "(32, array([[-0.0004, -0.    ,  0.    ,  0.    ],\n",
      "       [-0.    , -0.0004,  0.    ,  0.    ],\n",
      "       [ 0.    ,  0.    ,  0.    ,  0.    ],\n",
      "       [ 0.    ,  0.    ,  0.    ,  0.    ]]), True)\n",
      "(33, array([[-0.0004, -0.    ,  0.    ,  0.    ],\n",
      "       [-0.    , -0.0004,  0.    ,  0.    ],\n",
      "       [ 0.    ,  0.    ,  0.    ,  0.    ],\n",
      "       [ 0.    ,  0.    ,  0.    ,  0.    ]]), True)\n",
      "(34, array([[-0.0004, -0.    ,  0.    ,  0.    ],\n",
      "       [-0.    , -0.0004,  0.    ,  0.    ],\n",
      "       [ 0.    ,  0.    ,  0.    ,  0.    ],\n",
      "       [ 0.    ,  0.    ,  0.    ,  0.    ]]), True)\n",
      "(35, array([[-0.0004, -0.    ,  0.    ,  0.    ],\n",
      "       [-0.    , -0.0004,  0.    ,  0.    ],\n",
      "       [ 0.    ,  0.    ,  0.    ,  0.    ],\n",
      "       [ 0.    ,  0.    ,  0.    ,  0.    ]]), True)\n",
      "(36, array([[-0.0004, -0.    ,  0.    ,  0.    ],\n",
      "       [-0.    , -0.0004,  0.    ,  0.    ],\n",
      "       [ 0.    ,  0.    ,  0.    ,  0.    ],\n",
      "       [ 0.    ,  0.    ,  0.    ,  0.    ]]), True)\n",
      "(37, array([[-0.0004, -0.    ,  0.    ,  0.    ],\n",
      "       [-0.    , -0.0004,  0.    ,  0.    ],\n",
      "       [ 0.    ,  0.    ,  0.    ,  0.    ],\n",
      "       [ 0.    ,  0.    ,  0.    ,  0.    ]]), True)\n",
      "(38, array([[-0.0004, -0.    ,  0.    ,  0.    ],\n",
      "       [-0.    , -0.0004,  0.    ,  0.    ],\n",
      "       [ 0.    ,  0.    ,  0.    ,  0.    ],\n",
      "       [ 0.    ,  0.    ,  0.    ,  0.    ]]), True)\n",
      "(39, array([[-0.0004, -0.    ,  0.    ,  0.    ],\n",
      "       [-0.    , -0.0004,  0.    ,  0.    ],\n",
      "       [ 0.    ,  0.    ,  0.    ,  0.    ],\n",
      "       [ 0.    ,  0.    ,  0.    ,  0.    ]]), True)\n",
      "(40, array([[-0.0004, -0.    ,  0.    ,  0.    ],\n",
      "       [-0.    , -0.0004,  0.    ,  0.    ],\n",
      "       [ 0.    ,  0.    ,  0.    ,  0.    ],\n",
      "       [ 0.    ,  0.    ,  0.    ,  0.    ]]), True)\n",
      "(41, array([[-0.0004, -0.    ,  0.    ,  0.    ],\n",
      "       [-0.    , -0.0004,  0.    ,  0.    ],\n",
      "       [ 0.    ,  0.    ,  0.    ,  0.    ],\n",
      "       [ 0.    ,  0.    ,  0.    ,  0.    ]]), True)\n",
      "(42, array([[-0.0004, -0.    ,  0.    ,  0.    ],\n",
      "       [-0.    , -0.0004,  0.    ,  0.    ],\n",
      "       [ 0.    ,  0.    ,  0.    ,  0.    ],\n",
      "       [ 0.    ,  0.    ,  0.    ,  0.    ]]), True)\n",
      "(43, array([[-0.0004, -0.    ,  0.    ,  0.    ],\n",
      "       [-0.    , -0.0004,  0.    ,  0.    ],\n",
      "       [ 0.    ,  0.    ,  0.    ,  0.    ],\n",
      "       [ 0.    ,  0.    ,  0.    ,  0.    ]]), True)\n",
      "(44, array([[-0.0004, -0.    ,  0.    ,  0.    ],\n",
      "       [-0.    , -0.0004,  0.    ,  0.    ],\n",
      "       [ 0.    ,  0.    ,  0.    ,  0.    ],\n",
      "       [ 0.    ,  0.    ,  0.    ,  0.    ]]), True)\n",
      "(45, array([[-0.0004, -0.    ,  0.    ,  0.    ],\n",
      "       [-0.    , -0.0004,  0.    ,  0.    ],\n",
      "       [ 0.    ,  0.    ,  0.    ,  0.    ],\n",
      "       [ 0.    ,  0.    ,  0.    ,  0.    ]]), True)\n",
      "(46, array([[-0.0004, -0.    ,  0.    ,  0.    ],\n",
      "       [-0.    , -0.0004,  0.    ,  0.    ],\n",
      "       [ 0.    ,  0.    ,  0.    ,  0.    ],\n",
      "       [ 0.    ,  0.    ,  0.    ,  0.    ]]), True)\n",
      "(47, array([[-0.0004, -0.    ,  0.    ,  0.    ],\n",
      "       [-0.    , -0.0004,  0.    ,  0.    ],\n",
      "       [ 0.    ,  0.    ,  0.    ,  0.    ],\n",
      "       [ 0.    ,  0.    ,  0.    ,  0.    ]]), True)\n",
      "(48, array([[-0.0004, -0.    ,  0.    ,  0.    ],\n",
      "       [-0.    , -0.0004,  0.    ,  0.    ],\n",
      "       [ 0.    ,  0.    ,  0.    ,  0.    ],\n",
      "       [ 0.    ,  0.    ,  0.    ,  0.    ]]), True)\n",
      "(49, array([[-0.0004, -0.    ,  0.    ,  0.    ],\n",
      "       [-0.    , -0.0004,  0.    ,  0.    ],\n",
      "       [ 0.    ,  0.    ,  0.    ,  0.    ],\n",
      "       [ 0.    ,  0.    ,  0.    ,  0.    ]]), True)\n",
      "(50, array([[-0.0004, -0.    ,  0.    ,  0.    ],\n",
      "       [-0.    , -0.0004,  0.    ,  0.    ],\n",
      "       [ 0.    ,  0.    ,  0.    ,  0.    ],\n",
      "       [ 0.    ,  0.    ,  0.    ,  0.    ]]), True)\n",
      "(51, array([[-0.0004, -0.    ,  0.    ,  0.    ],\n",
      "       [-0.    , -0.0004,  0.    ,  0.    ],\n",
      "       [ 0.    ,  0.    ,  0.    ,  0.    ],\n",
      "       [ 0.    ,  0.    ,  0.    ,  0.    ]]), True)\n",
      "(52, array([[-0.0004, -0.    ,  0.    ,  0.    ],\n",
      "       [-0.    , -0.0004,  0.    ,  0.    ],\n",
      "       [ 0.    ,  0.    ,  0.    ,  0.    ],\n",
      "       [ 0.    ,  0.    ,  0.    ,  0.    ]]), True)\n",
      "(53, array([[-0.0004, -0.    ,  0.    ,  0.    ],\n",
      "       [-0.    , -0.0004,  0.    ,  0.    ],\n",
      "       [ 0.    ,  0.    ,  0.    ,  0.    ],\n",
      "       [ 0.    ,  0.    ,  0.    ,  0.    ]]), True)\n",
      "(54, array([[-0.0004, -0.    ,  0.    ,  0.    ],\n",
      "       [-0.    , -0.0004,  0.    ,  0.    ],\n",
      "       [ 0.    ,  0.    ,  0.    ,  0.    ],\n",
      "       [ 0.    ,  0.    ,  0.    ,  0.    ]]), True)\n",
      "(55, array([[-0.0004, -0.    ,  0.    ,  0.    ],\n",
      "       [-0.    , -0.0004,  0.    ,  0.    ],\n",
      "       [ 0.    ,  0.    ,  0.    ,  0.    ],\n",
      "       [ 0.    ,  0.    ,  0.    ,  0.    ]]), True)\n",
      "(56, array([[-0.0004, -0.    ,  0.    ,  0.    ],\n",
      "       [-0.    , -0.0004,  0.    ,  0.    ],\n",
      "       [ 0.    ,  0.    ,  0.    ,  0.    ],\n",
      "       [ 0.    ,  0.    ,  0.    ,  0.    ]]), True)\n",
      "(57, array([[-0.0004, -0.    ,  0.    ,  0.    ],\n",
      "       [-0.    , -0.0004,  0.    ,  0.    ],\n",
      "       [ 0.    ,  0.    ,  0.    ,  0.    ],\n",
      "       [ 0.    ,  0.    ,  0.    ,  0.    ]]), True)\n",
      "(58, array([[-0.0004, -0.    ,  0.    ,  0.    ],\n",
      "       [-0.    , -0.0004,  0.    ,  0.    ],\n",
      "       [ 0.    ,  0.    ,  0.    ,  0.    ],\n",
      "       [ 0.    ,  0.    ,  0.    ,  0.    ]]), True)\n",
      "(59, array([[-0.0004, -0.    ,  0.    ,  0.    ],\n",
      "       [-0.    , -0.0004,  0.    ,  0.    ],\n",
      "       [ 0.    ,  0.    ,  0.    ,  0.    ],\n",
      "       [ 0.    ,  0.    ,  0.    ,  0.    ]]), True)\n",
      "(60, array([[-0.0004, -0.    ,  0.    ,  0.    ],\n",
      "       [-0.    , -0.0004,  0.    ,  0.    ],\n",
      "       [ 0.    ,  0.    ,  0.    ,  0.    ],\n",
      "       [ 0.    ,  0.    ,  0.    ,  0.    ]]), True)\n",
      "(61, array([[-0.0004, -0.    ,  0.    ,  0.    ],\n",
      "       [-0.    , -0.0004,  0.    ,  0.    ],\n",
      "       [ 0.    ,  0.    ,  0.    ,  0.    ],\n",
      "       [ 0.    ,  0.    ,  0.    ,  0.    ]]), True)\n",
      "(62, array([[-0.0004, -0.    ,  0.    ,  0.    ],\n",
      "       [-0.    , -0.0004,  0.    ,  0.    ],\n",
      "       [ 0.    ,  0.    ,  0.    ,  0.    ],\n",
      "       [ 0.    ,  0.    ,  0.    ,  0.    ]]), True)\n",
      "(63, array([[-0.0004, -0.    ,  0.    ,  0.    ],\n",
      "       [-0.    , -0.0004,  0.    ,  0.    ],\n",
      "       [ 0.    ,  0.    ,  0.    ,  0.    ],\n",
      "       [ 0.    ,  0.    ,  0.    ,  0.    ]]), True)\n",
      "(64, array([[-0.0004, -0.    ,  0.    ,  0.    ],\n",
      "       [-0.    , -0.0004,  0.    ,  0.    ],\n",
      "       [ 0.    ,  0.    ,  0.    ,  0.    ],\n",
      "       [ 0.    ,  0.    ,  0.    ,  0.    ]]), True)\n",
      "(65, array([[-0.0004, -0.    ,  0.    ,  0.    ],\n",
      "       [-0.    , -0.0004,  0.    ,  0.    ],\n",
      "       [ 0.    ,  0.    ,  0.    ,  0.    ],\n",
      "       [ 0.    ,  0.    ,  0.    ,  0.    ]]), True)\n",
      "(66, array([[-0.0004, -0.    ,  0.    ,  0.    ],\n",
      "       [-0.    , -0.0004,  0.    ,  0.    ],\n",
      "       [ 0.    ,  0.    ,  0.    ,  0.    ],\n",
      "       [ 0.    ,  0.    ,  0.    ,  0.    ]]), True)\n",
      "(67, array([[-0.0004, -0.    ,  0.    ,  0.    ],\n",
      "       [-0.    , -0.0004,  0.    ,  0.    ],\n",
      "       [ 0.    ,  0.    ,  0.    ,  0.    ],\n",
      "       [ 0.    ,  0.    ,  0.    ,  0.    ]]), True)\n",
      "(68, array([[-0.0004, -0.    ,  0.    ,  0.    ],\n",
      "       [-0.    , -0.0004,  0.    ,  0.    ],\n",
      "       [ 0.    ,  0.    ,  0.    ,  0.    ],\n",
      "       [ 0.    ,  0.    ,  0.    ,  0.    ]]), True)\n",
      "(69, array([[-0.0004, -0.    ,  0.    ,  0.    ],\n",
      "       [-0.    , -0.0004,  0.    ,  0.    ],\n",
      "       [ 0.    ,  0.    ,  0.    ,  0.    ],\n",
      "       [ 0.    ,  0.    ,  0.    ,  0.    ]]), True)\n",
      "(70, array([[-0.0004, -0.    ,  0.    ,  0.    ],\n",
      "       [-0.    , -0.0004,  0.    ,  0.    ],\n",
      "       [ 0.    ,  0.    ,  0.    ,  0.    ],\n",
      "       [ 0.    ,  0.    ,  0.    ,  0.    ]]), True)\n",
      "(71, array([[-0.0004, -0.    ,  0.    ,  0.    ],\n",
      "       [-0.    , -0.0004,  0.    ,  0.    ],\n",
      "       [ 0.    ,  0.    ,  0.    ,  0.    ],\n",
      "       [ 0.    ,  0.    ,  0.    ,  0.    ]]), True)\n",
      "(72, array([[-0.0004, -0.    ,  0.    ,  0.    ],\n",
      "       [-0.    , -0.0004,  0.    ,  0.    ],\n",
      "       [ 0.    ,  0.    ,  0.    ,  0.    ],\n",
      "       [ 0.    ,  0.    ,  0.    ,  0.    ]]), True)\n",
      "(73, array([[-0.0004, -0.    ,  0.    ,  0.    ],\n",
      "       [-0.    , -0.0004,  0.    ,  0.    ],\n",
      "       [ 0.    ,  0.    ,  0.    ,  0.    ],\n",
      "       [ 0.    ,  0.    ,  0.    ,  0.    ]]), True)\n",
      "(74, array([[-0.0004, -0.    ,  0.    ,  0.    ],\n",
      "       [-0.    , -0.0004,  0.    ,  0.    ],\n",
      "       [ 0.    ,  0.    ,  0.    ,  0.    ],\n",
      "       [ 0.    ,  0.    ,  0.    ,  0.    ]]), True)\n",
      "(75, array([[-0.0004, -0.    ,  0.    ,  0.    ],\n",
      "       [-0.    , -0.0004,  0.    ,  0.    ],\n",
      "       [ 0.    ,  0.    ,  0.    ,  0.    ],\n",
      "       [ 0.    ,  0.    ,  0.    ,  0.    ]]), True)\n",
      "(76, array([[-0.0004, -0.    ,  0.    ,  0.    ],\n",
      "       [-0.    , -0.0004,  0.    ,  0.    ],\n",
      "       [ 0.    ,  0.    ,  0.    ,  0.    ],\n",
      "       [ 0.    ,  0.    ,  0.    ,  0.    ]]), True)\n",
      "(77, array([[-0.0004, -0.    ,  0.    ,  0.    ],\n",
      "       [-0.    , -0.0004,  0.    ,  0.    ],\n",
      "       [ 0.    ,  0.    ,  0.    ,  0.    ],\n",
      "       [ 0.    ,  0.    ,  0.    ,  0.    ]]), True)\n",
      "(78, array([[-0.0004, -0.    ,  0.    ,  0.    ],\n",
      "       [-0.    , -0.0004,  0.    ,  0.    ],\n",
      "       [ 0.    ,  0.    ,  0.    ,  0.    ],\n",
      "       [ 0.    ,  0.    ,  0.    ,  0.    ]]), True)\n",
      "(79, array([[-0.0004, -0.    ,  0.    ,  0.    ],\n",
      "       [-0.    , -0.0004,  0.    ,  0.    ],\n",
      "       [ 0.    ,  0.    ,  0.    ,  0.    ],\n",
      "       [ 0.    ,  0.    ,  0.    ,  0.    ]]), True)\n",
      "(80, array([[-0.0004, -0.    ,  0.    ,  0.    ],\n",
      "       [-0.    , -0.0004,  0.    ,  0.    ],\n",
      "       [ 0.    ,  0.    ,  0.    ,  0.    ],\n",
      "       [ 0.    ,  0.    ,  0.    ,  0.    ]]), True)\n",
      "(81, array([[-0.0004, -0.    ,  0.    ,  0.    ],\n",
      "       [-0.    , -0.0004,  0.    ,  0.    ],\n",
      "       [ 0.    ,  0.    ,  0.    ,  0.    ],\n",
      "       [ 0.    ,  0.    ,  0.    ,  0.    ]]), True)\n",
      "(82, array([[-0.0004, -0.    ,  0.    ,  0.    ],\n",
      "       [-0.    , -0.0004,  0.    ,  0.    ],\n",
      "       [ 0.    ,  0.    ,  0.    ,  0.    ],\n",
      "       [ 0.    ,  0.    ,  0.    ,  0.    ]]), True)\n",
      "(83, array([[-0.0004, -0.    ,  0.    ,  0.    ],\n",
      "       [-0.    , -0.0004,  0.    ,  0.    ],\n",
      "       [ 0.    ,  0.    ,  0.    ,  0.    ],\n",
      "       [ 0.    ,  0.    ,  0.    ,  0.    ]]), True)\n",
      "(84, array([[-0.0004, -0.    ,  0.    ,  0.    ],\n",
      "       [-0.    , -0.0004,  0.    ,  0.    ],\n",
      "       [ 0.    ,  0.    ,  0.    ,  0.    ],\n",
      "       [ 0.    ,  0.    ,  0.    ,  0.    ]]), True)\n",
      "(85, array([[-0.0004, -0.    ,  0.    ,  0.    ],\n",
      "       [-0.    , -0.0004,  0.    ,  0.    ],\n",
      "       [ 0.    ,  0.    ,  0.    ,  0.    ],\n",
      "       [ 0.    ,  0.    ,  0.    ,  0.    ]]), True)\n",
      "(86, array([[-0.0004, -0.    ,  0.    ,  0.    ],\n",
      "       [-0.    , -0.0004,  0.    ,  0.    ],\n",
      "       [ 0.    ,  0.    ,  0.    ,  0.    ],\n",
      "       [ 0.    ,  0.    ,  0.    ,  0.    ]]), True)\n",
      "(87, array([[-0.0004, -0.    ,  0.    ,  0.    ],\n",
      "       [-0.    , -0.0004,  0.    ,  0.    ],\n",
      "       [ 0.    ,  0.    ,  0.    ,  0.    ],\n",
      "       [ 0.    ,  0.    ,  0.    ,  0.    ]]), True)\n",
      "(88, array([[-0.0004, -0.    ,  0.    ,  0.    ],\n",
      "       [-0.    , -0.0004,  0.    ,  0.    ],\n",
      "       [ 0.    ,  0.    ,  0.    ,  0.    ],\n",
      "       [ 0.    ,  0.    ,  0.    ,  0.    ]]), True)\n",
      "(89, array([[-0.0004, -0.    ,  0.    ,  0.    ],\n",
      "       [-0.    , -0.0004,  0.    ,  0.    ],\n",
      "       [ 0.    ,  0.    ,  0.    ,  0.    ],\n",
      "       [ 0.    ,  0.    ,  0.    ,  0.    ]]), True)\n",
      "(90, array([[-0.0004, -0.    ,  0.    ,  0.    ],\n",
      "       [-0.    , -0.0004,  0.    ,  0.    ],\n",
      "       [ 0.    ,  0.    ,  0.    ,  0.    ],\n",
      "       [ 0.    ,  0.    ,  0.    ,  0.    ]]), True)\n",
      "(91, array([[-0.0004, -0.    ,  0.    ,  0.    ],\n",
      "       [-0.    , -0.0004,  0.    ,  0.    ],\n",
      "       [ 0.    ,  0.    ,  0.    ,  0.    ],\n",
      "       [ 0.    ,  0.    ,  0.    ,  0.    ]]), True)\n",
      "(92, array([[-0.0004, -0.    ,  0.    ,  0.    ],\n",
      "       [-0.    , -0.0004,  0.    ,  0.    ],\n",
      "       [ 0.    ,  0.    ,  0.    ,  0.    ],\n",
      "       [ 0.    ,  0.    ,  0.    ,  0.    ]]), True)\n",
      "(93, array([[-0.0004, -0.    ,  0.    ,  0.    ],\n",
      "       [-0.    , -0.0004,  0.    ,  0.    ],\n",
      "       [ 0.    ,  0.    ,  0.    ,  0.    ],\n",
      "       [ 0.    ,  0.    ,  0.    ,  0.    ]]), True)\n",
      "(94, array([[-0.0004, -0.    ,  0.    ,  0.    ],\n",
      "       [-0.    , -0.0004,  0.    ,  0.    ],\n",
      "       [ 0.    ,  0.    ,  0.    ,  0.    ],\n",
      "       [ 0.    ,  0.    ,  0.    ,  0.    ]]), True)\n",
      "(95, array([[-0.0004, -0.    ,  0.    ,  0.    ],\n",
      "       [-0.    , -0.0004,  0.    ,  0.    ],\n",
      "       [ 0.    ,  0.    ,  0.    ,  0.    ],\n",
      "       [ 0.    ,  0.    ,  0.    ,  0.    ]]), True)\n",
      "(96, array([[-0.0004, -0.    ,  0.    ,  0.    ],\n",
      "       [-0.    , -0.0004,  0.    ,  0.    ],\n",
      "       [ 0.    ,  0.    ,  0.    ,  0.    ],\n",
      "       [ 0.    ,  0.    ,  0.    ,  0.    ]]), True)\n",
      "(97, array([[-0.0004, -0.    ,  0.    ,  0.    ],\n",
      "       [-0.    , -0.0004,  0.    ,  0.    ],\n",
      "       [ 0.    ,  0.    ,  0.    ,  0.    ],\n",
      "       [ 0.    ,  0.    ,  0.    ,  0.    ]]), True)\n",
      "(98, array([[-0.0004, -0.    ,  0.    ,  0.    ],\n",
      "       [-0.    , -0.0004,  0.    ,  0.    ],\n",
      "       [ 0.    ,  0.    ,  0.    ,  0.    ],\n",
      "       [ 0.    ,  0.    ,  0.    ,  0.    ]]), False)\n",
      "(99, array([[-0.0004, -0.    ,  0.    ,  0.    ],\n",
      "       [-0.    , -0.0004,  0.    ,  0.    ],\n",
      "       [ 0.    ,  0.    ,  0.    ,  0.    ],\n",
      "       [ 0.    ,  0.    ,  0.    ,  0.    ]]), False)\n",
      "(100, array([[-0.0004, -0.    ,  0.    ,  0.    ],\n",
      "       [-0.    , -0.0004,  0.    ,  0.    ],\n",
      "       [ 0.    ,  0.    ,  0.    ,  0.    ],\n",
      "       [ 0.    ,  0.    ,  0.    ,  0.    ]]), False)\n"
     ]
    }
   ],
   "source": [
    "for i in range(T+1):\n",
    "    cost_obs = ilqr_cost.costs[i].costs[-1]\n",
    "    print(i, cost_obs.Lxx, cost_obs.obs_status)"
   ]
  },
  {
   "cell_type": "markdown",
   "metadata": {},
   "source": [
    "#### Check derivative"
   ]
  },
  {
   "cell_type": "code",
   "execution_count": 146,
   "metadata": {},
   "outputs": [
    {
     "name": "stdout",
     "output_type": "stream",
     "text": [
      "-0.16000000000000003\n"
     ]
    }
   ],
   "source": [
    "x = np.array([1., .9, 0, 0])\n",
    "u = np.zeros(2)\n",
    "\n",
    "cost0 = runningObstacleCost.calc(x, u)\n",
    "print(cost0)"
   ]
  },
  {
   "cell_type": "code",
   "execution_count": 130,
   "metadata": {},
   "outputs": [
    {
     "name": "stdout",
     "output_type": "stream",
     "text": [
      "-0.0003831179667335694\n",
      "-0.00035821429009708186\n",
      "[-0.0271 -0.0022]\n",
      "[-0.0266 -0.0017  0.      0.    ]\n"
     ]
    }
   ],
   "source": [
    "J = np.zeros(2)\n",
    "inc = 0.001\n",
    "for i in range(2):\n",
    "    xn = x.copy()\n",
    "    xn[i] += inc\n",
    "    costn = runningObstacleCost.calc(xn, u)\n",
    "    dc = (costn-cost0)/inc\n",
    "    print(costn)\n",
    "    J[i] = dc\n",
    "print(J)\n",
    "\n",
    "runningObstacleCost.calc(x, u)\n",
    "\n",
    "runningObstacleCost.calcDiff(x, u)\n",
    "print(runningObstacleCost.Lx)"
   ]
  }
 ],
 "metadata": {
  "kernelspec": {
   "display_name": "Python 2",
   "language": "python",
   "name": "python2"
  },
  "language_info": {
   "codemirror_mode": {
    "name": "ipython",
    "version": 2
   },
   "file_extension": ".py",
   "mimetype": "text/x-python",
   "name": "python",
   "nbconvert_exporter": "python",
   "pygments_lexer": "ipython2",
   "version": "2.7.12"
  }
 },
 "nbformat": 4,
 "nbformat_minor": 2
}
