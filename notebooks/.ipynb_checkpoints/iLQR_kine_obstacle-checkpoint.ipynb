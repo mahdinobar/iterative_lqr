{
 "cells": [
  {
   "cell_type": "markdown",
   "metadata": {},
   "source": [
    "#### iLQR for kinematic example"
   ]
  },
  {
   "cell_type": "code",
   "execution_count": 1,
   "metadata": {},
   "outputs": [],
   "source": [
    "import numpy as np\n",
    "import matplotlib.pyplot as plt\n",
    "from numpy import dot\n",
    "from numpy.linalg import inv\n",
    "from IPython.display import clear_output\n",
    "import time\n",
    "from ocp import *\n",
    "from costs import *\n",
    "%load_ext autoreload\n",
    "%autoreload 2\n",
    "\n",
    "np.set_printoptions(precision=4, suppress=True)"
   ]
  },
  {
   "cell_type": "markdown",
   "metadata": {},
   "source": [
    "#### Create 2link robot "
   ]
  },
  {
   "cell_type": "code",
   "execution_count": 2,
   "metadata": {},
   "outputs": [],
   "source": [
    "sys = TwoLinkRobot(dt = 0.01)\n",
    "\n",
    "T = 100\n",
    "x0 = np.array([0,0,0,0])\n",
    "sys.set_init_state(x0)\n",
    "\n",
    "#set initial control output to be all zeros\n",
    "us = np.zeros((T+1,sys.Du))\n",
    "_ = sys.compute_matrices(x0, us[0])\n",
    "xs = sys.rollout(us[:-1])"
   ]
  },
  {
   "cell_type": "markdown",
   "metadata": {},
   "source": [
    "#### Plot initial trajectory"
   ]
  },
  {
   "cell_type": "raw",
   "metadata": {},
   "source": [
    "sys.plot_traj(xs)"
   ]
  },
  {
   "cell_type": "markdown",
   "metadata": {},
   "source": [
    "#### Set the regularization cost coefficients Q and R "
   ]
  },
  {
   "cell_type": "code",
   "execution_count": 4,
   "metadata": {},
   "outputs": [],
   "source": [
    "Q = np.eye(sys.Dx)*.1\n",
    "Q[0:2,0:2] *= 0.0\n",
    "Qf = np.eye(sys.Dx)*1\n",
    "Qf[0:2,0:2] *= 0.0\n",
    "R = np.eye(sys.Du)*.1\n",
    "mu = 1e-6"
   ]
  },
  {
   "cell_type": "markdown",
   "metadata": {},
   "source": [
    "#### Set end effector reference "
   ]
  },
  {
   "cell_type": "code",
   "execution_count": 5,
   "metadata": {},
   "outputs": [],
   "source": [
    "#W and WT: cost coefficients for the end-effector reaching task\n",
    "\n",
    "p_ref = np.array([.5, .8])\n",
    "W = np.eye(2)*10\n",
    "W[0,0] *= .1\n",
    "WT = np.eye(2)*5000\n",
    "WT[0,0] *= .01"
   ]
  },
  {
   "cell_type": "markdown",
   "metadata": {},
   "source": [
    "### iLQR using cost model"
   ]
  },
  {
   "cell_type": "markdown",
   "metadata": {},
   "source": [
    "#### Define the cost"
   ]
  },
  {
   "cell_type": "code",
   "execution_count": 6,
   "metadata": {},
   "outputs": [],
   "source": [
    "#The costs consist of: a) state regularization (Q), b) control regularization (R), and c) End-effector reaching task (W)\n",
    "#Running cost is for the time 0 <= t < T, while terminal cost is for the time t = T\n",
    "\n",
    "runningStateCost = CostModelQuadratic(sys, Q)\n",
    "runningControlCost = CostModelQuadratic(sys, None, R)\n",
    "runningEECost = CostModelQuadraticTranslation(sys,W,p_ref)\n",
    "runningCost = CostModelSum(sys, [runningStateCost, runningControlCost, runningEECost])\n",
    "\n",
    "terminalStateCost = CostModelQuadratic(sys,Qf)\n",
    "terminalControlCost = CostModelQuadratic(sys, None,R)\n",
    "terminalEECost = CostModelQuadraticTranslation(sys,WT,p_ref)\n",
    "terminalCost = CostModelSum(sys, [terminalStateCost, terminalControlCost, terminalEECost])\n",
    "\n",
    "costs = [runningCost]*T + [terminalCost]"
   ]
  },
  {
   "cell_type": "markdown",
   "metadata": {},
   "source": [
    "#### Construct ILQR"
   ]
  },
  {
   "cell_type": "code",
   "execution_count": 7,
   "metadata": {},
   "outputs": [],
   "source": [
    "ilqr_cost = ILQR(sys)\n",
    "ilqr_cost.set_init_state(x0)\n",
    "ilqr_cost.set_timestep(T)\n",
    "ilqr_cost.set_cost(costs)\n",
    "sys.set_pref(p_ref)\n",
    "#ilqr_cost.set_ref(np.zeros((T+1,sys.Dx)))\n",
    "ilqr_cost.set_state(xs, us)"
   ]
  },
  {
   "cell_type": "markdown",
   "metadata": {},
   "source": [
    "#### Solve and Plot"
   ]
  },
  {
   "cell_type": "code",
   "execution_count": 8,
   "metadata": {},
   "outputs": [
    {
     "data": {
      "image/png": "[encoded data removed]",
      "text/plain": [
       "<Figure size 432x288 with 1 Axes>"
      ]
     },
     "metadata": {
      "needs_background": "light"
     },
     "output_type": "display_data"
    }
   ],
   "source": [
    "n_iter = 10\n",
    "ilqr_cost.solve(n_iter, method='batch')\n",
    "xs_batch, us_batch = ilqr_cost.xs, ilqr_cost.us\n",
    "\n",
    "clear_output()\n",
    "plt.plot(xs_batch[:,0], xs_batch[:,1], 'b--', label='batch')\n",
    "plt.legend()\n",
    "plt.show()"
   ]
  },
  {
   "cell_type": "markdown",
   "metadata": {},
   "source": [
    "#### Play traj"
   ]
  },
  {
   "cell_type": "code",
   "execution_count": 9,
   "metadata": {},
   "outputs": [
    {
     "data": {
      "image/png": "[encoded data removed]",
      "text/plain": [
       "<Figure size 432x288 with 1 Axes>"
      ]
     },
     "metadata": {
      "needs_background": "light"
     },
     "output_type": "display_data"
    }
   ],
   "source": [
    "sys.plot_traj(ilqr_cost.xs)"
   ]
  }
 ],
 "metadata": {
  "kernelspec": {
   "display_name": "Python 2",
   "language": "python",
   "name": "python2"
  },
  "language_info": {
   "codemirror_mode": {
    "name": "ipython",
    "version": 2
   },
   "file_extension": ".py",
   "mimetype": "text/x-python",
   "name": "python",
   "nbconvert_exporter": "python",
   "pygments_lexer": "ipython2",
   "version": "2.7.12"
  }
 },
 "nbformat": 4,
 "nbformat_minor": 2
}
