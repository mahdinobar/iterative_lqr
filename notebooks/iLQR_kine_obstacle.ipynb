{
 "cells": [
  {
   "cell_type": "markdown",
   "metadata": {},
   "source": [
    "#### iLQR for kinematic example with obstacle"
   ]
  },
  {
   "cell_type": "markdown",
   "metadata": {},
   "source": [
    "##### Note that the collision here is only checked between the end-effector point and the obstacle, not the whole robot"
   ]
  },
  {
   "cell_type": "code",
   "execution_count": 1,
   "metadata": {},
   "outputs": [
    {
     "name": "stderr",
     "output_type": "stream",
     "text": [
      "\n",
      "Bad key \"text.kerning_factor\" on line 4 in\n",
      "/home/teguh/miniconda3/envs/tf3/lib/python3.8/site-packages/matplotlib/mpl-data/stylelib/_classic_test_patch.mplstyle.\n",
      "You probably need to get an updated matplotlibrc file from\n",
      "https://github.com/matplotlib/matplotlib/blob/v3.1.3/matplotlibrc.template\n",
      "or from the matplotlib source distribution\n"
     ]
    }
   ],
   "source": [
    "import numpy as np\n",
    "import matplotlib.pyplot as plt\n",
    "from IPython.display import clear_output\n",
    "import time\n",
    "from ocp import *\n",
    "from costs import *\n",
    "from ocp_utils import *\n",
    "\n",
    "%load_ext autoreload\n",
    "%autoreload 2\n",
    "\n",
    "np.set_printoptions(precision=4, suppress=True)"
   ]
  },
  {
   "cell_type": "markdown",
   "metadata": {},
   "source": [
    "#### Create 2link robot "
   ]
  },
  {
   "cell_type": "code",
   "execution_count": 2,
   "metadata": {},
   "outputs": [],
   "source": [
    "dt = 0.01\n",
    "T = 100\n",
    "ee_id = 1\n",
    "\n",
    "sys = TwoLinkRobot(dt = dt)\n",
    "x0 = np.array([0,0,0,0])\n",
    "sys.set_init_state(x0)\n",
    "\n",
    "\n",
    "#set initial control output to be all zeros\n",
    "us = np.zeros((T+1,sys.Du))\n",
    "_ = sys.compute_matrices(x0, us[0])\n",
    "xs = sys.rollout(us[:-1])"
   ]
  },
  {
   "cell_type": "markdown",
   "metadata": {},
   "source": [
    "#### Plot initial trajectory"
   ]
  },
  {
   "cell_type": "raw",
   "metadata": {},
   "source": [
    "sys.plot_traj(xs)"
   ]
  },
  {
   "cell_type": "markdown",
   "metadata": {},
   "source": [
    "#### Set the regularization cost coefficients Q and R "
   ]
  },
  {
   "cell_type": "code",
   "execution_count": 3,
   "metadata": {},
   "outputs": [],
   "source": [
    "Q = np.eye(sys.Dx)*.1\n",
    "Q[0:2,0:2] *= 0.0        #only put cost regularization on the velocity, not on the joint angles\n",
    "Qf = np.eye(sys.Dx)*1\n",
    "Qf[0:2,0:2] *= 0.0       #only put cost regularization on the velocity, not on the joint angles\n",
    "R = np.eye(sys.Du)*.1\n",
    "mu = 1e-6                #regularization coefficient"
   ]
  },
  {
   "cell_type": "markdown",
   "metadata": {},
   "source": [
    "#### Set end effector reference "
   ]
  },
  {
   "cell_type": "code",
   "execution_count": 4,
   "metadata": {},
   "outputs": [],
   "source": [
    "#W and WT: cost coefficients for the end-effector reaching task\n",
    "\n",
    "p_ref = np.array([.5, .8])\n",
    "W = np.eye(2)*1\n",
    "WT = np.eye(2)*100\n",
    "sys.set_pref(p_ref)"
   ]
  },
  {
   "cell_type": "markdown",
   "metadata": {},
   "source": [
    "#### Set obstacle"
   ]
  },
  {
   "cell_type": "code",
   "execution_count": 5,
   "metadata": {},
   "outputs": [
    {
     "data": {
      "image/png": "[encoded data removed]",
      "text/plain": [
       "<Figure size 432x288 with 1 Axes>"
      ]
     },
     "metadata": {
      "needs_background": "light"
     },
     "output_type": "display_data"
    }
   ],
   "source": [
    "p_obs1 = np.array([1.5,1.2])  #obstacle position\n",
    "r_obs1 = np.array([0.3, 0.5]) #radius of the ellipse\n",
    "ori_obs1 = 0  #rotate the ellipse clockwise\n",
    "w_obs1 = 100   #weight of the obstacle cost\n",
    "\n",
    "#compute the covariance matrix of the ellipse\n",
    "Sigma_obs1 = compute_covariance(r_obs1, ori_obs1)\n",
    "\n",
    "\n",
    "#plot the ellipse\n",
    "fig, ax = plt.subplots()\n",
    "plot_gaussian_2D(p_obs1, Sigma_obs1, ax=ax)\n",
    "ax.set_xlim(0, 2)\n",
    "ax.set_ylim(0,2)\n",
    "ax.set_aspect('equal')"
   ]
  },
  {
   "cell_type": "markdown",
   "metadata": {},
   "source": [
    "### iLQR using cost model"
   ]
  },
  {
   "cell_type": "markdown",
   "metadata": {},
   "source": [
    "#### Define the cost"
   ]
  },
  {
   "cell_type": "code",
   "execution_count": 8,
   "metadata": {},
   "outputs": [],
   "source": [
    "#The costs consist of: a) state regularization (Q), b) control regularization (R),  c) End-effector reaching task (W), and d) Obstacle cost w_obs1\n",
    "#Running cost is for the time 0 <= t < T, while terminal cost is for the time t = T\n",
    "costs = []\n",
    "for i in range(T):\n",
    "    runningStateCost = CostModelQuadratic(sys, Q)\n",
    "    runningControlCost = CostModelQuadratic(sys, None, R)\n",
    "    runningEECost = CostModelQuadraticTranslation(sys,W,ee_id,p_ref)\n",
    "    runningObstacleCost = CostModelCollisionEllipsoid(sys, p_obs1, Sigma_obs1, ee_id, w_obs1, d_thres=1.)    \n",
    "    runningCost = CostModelSum(sys, [runningStateCost, runningControlCost, runningEECost, runningObstacleCost])\n",
    "    costs += [runningCost]\n",
    "\n",
    "terminalStateCost = CostModelQuadratic(sys,Qf)\n",
    "terminalControlCost = CostModelQuadratic(sys, None,R)\n",
    "terminalEECost = CostModelQuadraticTranslation(sys,WT,ee_id,p_ref)\n",
    "terminalObstacleCost = CostModelCollisionEllipsoid(sys, p_obs1, Sigma_obs1, ee_id, w_obs1, d_thres = 1.)\n",
    "terminalCost = CostModelSum(sys, [terminalStateCost, terminalControlCost, terminalEECost,terminalObstacleCost])\n",
    "\n",
    "costs += [terminalCost]"
   ]
  },
  {
   "cell_type": "markdown",
   "metadata": {},
   "source": [
    "#### Construct ILQR"
   ]
  },
  {
   "cell_type": "code",
   "execution_count": 9,
   "metadata": {},
   "outputs": [],
   "source": [
    "ilqr_cost = ILQR(sys, mu)\n",
    "ilqr_cost.set_init_state(x0)\n",
    "ilqr_cost.set_timestep(T)\n",
    "ilqr_cost.set_cost(costs)\n",
    "ilqr_cost.set_state(xs, us)"
   ]
  },
  {
   "cell_type": "markdown",
   "metadata": {},
   "source": [
    "#### Solve and Plot"
   ]
  },
  {
   "cell_type": "code",
   "execution_count": 11,
   "metadata": {},
   "outputs": [
    {
     "data": {
      "image/png": "[encoded data removed]",
      "text/plain": [
       "<Figure size 432x288 with 1 Axes>"
      ]
     },
     "metadata": {
      "needs_background": "light"
     },
     "output_type": "display_data"
    }
   ],
   "source": [
    "n_iter = 10\n",
    "ilqr_cost.solve(n_iter, method='batch')\n",
    "xs_batch, us_batch = ilqr_cost.xs, ilqr_cost.us\n",
    "\n",
    "clear_output()\n",
    "plt.plot(xs_batch[:,0], xs_batch[:,1], 'b--', label='batch')\n",
    "plt.legend()\n",
    "plt.show()"
   ]
  },
  {
   "cell_type": "markdown",
   "metadata": {},
   "source": [
    "#### Play traj"
   ]
  },
  {
   "cell_type": "code",
   "execution_count": 12,
   "metadata": {},
   "outputs": [],
   "source": [
    "def plot_traj(xs, dt = 0.1):\n",
    "    for x in xs:\n",
    "        clear_output(wait=True)\n",
    "        fig, ax = plt.subplots()\n",
    "        ax.plot(sys.p_ref[0], sys.p_ref[1], '*')\n",
    "        plot_gaussian_2D(p_obs1, Sigma_obs1, ax=ax)\n",
    "        ax.set_aspect('equal')\n",
    "        sys.plot(x)\n",
    "        plt.show()\n",
    "        time.sleep(sys.dt)"
   ]
  },
  {
   "cell_type": "code",
   "execution_count": 13,
   "metadata": {},
   "outputs": [
    {
     "data": {
      "image/png": "[encoded data removed]",
      "text/plain": [
       "<Figure size 432x288 with 1 Axes>"
      ]
     },
     "metadata": {
      "needs_background": "light"
     },
     "output_type": "display_data"
    }
   ],
   "source": [
    "plot_traj(ilqr_cost.xs)"
   ]
  }
 ],
 "metadata": {
  "kernelspec": {
   "display_name": "Python 3",
   "language": "python",
   "name": "python3"
  },
  "language_info": {
   "codemirror_mode": {
    "name": "ipython",
    "version": 3
   },
   "file_extension": ".py",
   "mimetype": "text/x-python",
   "name": "python",
   "nbconvert_exporter": "python",
   "pygments_lexer": "ipython3",
   "version": "3.8.3"
  }
 },
 "nbformat": 4,
 "nbformat_minor": 4
}
