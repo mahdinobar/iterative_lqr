{
 "cells": [
  {
   "cell_type": "code",
   "execution_count": 1,
   "metadata": {},
   "outputs": [],
   "source": [
    "import numpy as np\n",
    "import matplotlib.pyplot as plt"
   ]
  },
  {
   "cell_type": "code",
   "execution_count": 2,
   "metadata": {},
   "outputs": [],
   "source": [
    "e = 1\n",
    "p_obs = 1"
   ]
  },
  {
   "cell_type": "code",
   "execution_count": 3,
   "metadata": {},
   "outputs": [],
   "source": [
    "x = np.linspace(-1, 3, 50)"
   ]
  },
  {
   "cell_type": "raw",
   "metadata": {},
   "source": [
    "def grad(x):\n",
    "    r = (x-p_obs)**2\n",
    "    grad = -2*(x - p_obs)*(r < e)\n",
    "    return grad"
   ]
  },
  {
   "cell_type": "code",
   "execution_count": 4,
   "metadata": {},
   "outputs": [],
   "source": [
    "def c(x):\n",
    "    r = (x-p_obs)\n",
    "    cost = e - r**2\n",
    "    cost = 0.5*(r**2 < e)*cost\n",
    "    return cost, r"
   ]
  },
  {
   "cell_type": "code",
   "execution_count": 5,
   "metadata": {},
   "outputs": [],
   "source": [
    "def grad_diff(x, inc=0.001):\n",
    "    grad_cost = np.zeros((len(x)))\n",
    "    J = np.zeros((len(x)))\n",
    "\n",
    "    xp = x.copy()\n",
    "    xp +=inc\n",
    "    costp, rp = c(xp)\n",
    "\n",
    "    xm = x.copy()\n",
    "    xm -= inc\n",
    "    costm, rm = c(xm)\n",
    "\n",
    "    diff = (costp-costm)/(2*inc)\n",
    "    diff_r = (rp-rm)/(2*inc)\n",
    "    grad_cost = diff\n",
    "    J = diff_r\n",
    "    return grad_cost, J"
   ]
  },
  {
   "cell_type": "code",
   "execution_count": 6,
   "metadata": {},
   "outputs": [],
   "source": [
    "def hess_diff(x, inc=0.001):\n",
    "    hess_cost = np.zeros(len(x))\n",
    "    xp = x.copy()\n",
    "    xp+=inc\n",
    "    grad_costp, Jp = grad_diff(xp)\n",
    "\n",
    "    xm = x.copy()\n",
    "    xm-=inc\n",
    "    grad_costm, Jm = grad_diff(xm)\n",
    "\n",
    "    diff = (grad_costp-grad_costm)/(2*inc)\n",
    "    hess_cost = diff\n",
    "    return hess_cost"
   ]
  },
  {
   "cell_type": "code",
   "execution_count": 7,
   "metadata": {},
   "outputs": [],
   "source": [
    "def hess_diff_gauss(x):\n",
    "    cost, r = c(x)\n",
    "    _,J = grad_diff(x)\n",
    "    return J*J*(r**2 < e)"
   ]
  },
  {
   "cell_type": "raw",
   "metadata": {},
   "source": [
    "def hess(x):\n",
    "    if type(x) is np.ndarray:\n",
    "        l = len(x)\n",
    "    else:\n",
    "        l = 1\n",
    "        \n",
    "    r = (x-p_obs)**2\n",
    "    hess = -np.ones(l)*(r<e)\n",
    "    return hess"
   ]
  },
  {
   "cell_type": "code",
   "execution_count": 8,
   "metadata": {},
   "outputs": [],
   "source": [
    "def hess(x):\n",
    "    jac = grad(x)\n",
    "    return jac*jac"
   ]
  },
  {
   "cell_type": "code",
   "execution_count": 9,
   "metadata": {},
   "outputs": [],
   "source": [
    "cost,_ = c(x)\n",
    "grad_cost,_ = grad_diff(x)\n",
    "hess_cost = hess_diff(x)\n",
    "hess_cost_gauss = hess_diff_gauss(x)"
   ]
  },
  {
   "cell_type": "markdown",
   "metadata": {},
   "source": [
    "#### Plot cost"
   ]
  },
  {
   "cell_type": "code",
   "execution_count": 10,
   "metadata": {},
   "outputs": [
    {
     "data": {
      "image/png": "[encoded data removed]",
      "text/plain": [
       "<Figure size 1440x360 with 4 Axes>"
      ]
     },
     "metadata": {
      "needs_background": "light"
     },
     "output_type": "display_data"
    }
   ],
   "source": [
    "fig, axs = plt.subplots(1, 4, figsize=(10,20))\n",
    "fig.set_size_inches(20,5)\n",
    "axs[0].plot(x, cost, label='cost')\n",
    "axs[0].set_title('cost')\n",
    "axs[1].plot(x, grad_cost, label='grad')\n",
    "axs[1].set_title('grad')\n",
    "axs[2].plot(x, hess_cost, 'o', label='true_hess')\n",
    "axs[2].set_title('true_hess')\n",
    "axs[2].set_ylim([-1.5,1.5])\n",
    "axs[3].plot(x, hess_cost_gauss, 'o', label='gauss_hess')\n",
    "axs[3].set_title('gauss_hess')\n",
    "axs[3].set_ylim([-1.5,1.5])\n",
    "fig.suptitle('e**2')\n",
    "plt.savefig('e_2.png')\n",
    "plt.show()"
   ]
  },
  {
   "cell_type": "markdown",
   "metadata": {},
   "source": [
    "## Optimizing this function"
   ]
  },
  {
   "cell_type": "markdown",
   "metadata": {},
   "source": [
    "### Gradient descent"
   ]
  },
  {
   "cell_type": "raw",
   "metadata": {},
   "source": [
    "num_iter = 10\n",
    "x_init = 1.01\n",
    "x_cur = x_init\n",
    "step_length = 0.1\n",
    "xs = [x_cur]\n",
    "for i in range(num_iter):\n",
    "    grad_cur = grad(x_cur)\n",
    "    dx = -step_length*grad_cur\n",
    "    x_cur = x_cur + dx\n",
    "    xs.append(x_cur)\n",
    "\n",
    "plt.plot(xs)"
   ]
  },
  {
   "cell_type": "markdown",
   "metadata": {},
   "source": [
    "### Newton Method"
   ]
  },
  {
   "cell_type": "raw",
   "metadata": {},
   "source": [
    "num_iter = 10\n",
    "x_init = 1.1\n",
    "x_cur = x_init\n",
    "step_length = 0.1\n",
    "xs = [x_cur]\n",
    "for i in range(num_iter):\n",
    "    grad_cur = grad(x_cur)\n",
    "    hess_cur = hess(x_cur)\n",
    "    dx = -step_length*(1./(hess_cur+1e-4))*grad_cur\n",
    "    x_cur = x_cur + dx\n",
    "    xs.append(x_cur)\n",
    "\n",
    "plt.plot(xs)"
   ]
  },
  {
   "cell_type": "markdown",
   "metadata": {},
   "source": [
    "***"
   ]
  },
  {
   "cell_type": "markdown",
   "metadata": {},
   "source": [
    "# Power of 4"
   ]
  },
  {
   "cell_type": "code",
   "execution_count": 63,
   "metadata": {},
   "outputs": [],
   "source": [
    "e = 1\n",
    "p_obs = 1"
   ]
  },
  {
   "cell_type": "code",
   "execution_count": 64,
   "metadata": {},
   "outputs": [],
   "source": [
    "x = np.linspace(-1, 3, 50)"
   ]
  },
  {
   "cell_type": "code",
   "execution_count": 70,
   "metadata": {},
   "outputs": [],
   "source": [
    "def c(x):\n",
    "    temp = (x-p_obs)**2\n",
    "    temp = (e - temp)*(temp < e)\n",
    "    cost = 0.5*temp**2\n",
    "    return cost, temp"
   ]
  },
  {
   "cell_type": "raw",
   "metadata": {},
   "source": [
    "def grad(x):\n",
    "    temp = (x-p_obs)**2\n",
    "    res = (e - temp)*(temp < e)\n",
    "    dres_dx = -2*(x-p_obs)*(temp<e)\n",
    "    grad_x = 2*res*dres_dx\n",
    "    return grad_x"
   ]
  },
  {
   "cell_type": "raw",
   "metadata": {},
   "source": [
    "def hess(x):\n",
    "    temp = (x-p_obs)**2\n",
    "    res = (e - temp)*(temp < e)\n",
    "    jac = grad(x)\n",
    "    hess_x = jac*jac - 2*res\n",
    "    return hess_x"
   ]
  },
  {
   "cell_type": "raw",
   "metadata": {},
   "source": [
    "def hess(x):\n",
    "    jac = grad(x)\n",
    "    return jac*jac"
   ]
  },
  {
   "cell_type": "raw",
   "metadata": {},
   "source": [
    "cost = c(x)\n",
    "grad_cost = grad(x)\n",
    "hess_cost = hess(x)"
   ]
  },
  {
   "cell_type": "code",
   "execution_count": 71,
   "metadata": {},
   "outputs": [],
   "source": [
    "cost,_ = c(x)\n",
    "grad_cost,_ = grad_diff(x)\n",
    "hess_cost = hess_diff(x)\n",
    "hess_cost_gauss = hess_diff_gauss(x)\n"
   ]
  },
  {
   "cell_type": "markdown",
   "metadata": {},
   "source": [
    "#### Plot cost"
   ]
  },
  {
   "cell_type": "code",
   "execution_count": 72,
   "metadata": {},
   "outputs": [
    {
     "data": {
      "image/png": "[encoded data removed]",
      "text/plain": [
       "<Figure size 1440x360 with 4 Axes>"
      ]
     },
     "metadata": {
      "needs_background": "light"
     },
     "output_type": "display_data"
    }
   ],
   "source": [
    "fig, axs = plt.subplots(1, 4, figsize=(10,20))\n",
    "fig.set_size_inches(20,5)\n",
    "axs[0].plot(x, cost, label='cost')\n",
    "axs[0].set_title('cost')\n",
    "axs[1].plot(x, grad_cost, label='grad')\n",
    "axs[1].set_title('grad')\n",
    "axs[2].plot(x, hess_cost, 'o', label='true_hess')\n",
    "axs[2].set_title('true_hess')\n",
    "axs[3].plot(x, hess_cost_gauss, '-o', label='gauss_hess')\n",
    "axs[3].set_title('gauss_hess')\n",
    "fig.suptitle('e**4')\n",
    "plt.savefig('e_4.png')\n",
    "plt.show()"
   ]
  },
  {
   "cell_type": "markdown",
   "metadata": {},
   "source": [
    "### Gradient descent"
   ]
  },
  {
   "cell_type": "raw",
   "metadata": {},
   "source": [
    "num_iter = 100\n",
    "x_init = 1.001\n",
    "x_cur = x_init\n",
    "step_length = 0.1\n",
    "xs = [x_cur]\n",
    "for i in range(num_iter):\n",
    "    grad_cur = grad(x_cur)\n",
    "    dx = -step_length*grad_cur\n",
    "    x_cur = x_cur + dx\n",
    "    xs.append(x_cur)\n",
    "\n",
    "plt.plot(xs)"
   ]
  },
  {
   "cell_type": "markdown",
   "metadata": {},
   "source": [
    "### Newton Method"
   ]
  },
  {
   "cell_type": "raw",
   "metadata": {},
   "source": [
    "num_iter = 100\n",
    "x_init = 1.3\n",
    "x_cur = x_init\n",
    "step_length = 0.1\n",
    "xs = [x_cur]\n",
    "for i in range(num_iter):\n",
    "    grad_cur = grad(x_cur)\n",
    "    hess_cur = hess(x_cur)\n",
    "    dx = -step_length*(1./(hess_cur))*grad_cur\n",
    "    x_cur = x_cur + dx\n",
    "    xs.append(x_cur)\n",
    "\n",
    "plt.plot(xs)"
   ]
  },
  {
   "cell_type": "markdown",
   "metadata": {},
   "source": [
    "## Absolute distance"
   ]
  },
  {
   "cell_type": "code",
   "execution_count": 73,
   "metadata": {},
   "outputs": [],
   "source": [
    "e = 1\n",
    "p_obs = 1"
   ]
  },
  {
   "cell_type": "code",
   "execution_count": 74,
   "metadata": {},
   "outputs": [],
   "source": [
    "x = np.linspace(-1, 3, 200)\n",
    "dt = np.abs(x[0]-x[1])"
   ]
  },
  {
   "cell_type": "code",
   "execution_count": 78,
   "metadata": {},
   "outputs": [],
   "source": [
    "def c(x):\n",
    "    temp = np.sqrt((x-p_obs)**2)\n",
    "    r = (e - temp)*(temp < e)\n",
    "    cost = 0.5*r**2\n",
    "    return cost, r"
   ]
  },
  {
   "cell_type": "raw",
   "metadata": {},
   "source": [
    "def grad(x):\n",
    "    temp = np.sqrt((x-p_obs)**2)\n",
    "    r = (e - temp)*(temp < e)\n",
    "    stat = 2*((x - p_obs)-0.5)\n",
    "    grad_x = -2*r*stat\n",
    "    grad_x = grad_x * (temp<e)\n",
    "    return grad_x\n",
    "\n",
    "def hess(x):\n",
    "    temp = (x-p_obs)**2\n",
    "    res = (e - temp)*(temp < e)\n",
    "    jac = grad(x)\n",
    "    hess_x = jac*jac - 2*res\n",
    "    return hess_x"
   ]
  },
  {
   "cell_type": "raw",
   "metadata": {},
   "source": [
    "def hess(x):\n",
    "    jac = grad(x)\n",
    "    return jac*jac"
   ]
  },
  {
   "cell_type": "code",
   "execution_count": 79,
   "metadata": {},
   "outputs": [],
   "source": [
    "cost,_ = c(x)\n",
    "grad_cost,_ = grad_diff(x)\n",
    "hess_cost = hess_diff(x)\n",
    "hess_cost_gauss = hess_diff_gauss(x)\n"
   ]
  },
  {
   "cell_type": "markdown",
   "metadata": {},
   "source": [
    "#### Plot cost"
   ]
  },
  {
   "cell_type": "code",
   "execution_count": 81,
   "metadata": {},
   "outputs": [
    {
     "data": {
      "image/png": "[encoded data removed]",
      "text/plain": [
       "<Figure size 1440x360 with 4 Axes>"
      ]
     },
     "metadata": {
      "needs_background": "light"
     },
     "output_type": "display_data"
    }
   ],
   "source": [
    "fig, axs = plt.subplots(1, 4, figsize=(10,20))\n",
    "fig.set_size_inches(20,5)\n",
    "axs[0].plot(x, cost, label='cost')\n",
    "axs[0].set_title('cost')\n",
    "axs[1].plot(x, grad_cost, 'o', label='grad')\n",
    "axs[1].set_title('grad')\n",
    "axs[2].plot(x, hess_cost, 'o', label='true_hess')\n",
    "axs[2].set_title('true_hess')\n",
    "axs[3].plot(x, hess_cost_gauss, 'o', label='gauss_hess')\n",
    "axs[3].set_title('gauss_hess')\n",
    "fig.suptitle('Absolute Distance')\n",
    "plt.savefig('abs_distance.png')\n",
    "plt.show()"
   ]
  },
  {
   "cell_type": "markdown",
   "metadata": {},
   "source": [
    "### Gradient descent"
   ]
  },
  {
   "cell_type": "code",
   "execution_count": 72,
   "metadata": {},
   "outputs": [
    {
     "data": {
      "text/plain": [
       "[<matplotlib.lines.Line2D at 0x7fce0f3d4dc0>]"
      ]
     },
     "execution_count": 72,
     "metadata": {},
     "output_type": "execute_result"
    },
    {
     "data": {
      "image/png": "[encoded data removed]",
      "text/plain": [
       "<Figure size 432x288 with 1 Axes>"
      ]
     },
     "metadata": {
      "needs_background": "light"
     },
     "output_type": "display_data"
    }
   ],
   "source": [
    "num_iter = 100\n",
    "x_init = 1.001\n",
    "x_cur = x_init\n",
    "step_length = 0.1\n",
    "xs = [x_cur]\n",
    "for i in range(num_iter):\n",
    "    grad_cur = grad(x_cur)\n",
    "    dx = -step_length*grad_cur\n",
    "    x_cur = x_cur + dx\n",
    "    xs.append(x_cur)\n",
    "\n",
    "plt.plot(xs)"
   ]
  },
  {
   "cell_type": "markdown",
   "metadata": {},
   "source": [
    "### Newton Method"
   ]
  },
  {
   "cell_type": "code",
   "execution_count": 166,
   "metadata": {},
   "outputs": [
    {
     "data": {
      "text/plain": [
       "[<matplotlib.lines.Line2D at 0x7f41804bd1c0>]"
      ]
     },
     "execution_count": 166,
     "metadata": {},
     "output_type": "execute_result"
    },
    {
     "data": {
      "image/png": "[encoded data removed]",
      "text/plain": [
       "<Figure size 432x288 with 1 Axes>"
      ]
     },
     "metadata": {
      "needs_background": "light"
     },
     "output_type": "display_data"
    }
   ],
   "source": [
    "num_iter = 100\n",
    "x_init = 1.3\n",
    "x_cur = x_init\n",
    "step_length = 0.1\n",
    "xs = [x_cur]\n",
    "for i in range(num_iter):\n",
    "    grad_cur = grad(x_cur)\n",
    "    hess_cur = hess(x_cur)\n",
    "    dx = -step_length*(1./(hess_cur))*grad_cur\n",
    "    x_cur = x_cur + dx\n",
    "    xs.append(x_cur)\n",
    "\n",
    "plt.plot(xs)"
   ]
  },
  {
   "cell_type": "markdown",
   "metadata": {},
   "source": [
    "### Activation Function"
   ]
  },
  {
   "cell_type": "code",
   "execution_count": 99,
   "metadata": {},
   "outputs": [],
   "source": [
    "def c(r):\n",
    "    d = abs(r-p_obs)\n",
    "    r0 = e-r\n",
    "    a = (0.5*(d-e)**2) * (d < e)\n",
    "    return a, d"
   ]
  },
  {
   "cell_type": "code",
   "execution_count": 100,
   "metadata": {},
   "outputs": [],
   "source": [
    "cost,_ = c(x)\n",
    "grad_cost,_ = grad_diff(x)\n",
    "hess_cost = hess_diff(x)\n",
    "hess_cost_gauss = hess_diff_gauss(x)\n"
   ]
  },
  {
   "cell_type": "markdown",
   "metadata": {},
   "source": [
    "#### Plot cost"
   ]
  },
  {
   "cell_type": "code",
   "execution_count": 101,
   "metadata": {},
   "outputs": [
    {
     "data": {
      "image/png": "[encoded data removed]",
      "text/plain": [
       "<Figure size 1440x360 with 4 Axes>"
      ]
     },
     "metadata": {
      "needs_background": "light"
     },
     "output_type": "display_data"
    }
   ],
   "source": [
    "fig, axs = plt.subplots(1, 4, figsize=(10,20))\n",
    "fig.set_size_inches(20,5)\n",
    "axs[0].plot(x, cost, label='cost')\n",
    "axs[0].set_title('cost')\n",
    "axs[1].plot(x, grad_cost, 'o', label='grad')\n",
    "axs[1].set_title('grad')\n",
    "axs[2].plot(x, hess_cost, 'o', label='true_hess')\n",
    "axs[2].set_title('true_hess')\n",
    "axs[3].plot(x, hess_cost_gauss, 'o', label='gauss_hess')\n",
    "axs[3].set_title('gauss_hess')\n",
    "fig.suptitle('Absolute Distance')\n",
    "plt.savefig('abs_distance.png')\n",
    "plt.show()"
   ]
  },
  {
   "cell_type": "code",
   "execution_count": null,
   "metadata": {},
   "outputs": [],
   "source": [
    "(self.d-self.threshold)*r/self.d"
   ]
  },
  {
   "cell_type": "code",
   "execution_count": 108,
   "metadata": {},
   "outputs": [],
   "source": [
    "def true_hess(x):\n",
    "    d = abs(x-p_obs)\n",
    "    return (d - e)/d + e*((x-p_obs)**2)/(d**3)"
   ]
  },
  {
   "cell_type": "code",
   "execution_count": 107,
   "metadata": {},
   "outputs": [
    {
     "data": {
      "text/plain": [
       "array([0., 0., 0., 0., 0., 0., 0., 0., 0., 0., 0., 0., 0., 0., 0., 0., 0.,\n",
       "       0., 0., 0., 0., 0., 0., 0., 0., 0., 0., 0., 0., 0., 0., 0., 0., 0.,\n",
       "       0., 0., 0., 0., 0., 0., 0., 0., 0., 0., 0., 0., 0., 0., 0., 0., 1.,\n",
       "       1., 1., 1., 1., 1., 1., 1., 1., 1., 1., 1., 1., 1., 1., 1., 1., 1.,\n",
       "       1., 1., 1., 1., 1., 1., 1., 1., 1., 1., 1., 1., 1., 1., 1., 1., 1.,\n",
       "       1., 1., 1., 1., 1., 1., 1., 1., 1., 1., 1., 1., 1., 1., 1., 1., 1.,\n",
       "       1., 1., 1., 1., 1., 1., 1., 1., 1., 1., 1., 1., 1., 1., 1., 1., 1.,\n",
       "       1., 1., 1., 1., 1., 1., 1., 1., 1., 1., 1., 1., 1., 1., 1., 1., 1.,\n",
       "       1., 1., 1., 1., 1., 1., 1., 1., 1., 1., 1., 1., 1., 1., 0., 0., 0.,\n",
       "       0., 0., 0., 0., 0., 0., 0., 0., 0., 0., 0., 0., 0., 0., 0., 0., 0.,\n",
       "       0., 0., 0., 0., 0., 0., 0., 0., 0., 0., 0., 0., 0., 0., 0., 0., 0.,\n",
       "       0., 0., 0., 0., 0., 0., 0., 0., 0., 0., 0., 0., 0.])"
      ]
     },
     "execution_count": 107,
     "metadata": {},
     "output_type": "execute_result"
    }
   ],
   "source": [
    "hess_cost"
   ]
  },
  {
   "cell_type": "code",
   "execution_count": 109,
   "metadata": {},
   "outputs": [],
   "source": [
    "hess_true = true_hess(x)"
   ]
  },
  {
   "cell_type": "code",
   "execution_count": 111,
   "metadata": {},
   "outputs": [
    {
     "data": {
      "text/plain": [
       "array([1., 1., 1., 1., 1., 1., 1., 1., 1., 1., 1., 1., 1., 1., 1., 1., 1.,\n",
       "       1., 1., 1., 1., 1., 1., 1., 1., 1., 1., 1., 1., 1., 1., 1., 1., 1.,\n",
       "       1., 1., 1., 1., 1., 1., 1., 1., 1., 1., 1., 1., 1., 1., 1., 1., 1.,\n",
       "       1., 1., 1., 1., 1., 1., 1., 1., 1., 1., 1., 1., 1., 1., 1., 1., 1.,\n",
       "       1., 1., 1., 1., 1., 1., 1., 1., 1., 1., 1., 1., 1., 1., 1., 1., 1.,\n",
       "       1., 1., 1., 1., 1., 1., 1., 1., 1., 1., 1., 1., 1., 1., 1., 1., 1.,\n",
       "       1., 1., 1., 1., 1., 1., 1., 1., 1., 1., 1., 1., 1., 1., 1., 1., 1.,\n",
       "       1., 1., 1., 1., 1., 1., 1., 1., 1., 1., 1., 1., 1., 1., 1., 1., 1.,\n",
       "       1., 1., 1., 1., 1., 1., 1., 1., 1., 1., 1., 1., 1., 1., 1., 1., 1.,\n",
       "       1., 1., 1., 1., 1., 1., 1., 1., 1., 1., 1., 1., 1., 1., 1., 1., 1.,\n",
       "       1., 1., 1., 1., 1., 1., 1., 1., 1., 1., 1., 1., 1., 1., 1., 1., 1.,\n",
       "       1., 1., 1., 1., 1., 1., 1., 1., 1., 1., 1., 1., 1.])"
      ]
     },
     "execution_count": 111,
     "metadata": {},
     "output_type": "execute_result"
    }
   ],
   "source": [
    "hess_true"
   ]
  },
  {
   "cell_type": "code",
   "execution_count": 110,
   "metadata": {},
   "outputs": [
    {
     "data": {
      "text/plain": [
       "[<matplotlib.lines.Line2D at 0x7fbaae4a0a90>]"
      ]
     },
     "execution_count": 110,
     "metadata": {},
     "output_type": "execute_result"
    },
    {
     "data": {
      "image/png": "[encoded data removed]",
      "text/plain": [
       "<Figure size 432x288 with 1 Axes>"
      ]
     },
     "metadata": {
      "needs_background": "light"
     },
     "output_type": "display_data"
    }
   ],
   "source": [
    "plt.plot(hess_true)"
   ]
  },
  {
   "cell_type": "code",
   "execution_count": 30,
   "metadata": {},
   "outputs": [
    {
     "data": {
      "text/plain": [
       "array([0., 1., 2.])"
      ]
     },
     "execution_count": 30,
     "metadata": {},
     "output_type": "execute_result"
    }
   ],
   "source": [
    "np.concatenate([[0.],[1.],[2.]])"
   ]
  },
  {
   "cell_type": "code",
   "execution_count": null,
   "metadata": {},
   "outputs": [],
   "source": []
  },
  {
   "cell_type": "code",
   "execution_count": null,
   "metadata": {},
   "outputs": [],
   "source": []
  },
  {
   "cell_type": "code",
   "execution_count": null,
   "metadata": {},
   "outputs": [],
   "source": []
  },
  {
   "cell_type": "markdown",
   "metadata": {},
   "source": [
    "## Examining 2D problem"
   ]
  },
  {
   "cell_type": "code",
   "execution_count": 11,
   "metadata": {},
   "outputs": [],
   "source": [
    "N = 100\n",
    "x = np.linspace(-2, 2, 100)\n",
    "y = np.linspace(-2,2, 100)"
   ]
  },
  {
   "cell_type": "code",
   "execution_count": 12,
   "metadata": {},
   "outputs": [],
   "source": [
    "X, Y = np.meshgrid(x, y)"
   ]
  },
  {
   "cell_type": "code",
   "execution_count": 13,
   "metadata": {},
   "outputs": [],
   "source": [
    "data = np.vstack([X.flatten(), Y.flatten()]).T"
   ]
  },
  {
   "cell_type": "code",
   "execution_count": 21,
   "metadata": {},
   "outputs": [],
   "source": [
    "z = np.zeros(len(data))\n",
    "for i in range(data.shape[0]):\n",
    "    z[i] = c(data[i])"
   ]
  },
  {
   "cell_type": "code",
   "execution_count": 22,
   "metadata": {},
   "outputs": [],
   "source": [
    "Z = z.reshape(N,N)"
   ]
  },
  {
   "cell_type": "code",
   "execution_count": 23,
   "metadata": {},
   "outputs": [],
   "source": [
    "import pylab"
   ]
  },
  {
   "cell_type": "code",
   "execution_count": 24,
   "metadata": {},
   "outputs": [],
   "source": [
    "from mpl_toolkits.mplot3d import Axes3D"
   ]
  },
  {
   "cell_type": "code",
   "execution_count": 25,
   "metadata": {},
   "outputs": [],
   "source": [
    "%matplotlib qt"
   ]
  },
  {
   "cell_type": "code",
   "execution_count": 26,
   "metadata": {},
   "outputs": [],
   "source": [
    "fig = plt.figure()\n",
    "ax = fig.gca(projection='3d')\n",
    "surf = ax.plot_surface(X,Y,Z)\n",
    "plt.show()"
   ]
  },
  {
   "cell_type": "code",
   "execution_count": 15,
   "metadata": {},
   "outputs": [],
   "source": [
    "def c(r):\n",
    "    d = np.linalg.norm(r)\n",
    "    if d < e:\n",
    "        a = 0.5*(d-e)**2\n",
    "    else:\n",
    "        a = 0\n",
    "    return a"
   ]
  },
  {
   "cell_type": "code",
   "execution_count": 16,
   "metadata": {},
   "outputs": [],
   "source": [
    "def grad(r):\n",
    "    d = np.linalg.norm(r)\n",
    "    return ((d-e)*r/d )*(d<e)"
   ]
  },
  {
   "cell_type": "code",
   "execution_count": 17,
   "metadata": {},
   "outputs": [],
   "source": [
    "def hess(r):\n",
    "    d = np.linalg.norm(r)\n",
    "    return np.eye(2)*(d-e)/d + e*np.outer(r,r)/(d**3)"
   ]
  },
  {
   "cell_type": "code",
   "execution_count": 18,
   "metadata": {},
   "outputs": [],
   "source": [
    "def hess(r):\n",
    "    d = np.linalg.norm(r)\n",
    "    return np.outer(r,r)/(d**2)"
   ]
  },
  {
   "cell_type": "code",
   "execution_count": 19,
   "metadata": {},
   "outputs": [],
   "source": [
    "def grad_diff(r, inc=0.001):\n",
    "    J = np.zeros(len(r))\n",
    "    for i in range(len(r)):\n",
    "        rp = r.copy()\n",
    "        rp[i]+= inc\n",
    "        cp = c(rp)\n",
    "        \n",
    "        rm = r.copy()\n",
    "        rm[i]-= inc\n",
    "        cm = c(rm)\n",
    "        \n",
    "        diff = (cp-cm)/(2*inc)\n",
    "        J[i] = diff\n",
    "    return J"
   ]
  },
  {
   "cell_type": "code",
   "execution_count": 20,
   "metadata": {},
   "outputs": [],
   "source": [
    "def hess_diff(r, inc=0.001):\n",
    "    H = np.zeros((len(r),len(r)))\n",
    "    for i in range(len(r)):\n",
    "        rp = r.copy()\n",
    "        rp[i]+= inc\n",
    "        gradp = grad(rp)\n",
    "        \n",
    "        rm = r.copy()\n",
    "        rm[i]-= inc\n",
    "        gradm = grad(rm)\n",
    "        \n",
    "        diff = (gradp-gradm)/(2*inc)\n",
    "        H[i] = diff\n",
    "    return H"
   ]
  },
  {
   "cell_type": "code",
   "execution_count": 313,
   "metadata": {},
   "outputs": [],
   "source": [
    "G = []\n",
    "for i in range(len(data)):\n",
    "    g = grad_diff(data[i])\n",
    "    G.append(g)\n",
    "G = np.vstack(G).reshape(100,100,2)"
   ]
  },
  {
   "cell_type": "code",
   "execution_count": 314,
   "metadata": {},
   "outputs": [],
   "source": [
    "%matplotlib inline"
   ]
  },
  {
   "cell_type": "code",
   "execution_count": 315,
   "metadata": {},
   "outputs": [
    {
     "data": {
      "text/plain": [
       "[<matplotlib.lines.Line2D at 0x7fba937c41c0>]"
      ]
     },
     "execution_count": 315,
     "metadata": {},
     "output_type": "execute_result"
    },
    {
     "data": {
      "image/png": "[encoded data removed]",
      "text/plain": [
       "<Figure size 432x288 with 1 Axes>"
      ]
     },
     "metadata": {
      "needs_background": "light"
     },
     "output_type": "display_data"
    }
   ],
   "source": [
    "plt.plot(Z[50,:])"
   ]
  },
  {
   "cell_type": "code",
   "execution_count": 316,
   "metadata": {},
   "outputs": [
    {
     "data": {
      "text/plain": [
       "[<matplotlib.lines.Line2D at 0x7fba9826dca0>]"
      ]
     },
     "execution_count": 316,
     "metadata": {},
     "output_type": "execute_result"
    },
    {
     "data": {
      "image/png": "[encoded data removed]",
      "text/plain": [
       "<Figure size 432x288 with 1 Axes>"
      ]
     },
     "metadata": {
      "needs_background": "light"
     },
     "output_type": "display_data"
    }
   ],
   "source": [
    "plt.plot(G[50,:,0])"
   ]
  },
  {
   "cell_type": "code",
   "execution_count": 317,
   "metadata": {},
   "outputs": [
    {
     "data": {
      "text/plain": [
       "[<matplotlib.lines.Line2D at 0x7fba98411dc0>]"
      ]
     },
     "execution_count": 317,
     "metadata": {},
     "output_type": "execute_result"
    },
    {
     "data": {
      "image/png": "[encoded data removed]",
      "text/plain": [
       "<Figure size 432x288 with 1 Axes>"
      ]
     },
     "metadata": {
      "needs_background": "light"
     },
     "output_type": "display_data"
    }
   ],
   "source": [
    "plt.plot(G[55,:,1])"
   ]
  },
  {
   "cell_type": "code",
   "execution_count": 318,
   "metadata": {},
   "outputs": [
    {
     "data": {
      "text/plain": [
       "[<matplotlib.lines.Line2D at 0x7fba982b1610>]"
      ]
     },
     "execution_count": 318,
     "metadata": {},
     "output_type": "execute_result"
    },
    {
     "data": {
      "image/png": "[encoded data removed]",
      "text/plain": [
       "<Figure size 432x288 with 1 Axes>"
      ]
     },
     "metadata": {
      "needs_background": "light"
     },
     "output_type": "display_data"
    }
   ],
   "source": [
    "plt.plot(G[55,:,0])"
   ]
  },
  {
   "cell_type": "code",
   "execution_count": 319,
   "metadata": {},
   "outputs": [],
   "source": [
    "x0 = X[55,40]\n",
    "y0 = Y[55,40]"
   ]
  },
  {
   "cell_type": "code",
   "execution_count": 320,
   "metadata": {},
   "outputs": [],
   "source": [
    "r0 = np.array([x0,y0])"
   ]
  },
  {
   "cell_type": "code",
   "execution_count": 321,
   "metadata": {},
   "outputs": [
    {
     "data": {
      "text/plain": [
       "array([ 0.4815879 , -0.27881405])"
      ]
     },
     "execution_count": 321,
     "metadata": {},
     "output_type": "execute_result"
    }
   ],
   "source": [
    "grad(r0)"
   ]
  },
  {
   "cell_type": "code",
   "execution_count": 322,
   "metadata": {},
   "outputs": [],
   "source": [
    "H = []\n",
    "for i in range(len(data)):\n",
    "    h = hess(data[i])\n",
    "    D = np.linalg.det(h)\n",
    "    H.append(D)\n",
    "H = np.array(H).reshape(100,100)"
   ]
  },
  {
   "cell_type": "code",
   "execution_count": 27,
   "metadata": {},
   "outputs": [],
   "source": [
    "H = []\n",
    "H_full = []\n",
    "for i in range(len(data)):\n",
    "    h = hess_diff(data[i])\n",
    "    D = np.linalg.det(h)\n",
    "    H.append(D)\n",
    "    H_full.append(h)\n",
    "H = np.array(H).reshape(100,100)"
   ]
  },
  {
   "cell_type": "code",
   "execution_count": 28,
   "metadata": {},
   "outputs": [],
   "source": [
    "fig = plt.figure()\n",
    "ax = fig.gca(projection='3d')\n",
    "surf = ax.plot_surface(X,Y,H)\n",
    "plt.show()"
   ]
  },
  {
   "cell_type": "code",
   "execution_count": 197,
   "metadata": {},
   "outputs": [],
   "source": [
    "fig = plt.figure()\n",
    "ax = fig.gca(projection='3d')\n",
    "surf = ax.plot_surface(X,Y,Z)\n",
    "plt.show()"
   ]
  },
  {
   "cell_type": "code",
   "execution_count": 325,
   "metadata": {},
   "outputs": [],
   "source": [
    "%matplotlib qt"
   ]
  },
  {
   "cell_type": "code",
   "execution_count": 262,
   "metadata": {},
   "outputs": [],
   "source": [
    "fig = plt.figure()\n",
    "ax = fig.gca(projection='3d')\n",
    "surf = ax.plot_surface(X,Y,G[:,:,1])\n",
    "plt.show()"
   ]
  },
  {
   "cell_type": "raw",
   "metadata": {},
   "source": [
    "      \n",
    "        if self.d < self.threshold:\n",
    "            data.Ar = (self.d-self.threshold)*r/self.d\n",
    "            data.Arr = np.matrix(np.eye(self.nr))*(self.d-self.threshold)/self.d + self.threshold*r*r.T/(self.d**3)\n",
    "        else:\n",
    "            data.Ar = np.matrix(np.zeros((self.nr,1)))\n",
    "            data.Arr = np.matrix(np.zeros((self.nr,self.nr)))"
   ]
  }
 ],
 "metadata": {
  "kernelspec": {
   "display_name": "Python 3",
   "language": "python",
   "name": "python3"
  },
  "language_info": {
   "codemirror_mode": {
    "name": "ipython",
    "version": 3
   },
   "file_extension": ".py",
   "mimetype": "text/x-python",
   "name": "python",
   "nbconvert_exporter": "python",
   "pygments_lexer": "ipython3",
   "version": "3.8.3"
  }
 },
 "nbformat": 4,
 "nbformat_minor": 4
}
