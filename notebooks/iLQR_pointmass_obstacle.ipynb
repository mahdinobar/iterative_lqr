{
 "cells": [
  {
   "cell_type": "markdown",
   "metadata": {},
   "source": [
    "#### iLQR for point mass example"
   ]
  },
  {
   "cell_type": "code",
   "execution_count": 1,
   "metadata": {},
   "outputs": [],
   "source": [
    "import numpy as np\n",
    "import matplotlib.pyplot as plt\n",
    "from numpy import dot\n",
    "from numpy.linalg import inv\n",
    "from IPython.display import clear_output\n",
    "import time\n",
    "from ocp import *\n",
    "from costs import *\n",
    "%load_ext autoreload\n",
    "%autoreload 2\n",
    "\n",
    "np.set_printoptions(precision=4, suppress=True)"
   ]
  },
  {
   "cell_type": "markdown",
   "metadata": {},
   "source": [
    "#### Create point mass system with dimension 2 (double integrator)"
   ]
  },
  {
   "cell_type": "code",
   "execution_count": 56,
   "metadata": {},
   "outputs": [],
   "source": [
    "dt = 0.05\n",
    "T = 100\n",
    "Dx, Du = 4, 2\n",
    "A = np.eye(Dx)\n",
    "A[:2,2:] = np.eye(2)*dt\n",
    "B = np.zeros((Dx, Du))\n",
    "B[2:, :] = np.eye(Du)\n",
    "\n",
    "sys = LinearSystem(A, B)"
   ]
  },
  {
   "cell_type": "markdown",
   "metadata": {},
   "source": [
    "#### Set initial state and control trajectory"
   ]
  },
  {
   "cell_type": "code",
   "execution_count": 57,
   "metadata": {},
   "outputs": [],
   "source": [
    "x0 = np.zeros(Dx)\n",
    "x0[3] = 0\n",
    "sys.set_init_state(x0)\n",
    "\n",
    "#set initial control output to be all zeros\n",
    "us = np.zeros((T+1,sys.Du))\n",
    "_ = sys.compute_matrices(x0, us[0])\n",
    "xs = sys.rollout(us[:-1])"
   ]
  },
  {
   "cell_type": "markdown",
   "metadata": {},
   "source": [
    "#### Plot initial trajectory"
   ]
  },
  {
   "cell_type": "raw",
   "metadata": {},
   "source": [
    "sys.plot_traj(xs)"
   ]
  },
  {
   "cell_type": "markdown",
   "metadata": {},
   "source": [
    "#### Set the regularization cost coefficients Q and R "
   ]
  },
  {
   "cell_type": "code",
   "execution_count": 97,
   "metadata": {},
   "outputs": [],
   "source": [
    "Q = np.eye(sys.Dx)*1\n",
    "#Q[0:2,0:2] *= 0.0\n",
    "Qf = np.eye(sys.Dx)*1\n",
    "#Qf[0:2,0:2] *= 0.0\n",
    "R = np.eye(sys.Du)*.001\n",
    "mu = 1e-6"
   ]
  },
  {
   "cell_type": "markdown",
   "metadata": {},
   "source": [
    "#### Set reference target"
   ]
  },
  {
   "cell_type": "code",
   "execution_count": 98,
   "metadata": {},
   "outputs": [],
   "source": [
    "x_ref = np.array([2, 2, 0,0])"
   ]
  },
  {
   "cell_type": "markdown",
   "metadata": {},
   "source": [
    "#### Set obstacle"
   ]
  },
  {
   "cell_type": "code",
   "execution_count": 114,
   "metadata": {},
   "outputs": [],
   "source": [
    "p_obs1 = np.array([1.,0.6])\n",
    "Sigma_obs1 = np.diag([0.3, 0.3])\n",
    "w_obs1 = 100\n",
    "r_obs1 = np.sqrt(0.3)"
   ]
  },
  {
   "cell_type": "markdown",
   "metadata": {},
   "source": [
    "### iLQR using cost model"
   ]
  },
  {
   "cell_type": "markdown",
   "metadata": {},
   "source": [
    "#### Define the cost"
   ]
  },
  {
   "cell_type": "code",
   "execution_count": 115,
   "metadata": {},
   "outputs": [],
   "source": [
    "#The costs consist of: a) state tracking (Q), b) control regularization (R)\n",
    "#Running cost is for the time 0 <= t < T, while terminal cost is for the time t = T\n",
    "costs = []\n",
    "\n",
    "for i in range(T):\n",
    "    runningStateCost = CostModelQuadratic(sys, Q, x_ref = x_ref)\n",
    "    runningControlCost = CostModelQuadratic(sys, None, R)\n",
    "    runningObstacleCost = CostModelCollisionEllipsoid(sys, p_obs1, Sigma_obs1, w_obs1)\n",
    "#     activation = ActivationCollision(nr=2, threshold = r_obs1)\n",
    "#     runningObstacleCost = CostModelCollisionCircle(sys, activation, p_obs1, Sigma_obs1, w_obs1)\n",
    "    \n",
    "    runningCost = CostModelSum(sys, [runningStateCost, runningControlCost, runningObstacleCost])\n",
    "    costs += [runningCost]\n",
    "\n",
    "terminalStateCost = CostModelQuadratic(sys,Qf, x_ref = x_ref)\n",
    "terminalControlCost = CostModelQuadratic(sys, None,R)\n",
    "terminalObstacleCost = CostModelCollisionEllipsoid(sys, p_obs1, Sigma_obs1, w_obs1)\n",
    "# activation = ActivationCollision(nr=2, threshold = r_obs1)\n",
    "# terminalObstacleCost = CostModelCollisionCircle(sys, activation, p_obs1, Sigma_obs1, w_obs1)\n",
    "terminalCost = CostModelSum(sys, [terminalStateCost, terminalControlCost, terminalObstacleCost])\n",
    "\n",
    "costs += [terminalCost]"
   ]
  },
  {
   "cell_type": "markdown",
   "metadata": {},
   "source": [
    "#### Construct ILQR"
   ]
  },
  {
   "cell_type": "code",
   "execution_count": 116,
   "metadata": {},
   "outputs": [],
   "source": [
    "ilqr_cost = ILQR(sys)\n",
    "ilqr_cost.set_init_state(x0)\n",
    "ilqr_cost.set_timestep(T)\n",
    "ilqr_cost.set_cost(costs)\n",
    "ilqr_cost.set_state(xs, us)"
   ]
  },
  {
   "cell_type": "markdown",
   "metadata": {},
   "source": [
    "#### Solve and Plot"
   ]
  },
  {
   "cell_type": "markdown",
   "metadata": {},
   "source": [
    "#### Solve"
   ]
  },
  {
   "cell_type": "code",
   "execution_count": 117,
   "metadata": {},
   "outputs": [
    {
     "name": "stdout",
     "output_type": "stream",
     "text": [
      "404.0\n",
      "(1.0, 246.50231297822177)\n",
      "246.50231297822177\n",
      "(1.0, 1842.0561538274721)\n",
      "(0.8, 1209.8835866938855)\n",
      "(0.6400000000000001, 805.2931437283899)\n",
      "(0.5120000000000001, 546.3552602304729)\n",
      "(0.40960000000000013, 380.63501479180593)\n",
      "(0.32768000000000014, 274.574057711059)\n",
      "(0.2621440000000001, 206.69504517938094)\n",
      "206.69504517938094\n",
      "(1.0, 246.50231297823683)\n",
      "(0.8, 90.84819712531669)\n",
      "90.84819712531669\n",
      "(1.0, 246.50231297822728)\n",
      "(0.8, 175.4404023255695)\n",
      "(0.6400000000000001, 129.09758761429416)\n",
      "(0.5120000000000001, 103.60710552144977)\n",
      "(0.40960000000000013, 92.15127749107029)\n",
      "(0.32768000000000014, 88.71038887319483)\n",
      "88.71038887319483\n",
      "(1.0, 93.07031585317975)\n",
      "(0.8, 91.82479445791752)\n",
      "(0.6400000000000001, 90.92632520635418)\n",
      "(0.5120000000000001, 90.27023643847716)\n",
      "(0.40960000000000013, 89.78548486953468)\n",
      "(0.32768000000000014, 89.42336005941063)\n",
      "(0.2621440000000001, 89.15009313613048)\n",
      "(0.2097152000000001, 88.94199666939056)\n",
      "(0.1677721600000001, 88.78225042200458)\n",
      "(0.13421772800000006, 88.65876121673956)\n",
      "88.65876121673956\n",
      "(1.0, 246.50231297822594)\n",
      "(0.8, 193.07655539982517)\n",
      "(0.6400000000000001, 154.65052025110887)\n",
      "(0.5120000000000001, 128.7458799360432)\n",
      "(0.40960000000000013, 112.14389699337622)\n",
      "(0.32768000000000014, 101.84439064245468)\n",
      "(0.2621440000000001, 95.68335816031326)\n",
      "(0.2097152000000001, 92.15442604304303)\n",
      "(0.1677721600000001, 90.21935154152177)\n",
      "(0.13421772800000006, 89.1947915211231)\n",
      "(0.10737418240000006, 88.69167662356071)\n",
      "(0.08589934592000005, 88.46512916723611)\n",
      "88.46512916723611\n",
      "(1.0, 89.38910354544589)\n",
      "(0.8, 89.11651420199732)\n",
      "(0.6400000000000001, 88.9127666957917)\n",
      "(0.5120000000000001, 88.75893603070132)\n",
      "(0.40960000000000013, 88.6417385961484)\n",
      "(0.32768000000000014, 88.55173559091855)\n",
      "(0.2621440000000001, 88.4821363498786)\n",
      "(0.2097152000000001, 88.42799498145877)\n",
      "88.42799498145877\n",
      "(1.0, 246.50231297822552)\n",
      "(0.8, 195.57648986046158)\n",
      "(0.6400000000000001, 158.50381965740218)\n",
      "(0.5120000000000001, 132.94025792048706)\n",
      "(0.40960000000000013, 116.12146004952218)\n",
      "(0.32768000000000014, 105.23076629100531)\n",
      "(0.2621440000000001, 98.41904604590536)\n",
      "(0.2097152000000001, 94.21224752539041)\n",
      "(0.1677721600000001, 91.68704171186168)\n",
      "(0.13421772800000006, 90.2210178505278)\n",
      "(0.10737418240000006, 89.35485404130921)\n",
      "(0.08589934592000005, 88.85843010541235)\n",
      "(0.06871947673600004, 88.58987129403319)\n",
      "(0.054975581388800036, 88.44631540638142)\n",
      "(0.043980465111040035, 88.37512492187732)\n",
      "88.37512492187732\n",
      "(1.0, 88.31615263819694)\n",
      "88.31615263819694\n",
      "(1.0, 205.41549582931816)\n",
      "(0.8, 167.60931847003957)\n",
      "(0.6400000000000001, 140.76603742276407)\n",
      "(0.5120000000000001, 122.44928793025538)\n",
      "(0.40960000000000013, 110.25268645750572)\n",
      "(0.32768000000000014, 102.20821820266266)\n",
      "(0.2621440000000001, 97.01279964979709)\n",
      "(0.2097152000000001, 93.72519026312497)\n",
      "(0.1677721600000001, 91.64708816636391)\n",
      "(0.13421772800000006, 90.34919516009239)\n",
      "(0.10737418240000006, 89.54484236072634)\n",
      "(0.08589934592000005, 89.04858999181894)\n",
      "(0.06871947673600004, 88.74676185879844)\n",
      "(0.054975581388800036, 88.56089171763084)\n",
      "(0.043980465111040035, 88.44766208066294)\n",
      "(0.03518437208883203, 88.38008613692972)\n",
      "(0.028147497671065627, 88.34090931588514)\n",
      "(0.022517998136852502, 88.31917522942327)\n",
      "(0.018014398509482003, 88.30797859125012)\n"
     ]
    }
   ],
   "source": [
    "n_iter = 10\n",
    "ilqr_cost.solve(n_iter, method='batch')\n",
    "xs_batch, us_batch = ilqr_cost.xs, ilqr_cost.us\n",
    "\n",
    "\n",
    "#clear_output()"
   ]
  },
  {
   "cell_type": "code",
   "execution_count": 118,
   "metadata": {},
   "outputs": [],
   "source": [
    "idx = -1"
   ]
  },
  {
   "cell_type": "code",
   "execution_count": 119,
   "metadata": {},
   "outputs": [
    {
     "data": {
      "image/png": "[encoded data removed]",
      "text/plain": [
       "<Figure size 432x288 with 1 Axes>"
      ]
     },
     "metadata": {
      "needs_background": "light"
     },
     "output_type": "display_data"
    }
   ],
   "source": [
    "fig, ax = plt.subplots()\n",
    "ax.plot(xs_batch[:idx,0], xs_batch[:idx,1], 'b-o', label='batch')\n",
    "ax.plot(p_obs1[0], p_obs1[1], 'o', markersize=10)\n",
    "c1 = plt.Circle(p_obs1, radius=r_obs1)\n",
    "ax.add_patch(c1)\n",
    "ax.legend()\n",
    "plt.axis('equal')\n",
    "plt.show()"
   ]
  },
  {
   "cell_type": "code",
   "execution_count": 120,
   "metadata": {},
   "outputs": [
    {
     "data": {
      "text/plain": [
       "[<matplotlib.lines.Line2D at 0x7f4838312390>]"
      ]
     },
     "execution_count": 120,
     "metadata": {},
     "output_type": "execute_result"
    },
    {
     "data": {
      "image/png": "[encoded data removed]",
      "text/plain": [
       "<Figure size 432x288 with 1 Axes>"
      ]
     },
     "metadata": {
      "needs_background": "light"
     },
     "output_type": "display_data"
    }
   ],
   "source": [
    "plt.plot(xs_batch[:idx,0],'b-o', label='batch')"
   ]
  },
  {
   "cell_type": "code",
   "execution_count": 92,
   "metadata": {},
   "outputs": [
    {
     "data": {
      "text/plain": [
       "[<matplotlib.lines.Line2D at 0x7f483841c510>]"
      ]
     },
     "execution_count": 92,
     "metadata": {},
     "output_type": "execute_result"
    },
    {
     "data": {
      "image/png": "[encoded data removed]",
      "text/plain": [
       "<Figure size 432x288 with 1 Axes>"
      ]
     },
     "metadata": {
      "needs_background": "light"
     },
     "output_type": "display_data"
    }
   ],
   "source": [
    "plt.plot(xs_batch[:idx,1],'b-o', label='batch')"
   ]
  },
  {
   "cell_type": "markdown",
   "metadata": {},
   "source": [
    "#### Print obstacle costs"
   ]
  },
  {
   "cell_type": "raw",
   "metadata": {},
   "source": [
    "ilqr_cost.calc_cost(xs, us)\n",
    "\n",
    "ilqr_cost.set_state(xs,us)\n",
    "\n",
    "ilqr_cost.calc_diff()"
   ]
  },
  {
   "cell_type": "code",
   "execution_count": 93,
   "metadata": {},
   "outputs": [
    {
     "data": {
      "text/plain": [
       "array([[1., 0., 0., 0.],\n",
       "       [0., 1., 0., 0.],\n",
       "       [0., 0., 1., 0.],\n",
       "       [0., 0., 0., 1.]])"
      ]
     },
     "execution_count": 93,
     "metadata": {},
     "output_type": "execute_result"
    }
   ],
   "source": [
    "ilqr_cost.costs[0].Lxx"
   ]
  },
  {
   "cell_type": "code",
   "execution_count": 96,
   "metadata": {},
   "outputs": [
    {
     "name": "stdout",
     "output_type": "stream",
     "text": [
      "(0, 0, False)\n",
      "(1, 0, False)\n",
      "(2, 0, False)\n",
      "(3, 0, False)\n",
      "(4, 0, False)\n",
      "(5, 0, False)\n",
      "(6, 0, False)\n",
      "(7, 0, False)\n",
      "(8, -4.335882355614585, True)\n",
      "(9, -3.6757263656910006, True)\n",
      "(10, -3.3281393474969487, True)\n",
      "(11, -3.2587273973308504, True)\n",
      "(12, -3.43056618547228, True)\n",
      "(13, -3.804444166716295, True)\n",
      "(14, -4.340414619266479, True)\n",
      "(15, 0, False)\n",
      "(16, 0, False)\n",
      "(17, 0, False)\n",
      "(18, 0, False)\n",
      "(19, 0, False)\n",
      "(20, 0, False)\n",
      "(21, 0, False)\n",
      "(22, 0, False)\n",
      "(23, 0, False)\n",
      "(24, 0, False)\n",
      "(25, 0, False)\n",
      "(26, 0, False)\n",
      "(27, 0, False)\n",
      "(28, 0, False)\n",
      "(29, 0, False)\n",
      "(30, 0, False)\n",
      "(31, 0, False)\n",
      "(32, 0, False)\n",
      "(33, 0, False)\n",
      "(34, 0, False)\n",
      "(35, 0, False)\n",
      "(36, 0, False)\n",
      "(37, 0, False)\n",
      "(38, 0, False)\n",
      "(39, 0, False)\n",
      "(40, 0, False)\n",
      "(41, 0, False)\n",
      "(42, 0, False)\n",
      "(43, 0, False)\n",
      "(44, 0, False)\n",
      "(45, 0, False)\n",
      "(46, 0, False)\n",
      "(47, 0, False)\n",
      "(48, 0, False)\n",
      "(49, 0, False)\n",
      "(50, 0, False)\n",
      "(51, 0, False)\n",
      "(52, 0, False)\n",
      "(53, 0, False)\n",
      "(54, 0, False)\n",
      "(55, 0, False)\n",
      "(56, 0, False)\n",
      "(57, 0, False)\n",
      "(58, 0, False)\n",
      "(59, 0, False)\n",
      "(60, 0, False)\n",
      "(61, 0, False)\n",
      "(62, 0, False)\n",
      "(63, 0, False)\n",
      "(64, 0, False)\n",
      "(65, 0, False)\n",
      "(66, 0, False)\n",
      "(67, 0, False)\n",
      "(68, 0, False)\n",
      "(69, 0, False)\n",
      "(70, 0, False)\n",
      "(71, 0, False)\n",
      "(72, 0, False)\n",
      "(73, 0, False)\n",
      "(74, 0, False)\n",
      "(75, 0, False)\n",
      "(76, 0, False)\n",
      "(77, 0, False)\n",
      "(78, 0, False)\n",
      "(79, 0, False)\n",
      "(80, 0, False)\n",
      "(81, 0, False)\n",
      "(82, 0, False)\n",
      "(83, 0, False)\n",
      "(84, 0, False)\n",
      "(85, 0, False)\n",
      "(86, 0, False)\n",
      "(87, 0, False)\n",
      "(88, 0, False)\n",
      "(89, 0, False)\n",
      "(90, 0, False)\n",
      "(91, 0, False)\n",
      "(92, 0, False)\n",
      "(93, 0, False)\n",
      "(94, 0, False)\n",
      "(95, 0, False)\n",
      "(96, 0, False)\n",
      "(97, 0, False)\n",
      "(98, 0, False)\n",
      "(99, 0, False)\n",
      "(100, 0, False)\n"
     ]
    }
   ],
   "source": [
    "for i in range(T+1):\n",
    "    cost_obs = ilqr_cost.costs[i].costs[-1]\n",
    "    print(i, cost_obs.L, cost_obs.obs_status)"
   ]
  },
  {
   "cell_type": "markdown",
   "metadata": {},
   "source": [
    "#### Check derivative"
   ]
  },
  {
   "cell_type": "code",
   "execution_count": 146,
   "metadata": {},
   "outputs": [
    {
     "name": "stdout",
     "output_type": "stream",
     "text": [
      "-0.16000000000000003\n"
     ]
    }
   ],
   "source": [
    "x = np.array([1., .9, 0, 0])\n",
    "u = np.zeros(2)\n",
    "\n",
    "cost0 = runningObstacleCost.calc(x, u)\n",
    "print(cost0)"
   ]
  },
  {
   "cell_type": "code",
   "execution_count": 130,
   "metadata": {},
   "outputs": [
    {
     "name": "stdout",
     "output_type": "stream",
     "text": [
      "-0.0003831179667335694\n",
      "-0.00035821429009708186\n",
      "[-0.0271 -0.0022]\n",
      "[-0.0266 -0.0017  0.      0.    ]\n"
     ]
    }
   ],
   "source": [
    "J = np.zeros(2)\n",
    "inc = 0.001\n",
    "for i in range(2):\n",
    "    xn = x.copy()\n",
    "    xn[i] += inc\n",
    "    costn = runningObstacleCost.calc(xn, u)\n",
    "    dc = (costn-cost0)/inc\n",
    "    print(costn)\n",
    "    J[i] = dc\n",
    "print(J)\n",
    "\n",
    "runningObstacleCost.calc(x, u)\n",
    "\n",
    "runningObstacleCost.calcDiff(x, u)\n",
    "print(runningObstacleCost.Lx)"
   ]
  }
 ],
 "metadata": {
  "kernelspec": {
   "display_name": "Python 2",
   "language": "python",
   "name": "python2"
  },
  "language_info": {
   "codemirror_mode": {
    "name": "ipython",
    "version": 2
   },
   "file_extension": ".py",
   "mimetype": "text/x-python",
   "name": "python",
   "nbconvert_exporter": "python",
   "pygments_lexer": "ipython2",
   "version": "2.7.12"
  }
 },
 "nbformat": 4,
 "nbformat_minor": 2
}
