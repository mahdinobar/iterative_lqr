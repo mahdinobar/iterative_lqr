{
 "cells": [
  {
   "cell_type": "markdown",
   "metadata": {},
   "source": [
    "#### iLQR for point mass example with obstacle in 3d"
   ]
  },
  {
   "cell_type": "code",
   "execution_count": 1,
   "metadata": {},
   "outputs": [],
   "source": [
    "import sys\n",
    "\n",
    "sys.path.append('../')\n",
    "\n",
    "import numpy as np\n",
    "import matplotlib.pyplot as plt\n",
    "from IPython.display import clear_output\n",
    "import time\n",
    "from ocp import *\n",
    "from costs import *\n",
    "from ocp_utils import *\n",
    "\n",
    "import pybullet as p\n",
    "import pybullet_data\n",
    "\n",
    "%load_ext autoreload\n",
    "%autoreload 2\n",
    "np.set_printoptions(precision=4, suppress=True)"
   ]
  },
  {
   "cell_type": "markdown",
   "metadata": {},
   "source": [
    "## Steps:"
   ]
  },
  {
   "cell_type": "markdown",
   "metadata": {},
   "source": [
    "#### 1. Define the dynamical system (e.g., double integrator, 2d robot, n-d manipulator, etc.)\n",
    "#### 2. Define the cost functions\n",
    "#### 3. Construct the ILQR problem\n",
    "#### 4. Solve"
   ]
  },
  {
   "cell_type": "markdown",
   "metadata": {},
   "source": [
    "## Setup Pybullet"
   ]
  },
  {
   "cell_type": "code",
   "execution_count": 2,
   "metadata": {},
   "outputs": [],
   "source": [
    "def plot_traj(xs, obj_id, dt = 0.01):\n",
    "    for x in xs:\n",
    "        p.resetBasePositionAndOrientation(obj_id, x[:3], (0,0,0,1))\n",
    "        time.sleep(dt)"
   ]
  },
  {
   "cell_type": "code",
   "execution_count": 3,
   "metadata": {},
   "outputs": [],
   "source": [
    "p.connect(p.GUI)\n",
    "\n",
    "p.setAdditionalSearchPath(pybullet_data.getDataPath())"
   ]
  },
  {
   "cell_type": "code",
   "execution_count": 5,
   "metadata": {},
   "outputs": [],
   "source": [
    "p.resetSimulation()\n",
    "\n",
    "#p.loadURDF('plane.urdf')\n",
    "_,_,obj_id = create_primitives(rgbaColor=[0,0,1,1],radius = 0.04)\n",
    "_,_,target_id = create_primitives(radius = 0.04, rgbaColor=[0,1,0,0.5])\n",
    "_,_,border_id = create_primitives(rgbaColor=[1,0,0,0.1], shapeType=p.GEOM_BOX, halfExtents=[1.,1.,1.])"
   ]
  },
  {
   "cell_type": "markdown",
   "metadata": {},
   "source": [
    "## Setup the System"
   ]
  },
  {
   "cell_type": "markdown",
   "metadata": {},
   "source": [
    "#### Create point mass system with dimension 3 (double integrator)"
   ]
  },
  {
   "cell_type": "code",
   "execution_count": 6,
   "metadata": {},
   "outputs": [],
   "source": [
    "dt = 0.05  #duration of 1 time step\n",
    "T = 100    #total number of time steps\n",
    "Dx, Du = 6, 3 #dimensions of x and u\n",
    "dof = 3\n",
    "\n",
    "#Define the matrix A and B to define a double integrator\n",
    "A = np.eye(Dx)\n",
    "A[:dof,dof:] = np.eye(dof)*dt\n",
    "B = np.zeros((Dx, Du))\n",
    "B[:dof,:] = 0.5*np.eye(Du)*(dt**2)\n",
    "B[dof:, :] = np.eye(Du)*dt\n",
    "\n",
    "sys = LinearSystem(A, B)"
   ]
  },
  {
   "cell_type": "markdown",
   "metadata": {},
   "source": [
    "#### Set initial state and control trajectory"
   ]
  },
  {
   "cell_type": "code",
   "execution_count": 7,
   "metadata": {},
   "outputs": [],
   "source": [
    "x0 = np.ones(Dx)*-1\n",
    "sys.set_init_state(x0)\n",
    "\n",
    "#set initial control output to be all zeros\n",
    "us = np.zeros((T+1,sys.Du))\n",
    "_ = sys.compute_matrices(x0, us[0])\n",
    "xs = sys.rollout(us[:-1])"
   ]
  },
  {
   "cell_type": "markdown",
   "metadata": {},
   "source": [
    "#### Plot initial trajectory"
   ]
  },
  {
   "cell_type": "raw",
   "metadata": {},
   "source": [
    "plot_traj(xs)"
   ]
  },
  {
   "cell_type": "markdown",
   "metadata": {},
   "source": [
    "#### Set the regularization cost coefficients Q and R "
   ]
  },
  {
   "cell_type": "code",
   "execution_count": 8,
   "metadata": {},
   "outputs": [],
   "source": [
    "Q = np.eye(sys.Dx)*0.01 #coefficient for running cost\n",
    "Qf = np.eye(sys.Dx)*10  #coefficient for terminal cost\n",
    "R = np.eye(sys.Du)*0.005  #control coefficient\n",
    "mu = 1e-6              #regularization coefficient"
   ]
  },
  {
   "cell_type": "markdown",
   "metadata": {},
   "source": [
    "#### Set reference target"
   ]
  },
  {
   "cell_type": "code",
   "execution_count": 9,
   "metadata": {},
   "outputs": [],
   "source": [
    "x_target = np.array([1, 1, 1, 0,0, 0])"
   ]
  },
  {
   "cell_type": "markdown",
   "metadata": {},
   "source": [
    "#### Set obstacle"
   ]
  },
  {
   "cell_type": "code",
   "execution_count": 10,
   "metadata": {},
   "outputs": [],
   "source": [
    "p_obs1 = np.array([0.01, 0., 0.])   #obstacle position\n",
    "r_obs1 = 0.15 #radius of the obstacle\n",
    "w_obs1 = 0.   #weight of the obstacle cost\n",
    "d_margin1 = 0.1 #margin of the obstacle"
   ]
  },
  {
   "cell_type": "code",
   "execution_count": 11,
   "metadata": {},
   "outputs": [],
   "source": [
    "#### Set workspace bounds\n",
    "large_num = 1e10\n",
    "bounds = np.array([[-1,-1,-1, -large_num, -large_num, -large_num],\n",
    "                   [1,1,1, large_num, large_num, large_num]])\n",
    "w_bound = 100."
   ]
  },
  {
   "cell_type": "markdown",
   "metadata": {},
   "source": [
    "#### Show the setting in pybullet"
   ]
  },
  {
   "cell_type": "code",
   "execution_count": 12,
   "metadata": {},
   "outputs": [],
   "source": [
    "_,_,obs_id = create_primitives(radius = r_obs1)\n",
    "p.resetBasePositionAndOrientation(obs_id, p_obs1, (0,0,0,1))\n",
    "p.resetBasePositionAndOrientation(obj_id, x0[:3], (0,0,0,1))\n",
    "p.resetBasePositionAndOrientation(target_id, x_target[:3], (0,0,0,1))"
   ]
  },
  {
   "cell_type": "markdown",
   "metadata": {},
   "source": [
    "## Setup the ILQR & Solve"
   ]
  },
  {
   "cell_type": "markdown",
   "metadata": {},
   "source": [
    "#### Define the cost"
   ]
  },
  {
   "cell_type": "code",
   "execution_count": 14,
   "metadata": {},
   "outputs": [],
   "source": [
    "cost_names_dict = {'state':0, 'control':1, 'bound':2, 'obstacle':3}\n",
    "\n",
    "#The costs consist of: a) state tracking (Q), b) control regularization (R), c) obstacle cost\n",
    "#Running cost is for the time 0 <= t < T, while terminal cost is for the time t = T\n",
    "costs = []\n",
    "for i in range(T):\n",
    "    runningStateCost = CostModelQuadratic(sys, Q, x_ref = x_target)\n",
    "    runningControlCost = CostModelQuadratic(sys, None, R)\n",
    "    runningBoundCost = CostModelBound(sys, bounds, weight=w_bound)\n",
    "    runningObstacleCost = CostModelCollisionSphere(sys, p_obs1, r_obs1, w_obs = w_obs1, d_margin=d_margin1)    \n",
    "    runningCost = CostModelSum(sys, [runningStateCost, runningControlCost, runningBoundCost, runningObstacleCost])\n",
    "    costs += [runningCost]\n",
    "\n",
    "terminalStateCost = CostModelQuadratic(sys,Qf, x_ref = x_target)\n",
    "terminalControlCost = CostModelQuadratic(sys, None,R)\n",
    "terminalBoundCost = CostModelBound(sys, bounds, weight=w_bound)\n",
    "terminalObstacleCost = CostModelCollisionSphere(sys, p_obs1, r_obs1, w_obs = w_obs1, d_margin=d_margin1)\n",
    "terminalCost = CostModelSum(sys, [terminalStateCost, terminalControlCost, terminalBoundCost, terminalObstacleCost])\n",
    "\n",
    "costs += [terminalCost]"
   ]
  },
  {
   "cell_type": "markdown",
   "metadata": {},
   "source": [
    "#### Construct ILQR"
   ]
  },
  {
   "cell_type": "code",
   "execution_count": 15,
   "metadata": {},
   "outputs": [],
   "source": [
    "ilqr_cost = ILQR(sys, mu)\n",
    "ilqr_cost.set_init_state(x0)\n",
    "ilqr_cost.set_timestep(T)\n",
    "ilqr_cost.set_cost(costs)\n",
    "ilqr_cost.set_state(xs, us)    #set initial guess"
   ]
  },
  {
   "cell_type": "markdown",
   "metadata": {},
   "source": [
    "#### Solve and Plot"
   ]
  },
  {
   "cell_type": "code",
   "execution_count": 16,
   "metadata": {
    "scrolled": true
   },
   "outputs": [
    {
     "name": "stdout",
     "output_type": "stream",
     "text": [
      "Cost converges at iteration 47, cannot decrease further\n"
     ]
    }
   ],
   "source": [
    "n_iter = 100\n",
    "ilqr_cost.solve(n_iter, method='recursive', cost_thres=1e-3)\n",
    "xs_batch, us_batch = ilqr_cost.xs, ilqr_cost.us\n"
   ]
  },
  {
   "cell_type": "code",
   "execution_count": 17,
   "metadata": {},
   "outputs": [],
   "source": [
    "plot_traj(ilqr_cost.xs[:100], obj_id, dt=0.1)"
   ]
  },
  {
   "cell_type": "markdown",
   "metadata": {},
   "source": [
    "***"
   ]
  },
  {
   "cell_type": "markdown",
   "metadata": {},
   "source": [
    "## Modifying the problem"
   ]
  },
  {
   "cell_type": "markdown",
   "metadata": {},
   "source": [
    "#### Set the initial and goal position"
   ]
  },
  {
   "cell_type": "code",
   "execution_count": 30,
   "metadata": {},
   "outputs": [],
   "source": [
    "x0 = np.ones(Dx)*-1\n",
    "x0[3:] *= 0\n",
    "sys.set_init_state(x0)\n",
    "\n",
    "#set initial control output to be all zeros\n",
    "us = np.zeros((T+1,sys.Du))\n",
    "_ = sys.compute_matrices(x0, us[0])\n",
    "xs = sys.rollout(us[:-1])\n",
    "\n",
    "\n",
    "x_target = np.array([1, 1,1, 0,0, 0])\n",
    "#x_target = np.array([0.05, 0, -0.4, 0,0, 0])"
   ]
  },
  {
   "cell_type": "markdown",
   "metadata": {},
   "source": [
    "#### Set the obstacle position (and possibly radius)"
   ]
  },
  {
   "cell_type": "code",
   "execution_count": 37,
   "metadata": {},
   "outputs": [],
   "source": [
    "p_obs1 = np.array([0.05, 0., -0.])   #obstacle position\n",
    "r_obs1 = 0.5\n",
    "d_margin1 = 0.1\n",
    "w_obs1 = 100.\n",
    "p.removeBody(obs_id)\n",
    "_,_,obs_id = create_primitives(radius = r_obs1, basePosition=p_obs1)"
   ]
  },
  {
   "cell_type": "markdown",
   "metadata": {},
   "source": [
    "#### Show the setting in pybullet"
   ]
  },
  {
   "cell_type": "code",
   "execution_count": 38,
   "metadata": {},
   "outputs": [],
   "source": [
    "p.resetBasePositionAndOrientation(obs_id, p_obs1, (0,0,0,1))\n",
    "p.resetBasePositionAndOrientation(obj_id, x0[:3], (0,0,0,1))\n",
    "p.resetBasePositionAndOrientation(target_id, x_target[:3], (0,0,0,1))"
   ]
  },
  {
   "cell_type": "markdown",
   "metadata": {},
   "source": [
    "#### Modify the iLQR accordingly"
   ]
  },
  {
   "cell_type": "code",
   "execution_count": 39,
   "metadata": {},
   "outputs": [],
   "source": [
    "#change target\n",
    "for i in range(T+1):\n",
    "    ilqr_cost.costs[i].costs[0].x_ref = x_target\n",
    "\n",
    "#change collision cost\n",
    "for i in range(T+1):\n",
    "    ilqr_cost.costs[i].costs[-1].p_obs = p_obs1\n",
    "    ilqr_cost.costs[i].costs[-1].r_obs = r_obs1\n",
    "    ilqr_cost.costs[i].costs[-1].w_obs = w_obs1\n",
    "    ilqr_cost.costs[i].costs[-1].d_thres = r_obs1 + d_margin1\n",
    "    \n",
    "    \n",
    "ilqr_cost.set_init_state(x0)\n",
    "ilqr_cost.set_state(xs, us)    #set initial guess"
   ]
  },
  {
   "cell_type": "markdown",
   "metadata": {},
   "source": [
    "#### Solve and Plot"
   ]
  },
  {
   "cell_type": "code",
   "execution_count": 40,
   "metadata": {
    "scrolled": true
   },
   "outputs": [
    {
     "name": "stdout",
     "output_type": "stream",
     "text": [
      "Reach maximum ILQR iteration\n"
     ]
    }
   ],
   "source": [
    "n_iter = 100\n",
    "ilqr_cost.solve(n_iter, method='recursive', cost_thres=1e-6)\n",
    "xs_batch, us_batch = ilqr_cost.xs, ilqr_cost.us\n"
   ]
  },
  {
   "cell_type": "code",
   "execution_count": 46,
   "metadata": {},
   "outputs": [],
   "source": [
    "plot_traj(ilqr_cost.xs[:], obj_id, dt=0.1)"
   ]
  },
  {
   "cell_type": "markdown",
   "metadata": {},
   "source": [
    "#### Check cost"
   ]
  },
  {
   "cell_type": "code",
   "execution_count": 47,
   "metadata": {},
   "outputs": [],
   "source": [
    "target_thres = 0.1\n",
    "obstacle_thres = r_obs1 + 0.03"
   ]
  },
  {
   "cell_type": "code",
   "execution_count": 48,
   "metadata": {},
   "outputs": [],
   "source": [
    "def check_cost(ilqr_cost, target_thres, obstacle_thres, cost_names_dict, T):\n",
    "    dist_obstacles = np.array([ilqr_cost.costs[i].costs[cost_names_dict['obstacle']].dist for i in range(T+1)])\n",
    "    collision_status_array = dist_obstacles > obstacle_thres\n",
    "    collision_status = np.min(collision_status_array)    \n",
    "\n",
    "    cost_target_res = ilqr_cost.costs[-1].costs[cost_names_dict['state']].res\n",
    "    target_status = np.linalg.norm(cost_target_res) < target_thres\n",
    "    \n",
    "    status = np.logical_and(collision_status, target_status)\n",
    "    return status, target_status, collision_status, dist_obstacles"
   ]
  },
  {
   "cell_type": "code",
   "execution_count": 49,
   "metadata": {},
   "outputs": [],
   "source": [
    "status, target_status, collision_status, dist_obstacles = check_cost(ilqr_cost, target_thres, obstacle_thres, cost_names_dict, T)"
   ]
  },
  {
   "cell_type": "code",
   "execution_count": 50,
   "metadata": {},
   "outputs": [
    {
     "name": "stdout",
     "output_type": "stream",
     "text": [
      "True True True\n"
     ]
    }
   ],
   "source": [
    "print(status, target_status, collision_status)"
   ]
  },
  {
   "cell_type": "markdown",
   "metadata": {},
   "source": [
    "#### Save Data"
   ]
  },
  {
   "cell_type": "code",
   "execution_count": 172,
   "metadata": {},
   "outputs": [],
   "source": [
    "data = dict()"
   ]
  },
  {
   "cell_type": "code",
   "execution_count": 173,
   "metadata": {},
   "outputs": [],
   "source": [
    "data['xs'] = ilqr_cost.xs\n",
    "data['us'] = ilqr_cost.us\n",
    "data['x0'] = x0\n",
    "data['xT'] = x_target\n",
    "data['p_obs'] = p_obs1\n",
    "data['r_obs'] = r_obs1\n",
    "data['status'] = status\n",
    "data['target_status'] = target_status\n",
    "data['collision_status'] = collision_status\n",
    "data['dist_obstacles'] = dist_obstacles\n",
    "data['target_thres'] = target_thres\n",
    "data['obstacle_thres'] = obstacle_thres\n",
    "data['iter'] = ilqr_cost.iter"
   ]
  },
  {
   "cell_type": "code",
   "execution_count": 174,
   "metadata": {},
   "outputs": [],
   "source": [
    "np.save('data.npy', data)"
   ]
  }
 ],
 "metadata": {
  "kernelspec": {
   "display_name": "Python 3",
   "language": "python",
   "name": "python3"
  },
  "language_info": {
   "codemirror_mode": {
    "name": "ipython",
    "version": 3
   },
   "file_extension": ".py",
   "mimetype": "text/x-python",
   "name": "python",
   "nbconvert_exporter": "python",
   "pygments_lexer": "ipython3",
   "version": "3.8.3"
  }
 },
 "nbformat": 4,
 "nbformat_minor": 4
}
