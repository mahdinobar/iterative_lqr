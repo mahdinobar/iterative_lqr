{
 "cells": [
  {
   "cell_type": "markdown",
   "metadata": {},
   "source": [
    "#### iLQR for point mass example with obstacle in 3d"
   ]
  },
  {
   "cell_type": "code",
   "execution_count": 1,
   "metadata": {},
   "outputs": [],
   "source": [
    "import numpy as np\n",
    "import matplotlib.pyplot as plt\n",
    "from IPython.display import clear_output\n",
    "import time\n",
    "from costs import *\n",
    "from ocp_utils import *\n",
    "from ocp_sys import *\n",
    "\n",
    "import pybullet as p\n",
    "import pybullet_data\n",
    "\n",
    "%load_ext autoreload\n",
    "%autoreload 2\n",
    "np.set_printoptions(precision=4, suppress=True)"
   ]
  },
  {
   "cell_type": "markdown",
   "metadata": {},
   "source": [
    "## Obstacle Cost Definition "
   ]
  },
  {
   "cell_type": "code",
   "execution_count": 2,
   "metadata": {},
   "outputs": [],
   "source": [
    "class ActivationCollision(crocoddyl.ActivationModelAbstract):\n",
    "    def __init__(self, nr, threshold=0.3):\n",
    "        crocoddyl.ActivationModelAbstract.__init__(self, nr)\n",
    "        self.threshold = threshold\n",
    "        \n",
    "    def calc(self, r):\n",
    "        self.d = np.linalg.norm(r)\n",
    "\n",
    "        if self.d < self.threshold:\n",
    "            self.a = 0.5*(self.d-self.threshold)**2\n",
    "        else:\n",
    "            self.a = 0\n",
    "\n",
    "    def calcDiff(self, r, recalc=True, use_true_Hessian = True):\n",
    "        if recalc:\n",
    "            self.calc(r)\n",
    "        \n",
    "        if self.d < self.threshold:\n",
    "            self.Ar = (self.d-self.threshold)*r/self.d\n",
    "            if use_true_Hessian:\n",
    "                self.Arr = (np.eye(self.nr))*(self.d-self.threshold)/self.d + self.threshold*np.outer(r,r)/(self.d**3)\n",
    "            else:\n",
    "                self.Arr = np.outer(r,r)/(self.d**2)\n",
    "                \n",
    "        else:\n",
    "            self.Ar = np.zeros(self.nr)\n",
    "            self.Arr = np.zeros((self.nr,self.nr))"
   ]
  },
  {
   "cell_type": "code",
   "execution_count": 3,
   "metadata": {},
   "outputs": [],
   "source": [
    "class CostModelCollisionSphereTest():\n",
    "    '''\n",
    "    The collision cost model between the end-effector and a sphere obstacle\n",
    "    '''\n",
    "    def __init__(self, sys, activation, p_obs, r_obs, ee_id=0, w_obs = 1., d_margin = 0., use_true_Hessian = True):\n",
    "        self.activation = activation\n",
    "        self.sys = sys\n",
    "        self.Dx, self.Du = sys.Dx, sys.Du\n",
    "        self.dof = self.Du\n",
    "        self.p_obs = p_obs #obstacle position\n",
    "        self.r_obs = r_obs #obstacle radius\n",
    "        \n",
    "        self.w_obs = w_obs\n",
    "        self.d_thres = r_obs + d_margin\n",
    "        self.d_margin = d_margin\n",
    "        self.obs_status = False\n",
    "        self.ee_id = ee_id\n",
    "        self.use_true_Hessian = use_true_Hessian\n",
    "        \n",
    "    def calc(self, x, u):\n",
    "        p,_ = self.sys.compute_ee(x, self.ee_id)\n",
    "        self.res = p - self.p_obs\n",
    "        \n",
    "        self.activation.calc(self.res)\n",
    "        self.L =self.w_obs*self.activation.a\n",
    "        return self.L\n",
    "    \n",
    "    def calcDiff(self, x, u, recalc = True):\n",
    "        if recalc:\n",
    "            self.calc(x, u)\n",
    "        self.J   = self.sys.compute_Jacobian(x, self.ee_id)[:3]  #Only use the translation part\n",
    "        p,_      = self.sys.compute_ee(x, self.ee_id)\n",
    "        \n",
    "        self.activation.calcDiff( self.res, recalc, self.use_true_Hessian)\n",
    "        \n",
    "        self.Lx = np.zeros(self.Dx)\n",
    "        self.Lx[:self.dof]  = self.w_obs*self.J.T.dot(self.activation.Ar)\n",
    "        self.Lxx = np.zeros((self.Dx, self.Dx))\n",
    "        self.Lxx[:self.dof, :self.dof] = self.w_obs*self.J.T.dot(self.activation.Arr).dot(self.J)                \n",
    "\n",
    "        self.Lu  = np.zeros(self.Du)\n",
    "        self.Lxu = np.zeros((self.Dx, self.Du))\n",
    "        self.Luu  = np.zeros((self.Du, self.Du))"
   ]
  },
  {
   "cell_type": "markdown",
   "metadata": {},
   "source": [
    "## Setup Pybullet"
   ]
  },
  {
   "cell_type": "code",
   "execution_count": 4,
   "metadata": {},
   "outputs": [],
   "source": [
    "def plot_traj(xs, obj_id, dt = 0.01):\n",
    "    for x in xs:\n",
    "        p.resetBasePositionAndOrientation(obj_id, x[:3], (0,0,0,1))\n",
    "        time.sleep(dt)"
   ]
  },
  {
   "cell_type": "code",
   "execution_count": 5,
   "metadata": {},
   "outputs": [],
   "source": [
    "p.connect(p.GUI)\n",
    "p.setAdditionalSearchPath(pybullet_data.getDataPath())"
   ]
  },
  {
   "cell_type": "code",
   "execution_count": 6,
   "metadata": {},
   "outputs": [],
   "source": [
    "p.resetSimulation()\n",
    "\n",
    "#p.loadURDF('plane.urdf')\n",
    "_,_,obj_id = create_primitives(rgbaColor=[0,0,1,1],radius = 0.04)\n",
    "_,_,target_id = create_primitives(radius = 0.04, rgbaColor=[0,1,0,0.5])"
   ]
  },
  {
   "cell_type": "markdown",
   "metadata": {},
   "source": [
    "## Setup the System"
   ]
  },
  {
   "cell_type": "markdown",
   "metadata": {},
   "source": [
    "#### Create point mass system with dimension 3 (double integrator)"
   ]
  },
  {
   "cell_type": "code",
   "execution_count": 7,
   "metadata": {},
   "outputs": [],
   "source": [
    "dt = 0.05  #duration of 1 time step\n",
    "T = 100    #total number of time steps\n",
    "Dx, Du = 6, 3 #dimensions of x and u\n",
    "dof = 3\n",
    "\n",
    "#Define the matrix A and B to define a double integrator\n",
    "A = np.eye(Dx)\n",
    "A[:dof,dof:] = np.eye(dof)*dt\n",
    "B = np.zeros((Dx, Du))\n",
    "B[:dof,:] = 0.5*np.eye(Du)*(dt**2)\n",
    "B[dof:, :] = np.eye(Du)*dt\n",
    "\n",
    "sys = LinearSystem(A, B)"
   ]
  },
  {
   "cell_type": "markdown",
   "metadata": {},
   "source": [
    "#### Set initial state and control trajectory"
   ]
  },
  {
   "cell_type": "code",
   "execution_count": 8,
   "metadata": {},
   "outputs": [],
   "source": [
    "x0 = np.ones(Dx)*-1\n",
    "x0[3:] *=0\n",
    "sys.set_init_state(x0)\n",
    "\n",
    "#set initial control output to be all zeros\n",
    "us_init = np.zeros((T+1,sys.Du))\n",
    "_ = sys.compute_matrices(x0, us_init[0])\n",
    "xs_init = sys.rollout(us_init[:-1])"
   ]
  },
  {
   "cell_type": "markdown",
   "metadata": {},
   "source": [
    "#### Plot initial trajectory"
   ]
  },
  {
   "cell_type": "raw",
   "metadata": {},
   "source": [
    "plot_traj(xs)"
   ]
  },
  {
   "cell_type": "markdown",
   "metadata": {},
   "source": [
    "#### Set the regularization cost coefficients Q and R "
   ]
  },
  {
   "cell_type": "code",
   "execution_count": 9,
   "metadata": {},
   "outputs": [],
   "source": [
    "Q = np.eye(sys.Dx)*0.01 #coefficient for running cost\n",
    "Qf = np.eye(sys.Dx)*10  #coefficient for terminal cost\n",
    "R = np.eye(sys.Du)*0.005  #control coefficient\n",
    "mu = 1e-6              #regularization coefficient"
   ]
  },
  {
   "cell_type": "markdown",
   "metadata": {},
   "source": [
    "#### Set reference target"
   ]
  },
  {
   "cell_type": "code",
   "execution_count": 10,
   "metadata": {},
   "outputs": [],
   "source": [
    "x_target = np.array([1, 1, 1, 0,0, 0])"
   ]
  },
  {
   "cell_type": "markdown",
   "metadata": {},
   "source": [
    "#### Set obstacle"
   ]
  },
  {
   "cell_type": "code",
   "execution_count": 11,
   "metadata": {},
   "outputs": [],
   "source": [
    "p_obs1 = np.array([0.01, 0., 0.])   #obstacle position\n",
    "r_obs1 = 0.35 #radius of the obstacle\n",
    "w_obs1 = 100.   #weight of the obstacle cost\n",
    "d_margin1 = 0.1 #margin of the obstacle"
   ]
  },
  {
   "cell_type": "markdown",
   "metadata": {},
   "source": [
    "#### Show the setting in pybullet"
   ]
  },
  {
   "cell_type": "raw",
   "metadata": {},
   "source": [
    "p.removeBody(obs_id)"
   ]
  },
  {
   "cell_type": "code",
   "execution_count": 12,
   "metadata": {},
   "outputs": [],
   "source": [
    "_,_,obs_id = create_primitives(radius = r_obs1)\n",
    "p.resetBasePositionAndOrientation(obs_id, p_obs1, (0,0,0,1))\n",
    "p.resetBasePositionAndOrientation(obj_id, x0[:3], (0,0,0,1))\n",
    "p.resetBasePositionAndOrientation(target_id, x_target[:3], (0,0,0,1))"
   ]
  },
  {
   "cell_type": "markdown",
   "metadata": {},
   "source": [
    "## Setup the ILQR & Solve"
   ]
  },
  {
   "cell_type": "markdown",
   "metadata": {},
   "source": [
    "#### Define the cost"
   ]
  },
  {
   "cell_type": "code",
   "execution_count": 13,
   "metadata": {},
   "outputs": [],
   "source": [
    "cost_names_dict = {'state':0, 'control':1, 'obstacle':2}\n",
    "\n",
    "#The costs consist of: a) state tracking (Q), b) control regularization (R), c) obstacle cost\n",
    "#Running cost is for the time 0 <= t < T, while terminal cost is for the time t = T\n",
    "costs = []\n",
    "for i in range(T):\n",
    "    runningStateCost = CostModelQuadratic(sys, Q, x_ref = x_target)\n",
    "    runningControlCost = CostModelQuadratic(sys, None, R)\n",
    "    activationObstacle = ActivationCollision(3, threshold=r_obs1 + d_margin1)\n",
    "    runningObstacleCost = CostModelCollisionSphereTest(sys, activationObstacle, p_obs1, r_obs1, w_obs = w_obs1, d_margin=d_margin1, use_true_Hessian=True)    \n",
    "    runningCost = CostModelSum(sys, [runningStateCost, runningControlCost, runningObstacleCost])\n",
    "    costs += [runningCost]\n",
    "\n",
    "terminalStateCost = CostModelQuadratic(sys,Qf, x_ref = x_target)\n",
    "terminalControlCost = CostModelQuadratic(sys, None,R)\n",
    "activationObstacle = ActivationCollision(3, threshold=r_obs1 + d_margin1)\n",
    "terminalObstacleCost = CostModelCollisionSphereTest(sys, activationObstacle, p_obs1, r_obs1, w_obs = w_obs1, d_margin=d_margin1, use_true_Hessian=True)    \n",
    "terminalCost = CostModelSum(sys, [terminalStateCost, terminalControlCost, terminalObstacleCost])\n",
    "\n",
    "costs += [terminalCost]"
   ]
  },
  {
   "cell_type": "markdown",
   "metadata": {},
   "source": [
    "#### Setup crocoddyl model"
   ]
  },
  {
   "cell_type": "code",
   "execution_count": 14,
   "metadata": {},
   "outputs": [],
   "source": [
    "#### Setup crocoddyl model\n",
    "rmodels = []\n",
    "for i in range(T):\n",
    "    state = crocoddyl.StateVector(sys.Dx)\n",
    "    rmodel = ActionModelRobot(state, sys.Du)\n",
    "    rmodel.init_robot_sys(sys, nr = sys.Dx)\n",
    "    rmodel.set_cost(costs[i])\n",
    "    rmodels += [rmodel]\n",
    "\n",
    "rmodel_T = ActionModelRobot(state, sys.Du)\n",
    "rmodel_T.init_robot_sys(sys, nr = sys.Dx)\n",
    "rmodel_T.set_cost(terminalCost)\n",
    "\n",
    "problem = crocoddyl.ShootingProblem(x0, rmodels, rmodel_T)\n",
    "ddp = crocoddyl.SolverFDDP(problem)\n",
    "ddp.setCallbacks([crocoddyl.CallbackVerbose()])"
   ]
  },
  {
   "cell_type": "markdown",
   "metadata": {},
   "source": [
    "#### Solve ilqr with True Hessian"
   ]
  },
  {
   "cell_type": "code",
   "execution_count": 15,
   "metadata": {},
   "outputs": [],
   "source": [
    "for i in range(T):\n",
    "    ddp.problem.runningModels[i].cost_model.costs[cost_names_dict['obstacle']].use_true_Hessian = True\n",
    "ddp.problem.terminalModel.cost_model.costs[cost_names_dict['obstacle']].use_true_Hessian = True\n",
    "    \n",
    "\n",
    "ddp.solve(list(xs_init[:,:,None]), list(us_init[:-1,:,None]), maxiter=100)\n",
    "xs, us = np.array(ddp.xs), np.array(ddp.us)"
   ]
  },
  {
   "cell_type": "markdown",
   "metadata": {},
   "source": [
    "#### Solve ilqr with Gauss Newton"
   ]
  },
  {
   "cell_type": "code",
   "execution_count": 16,
   "metadata": {},
   "outputs": [],
   "source": [
    "for i in range(T):\n",
    "    ddp.problem.runningModels[i].cost_model.costs[cost_names_dict['obstacle']].use_true_Hessian = False\n",
    "ddp.problem.terminalModel.cost_model.costs[cost_names_dict['obstacle']].use_true_Hessian = False\n",
    "    \n",
    "\n",
    "ddp.solve(list(xs_init[:,:,None]), list(us_init[:-1,:,None]), maxiter=100)\n",
    "xs, us = np.array(ddp.xs), np.array(ddp.us)"
   ]
  },
  {
   "cell_type": "code",
   "execution_count": 192,
   "metadata": {},
   "outputs": [],
   "source": [
    "plot_traj(xs[:100], obj_id, dt=0.1)"
   ]
  },
  {
   "cell_type": "markdown",
   "metadata": {},
   "source": [
    "***"
   ]
  }
 ],
 "metadata": {
  "kernelspec": {
   "display_name": "Python 3",
   "language": "python",
   "name": "python3"
  },
  "language_info": {
   "codemirror_mode": {
    "name": "ipython",
    "version": 3
   },
   "file_extension": ".py",
   "mimetype": "text/x-python",
   "name": "python",
   "nbconvert_exporter": "python",
   "pygments_lexer": "ipython3",
   "version": "3.8.3"
  }
 },
 "nbformat": 4,
 "nbformat_minor": 4
}
