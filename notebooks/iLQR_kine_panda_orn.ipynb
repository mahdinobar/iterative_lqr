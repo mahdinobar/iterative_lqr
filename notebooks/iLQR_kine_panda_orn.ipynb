{
 "cells": [
  {
   "cell_type": "markdown",
   "metadata": {},
   "source": [
    "#### iLQR for kinematic example"
   ]
  },
  {
   "cell_type": "code",
   "execution_count": 1,
   "metadata": {},
   "outputs": [],
   "source": [
    "import numpy as np\n",
    "import matplotlib.pyplot as plt\n",
    "from IPython.display import clear_output\n",
    "import time\n",
    "from ocp import *\n",
    "from costs import *\n",
    "from ocp_utils import *\n",
    "\n",
    "import pybullet as p\n",
    "import pybullet_data\n",
    "\n",
    "%load_ext autoreload\n",
    "%autoreload 2\n",
    "np.set_printoptions(precision=4, suppress=True)"
   ]
  },
  {
   "cell_type": "markdown",
   "metadata": {},
   "source": [
    "#### Setup pybullet with the urdf"
   ]
  },
  {
   "cell_type": "code",
   "execution_count": 2,
   "metadata": {},
   "outputs": [],
   "source": [
    "# configure pybullet and load plane.urdf and quadcopter.urdf\n",
    "#physicsClient = p.connect(p.DIRECT)  # pybullet only for computations no visualisation, faster\n",
    "physicsClient = p.connect(p.GUI)  # pybullet with visualisation\n",
    "p.configureDebugVisualizer(p.COV_ENABLE_GUI,0)\n",
    "\n",
    "p.setAdditionalSearchPath(pybullet_data.getDataPath())"
   ]
  },
  {
   "cell_type": "code",
   "execution_count": 3,
   "metadata": {},
   "outputs": [],
   "source": [
    "p.resetSimulation()\n",
    "\n",
    "robot_urdf = \"../data/urdf/frankaemika_new/panda_arm.urdf\"\n",
    "robot_id = p.loadURDF(robot_urdf, useFixedBase=1)\n",
    "joint_limits = get_joint_limits(robot_id, 7)\n",
    "\n",
    "p.loadURDF('plane.urdf')\n",
    "\n",
    "#Define the end-effector\n",
    "link_id = 10\n",
    "link_name = 'panda_grasptarget_hand'\n",
    "\n",
    "#Create a ball to show the target\n",
    "_,_,ballId = create_primitives(radius=0.05)"
   ]
  },
  {
   "cell_type": "markdown",
   "metadata": {},
   "source": [
    "#### Finding the joint (and link) index "
   ]
  },
  {
   "cell_type": "code",
   "execution_count": 4,
   "metadata": {},
   "outputs": [
    {
     "name": "stdout",
     "output_type": "stream",
     "text": [
      "0 b'panda_joint1'\n",
      "1 b'panda_joint2'\n",
      "2 b'panda_joint3'\n",
      "3 b'panda_joint4'\n",
      "4 b'panda_joint5'\n",
      "5 b'panda_joint6'\n",
      "6 b'panda_joint7'\n",
      "7 b'panda_hand_joint'\n",
      "8 b'panda_finger_joint1'\n",
      "9 b'panda_finger_joint2'\n",
      "10 b'panda_grasptarget_hand'\n"
     ]
    }
   ],
   "source": [
    "for i in range(p.getNumJoints(robot_id)):\n",
    "    print(i, p.getJointInfo(robot_id, i)[1])"
   ]
  },
  {
   "cell_type": "markdown",
   "metadata": {},
   "source": [
    "### Construct the robot system"
   ]
  },
  {
   "cell_type": "code",
   "execution_count": 5,
   "metadata": {},
   "outputs": [],
   "source": [
    "dt = 0.05\n",
    "T = 100\n",
    "dof = 7\n",
    "sys = URDFRobot(dof=dof, robot_id=robot_id, dt = dt)"
   ]
  },
  {
   "cell_type": "markdown",
   "metadata": {},
   "source": [
    "#### Find a random target orientation "
   ]
  },
  {
   "cell_type": "code",
   "execution_count": 6,
   "metadata": {},
   "outputs": [
    {
     "name": "stdout",
     "output_type": "stream",
     "text": [
      "Target orientation:  [ 0.905   0.1093  0.1776 -0.3708]\n"
     ]
    }
   ],
   "source": [
    "qT = np.random.uniform(-1,1,7)\n",
    "qT[3] -= 1.5\n",
    "qT[5] += 1.5\n",
    "xT = np.concatenate([qT, np.zeros(7)])\n",
    "sys.set_init_state(xT)\n",
    "_,target_orn = sys.compute_ee(xT,link_id)\n",
    "print(\"Target orientation: \",target_orn)"
   ]
  },
  {
   "cell_type": "markdown",
   "metadata": {},
   "source": [
    "#### Set the initial state"
   ]
  },
  {
   "cell_type": "code",
   "execution_count": 7,
   "metadata": {},
   "outputs": [
    {
     "name": "stdout",
     "output_type": "stream",
     "text": [
      "X0 orientation:  [ 0.9239  0.3827 -0.      0.    ]\n"
     ]
    }
   ],
   "source": [
    "q0 = np.random.rand(7)\n",
    "q0 = np.array([0.,0.,0.,-1.5,0.,1.5,0.])\n",
    "#q0 = np.array([0.4201, 0.4719, 0.9226, 0.8089, 0.3113, 0.7598, 0.364 ])\n",
    "x0 = np.concatenate([q0, np.zeros(7)])\n",
    "sys.set_init_state(x0)\n",
    "_,x0_orn = sys.compute_ee(x0,link_id)\n",
    "print(\"X0 orientation: \",x0_orn)"
   ]
  },
  {
   "cell_type": "markdown",
   "metadata": {},
   "source": [
    "#### Try forward kinematics"
   ]
  },
  {
   "cell_type": "code",
   "execution_count": 8,
   "metadata": {},
   "outputs": [
    {
     "name": "stdout",
     "output_type": "stream",
     "text": [
      "[ 0.5477 -0.      0.5465] [ 0.9239  0.3827 -0.      0.    ]\n"
     ]
    }
   ],
   "source": [
    "pos0, quat0 = sys.compute_ee(x0, link_id)\n",
    "\n",
    "#Put the ball at the end-effector\n",
    "p.resetBasePositionAndOrientation(ballId, pos0, quat0)\n",
    "print(pos0, quat0)"
   ]
  },
  {
   "cell_type": "markdown",
   "metadata": {},
   "source": [
    "#### Set initial control output"
   ]
  },
  {
   "cell_type": "code",
   "execution_count": 9,
   "metadata": {},
   "outputs": [],
   "source": [
    "#set initial control output to be all zeros\n",
    "us = np.zeros((T+1,sys.Du))\n",
    "_ = sys.compute_matrices(x0, us[0])\n",
    "xs = sys.rollout(us[:-1])"
   ]
  },
  {
   "cell_type": "markdown",
   "metadata": {},
   "source": [
    "#### Plot initial trajectory"
   ]
  },
  {
   "cell_type": "raw",
   "metadata": {},
   "source": [
    "sys.vis_traj(xs)"
   ]
  },
  {
   "cell_type": "markdown",
   "metadata": {},
   "source": [
    "#### Set the regularization cost coefficients Q and R "
   ]
  },
  {
   "cell_type": "code",
   "execution_count": 10,
   "metadata": {},
   "outputs": [],
   "source": [
    "Q = np.eye(sys.Dx)*1\n",
    "Q[0:sys.dof,0:sys.dof] *= 0.01  #only put cost regularization on the velocity, not on the joint angles\n",
    "Qf = np.eye(sys.Dx)*1\n",
    "Qf[0:sys.dof,0:sys.dof] *= 0.01 #only put cost regularization on the velocity, not on the joint angles\n",
    "R = np.eye(sys.Du)*1e-9\n",
    "mu = 1e-9          #regularization coefficient"
   ]
  },
  {
   "cell_type": "markdown",
   "metadata": {},
   "source": [
    "#### Set the task space cost coefficients W & WT"
   ]
  },
  {
   "cell_type": "code",
   "execution_count": 11,
   "metadata": {},
   "outputs": [],
   "source": [
    "W = np.diag([1,1,1])\n",
    "WT = np.diag([1,1,1])"
   ]
  },
  {
   "cell_type": "markdown",
   "metadata": {},
   "source": [
    "### iLQR using cost model"
   ]
  },
  {
   "cell_type": "markdown",
   "metadata": {},
   "source": [
    "#### Define the cost"
   ]
  },
  {
   "cell_type": "code",
   "execution_count": 12,
   "metadata": {},
   "outputs": [],
   "source": [
    "#The costs consist of: a) state regularization (Q), b) control regularization (R), and c) End-effector reaching task (W)\n",
    "#Running cost is for the time 0 <= t < T, while terminal cost is for the time t = T\n",
    "runningStateCost = CostModelQuadratic(sys, Q)\n",
    "runningControlCost = CostModelQuadratic(sys, None, R)\n",
    "runningEECost = CostModelQuadraticOrientation(sys,W, link_id,target_orn)\n",
    "runningCost = CostModelSum(sys, [runningStateCost, runningControlCost, runningEECost])\n",
    "\n",
    "terminalStateCost = CostModelQuadratic(sys,Qf)\n",
    "terminalControlCost = CostModelQuadratic(sys, None,R)\n",
    "terminalEECost = CostModelQuadraticOrientation(sys,WT, link_id,target_orn)\n",
    "terminalCost = CostModelSum(sys, [terminalStateCost, terminalControlCost, terminalEECost])\n",
    "\n",
    "costs = [runningCost]*T + [terminalCost]"
   ]
  },
  {
   "cell_type": "markdown",
   "metadata": {},
   "source": [
    "#### Construct ILQR"
   ]
  },
  {
   "cell_type": "code",
   "execution_count": 13,
   "metadata": {},
   "outputs": [],
   "source": [
    "ilqr_cost = ILQR(sys, mu)\n",
    "ilqr_cost.set_init_state(x0)\n",
    "ilqr_cost.set_timestep(T)\n",
    "ilqr_cost.set_cost(costs)\n",
    "ilqr_cost.set_state(xs, us) #set initial trajectory"
   ]
  },
  {
   "cell_type": "code",
   "execution_count": 14,
   "metadata": {},
   "outputs": [],
   "source": [
    "ilqr_cost.mu = mu"
   ]
  },
  {
   "cell_type": "markdown",
   "metadata": {},
   "source": [
    "#### Solve and Plot"
   ]
  },
  {
   "cell_type": "code",
   "execution_count": 15,
   "metadata": {
    "scrolled": true
   },
   "outputs": [
    {
     "name": "stdout",
     "output_type": "stream",
     "text": [
      "Cost converges at iteration 5, cannot decrease further\n"
     ]
    }
   ],
   "source": [
    "n_iter = 30\n",
    "ilqr_cost.solve(n_iter, method='recursive')\n",
    "xs_batch, us_batch = ilqr_cost.xs, ilqr_cost.us\n",
    "\n",
    "#clear_output()"
   ]
  },
  {
   "cell_type": "markdown",
   "metadata": {},
   "source": [
    "#### Play traj"
   ]
  },
  {
   "cell_type": "raw",
   "metadata": {},
   "source": [
    "sys.vis_traj(ilqr_cost.xs)"
   ]
  },
  {
   "cell_type": "markdown",
   "metadata": {},
   "source": [
    "#### Compute Error"
   ]
  },
  {
   "cell_type": "code",
   "execution_count": 16,
   "metadata": {},
   "outputs": [
    {
     "name": "stdout",
     "output_type": "stream",
     "text": [
      "[ 0.2775  0.8952  0.282  -0.205 ]\n",
      "[ 0.2755  0.894   0.2842 -0.2098]\n"
     ]
    }
   ],
   "source": [
    "pos, quat = sys.compute_ee(ilqr_cost.xs[-1], link_id)\n",
    "\n",
    "print(quat)\n",
    "print(target_orn)"
   ]
  },
  {
   "cell_type": "markdown",
   "metadata": {},
   "source": [
    "### Check the two frames visually"
   ]
  },
  {
   "cell_type": "code",
   "execution_count": 21,
   "metadata": {},
   "outputs": [],
   "source": [
    "from mpl_toolkits.mplot3d import Axes3D\n",
    "desired_orn_mat = quat2Mat(target_orn)\n",
    "obtained_orn_mat = quat2Mat(quat)\n",
    "\n",
    "desired_frame = np.identity(4)\n",
    "desired_frame[:3,:3] = desired_orn_mat\n",
    "\n",
    "obtained_frame = np.identity(4)\n",
    "obtained_frame[:3,:3] = obtained_orn_mat"
   ]
  },
  {
   "cell_type": "code",
   "execution_count": 23,
   "metadata": {},
   "outputs": [
    {
     "data": {
      "image/png": "[encoded data removed]",
      "text/plain": [
       "<Figure size 432x288 with 1 Axes>"
      ]
     },
     "metadata": {
      "needs_background": "light"
     },
     "output_type": "display_data"
    }
   ],
   "source": [
    "fig = plt.figure()\n",
    "ax = fig.add_subplot(111, projection='3d')\n",
    "plot_pose_matrix(ax,desired_frame,'')\n",
    "plot_pose_matrix(ax,obtained_frame,'')\n",
    "set_axes_equal(ax)\n",
    "plt.show()"
   ]
  },
  {
   "cell_type": "markdown",
   "metadata": {},
   "source": [
    "## Check the orientation derivative\n",
    "\n",
    "Validate the derivative calculation of the orientation cost using numerical differentiation. This is a good practice when creating a new cost function, to check if our analytical calculation is correct. "
   ]
  },
  {
   "cell_type": "code",
   "execution_count": 29,
   "metadata": {},
   "outputs": [],
   "source": [
    "idx = np.random.randint(len(ilqr_cost.xs))\n",
    "x = ilqr_cost.xs[idx]\n",
    "u = ilqr_cost.us[idx]"
   ]
  },
  {
   "cell_type": "code",
   "execution_count": 30,
   "metadata": {},
   "outputs": [
    {
     "name": "stdout",
     "output_type": "stream",
     "text": [
      "[[-0.0158 -0.0007 -0.0131 -0.0125 -0.0263 -0.0107  0.0077  0.      0.\n",
      "   0.      0.      0.      0.      0.    ]]\n",
      "[-0.0158 -0.0007 -0.0131 -0.0125 -0.0263 -0.0107  0.0077  0.      0.\n",
      "  0.      0.      0.      0.      0.    ]\n",
      "[[-0.  0. -0. -0.  0. -0. -0.  0.  0.  0.  0.  0.  0.  0.]]\n"
     ]
    }
   ],
   "source": [
    "inc = 0.001\n",
    "J = np.zeros((1, len(x)))\n",
    "for i in range(len(xs[0])):\n",
    "    x_p = x.copy()\n",
    "    x_p[i] += inc\n",
    "    cost_p = runningEECost.calc(x_p, u)\n",
    "    \n",
    "    x_m = x.copy()\n",
    "    x_m[i] -= inc\n",
    "    cost_m = runningEECost.calc(x_m, u)\n",
    "    \n",
    "    diff = (cost_p-cost_m)/(2*inc)\n",
    "    J[0,i] = diff\n",
    "    \n",
    "J_true = runningEECost.calcDiff(x, u)\n",
    "J_true = runningEECost.Lx\n",
    "print(J)\n",
    "print(J_true)\n",
    "print(J-J_true)"
   ]
  }
 ],
 "metadata": {
  "kernelspec": {
   "display_name": "Python 3",
   "language": "python",
   "name": "python3"
  },
  "language_info": {
   "codemirror_mode": {
    "name": "ipython",
    "version": 3
   },
   "file_extension": ".py",
   "mimetype": "text/x-python",
   "name": "python",
   "nbconvert_exporter": "python",
   "pygments_lexer": "ipython3",
   "version": "3.8.3"
  }
 },
 "nbformat": 4,
 "nbformat_minor": 4
}
