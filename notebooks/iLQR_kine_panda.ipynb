{
 "cells": [
  {
   "cell_type": "markdown",
   "metadata": {},
   "source": [
    "#### iLQR for kinematic example"
   ]
  },
  {
   "cell_type": "code",
   "execution_count": 1,
   "metadata": {},
   "outputs": [],
   "source": [
    "import numpy as np\n",
    "import matplotlib.pyplot as plt\n",
    "from IPython.display import clear_output\n",
    "import time\n",
    "from ocp import *\n",
    "from costs import *\n",
    "from ocp_utils import *\n",
    "\n",
    "import pybullet as p\n",
    "import pybullet_data\n",
    "\n",
    "%load_ext autoreload\n",
    "%autoreload 2\n",
    "np.set_printoptions(precision=4, suppress=True)"
   ]
  },
  {
   "cell_type": "markdown",
   "metadata": {},
   "source": [
    "#### Setup pybullet with the urdf"
   ]
  },
  {
   "cell_type": "code",
   "execution_count": 2,
   "metadata": {},
   "outputs": [],
   "source": [
    "# configure pybullet and load plane.urdf and quadcopter.urdf\n",
    "#physicsClient = p.connect(p.DIRECT)  # pybullet only for computations no visualisation, faster\n",
    "physicsClient = p.connect(p.GUI)  # pybullet with visualisation\n",
    "p.configureDebugVisualizer(p.COV_ENABLE_GUI,0)\n",
    "\n",
    "p.setAdditionalSearchPath(pybullet_data.getDataPath())"
   ]
  },
  {
   "cell_type": "code",
   "execution_count": 3,
   "metadata": {},
   "outputs": [],
   "source": [
    "p.resetSimulation()\n",
    "\n",
    "robot_urdf = \"../data/urdf/frankaemika_new/panda_arm.urdf\"\n",
    "robot_id = p.loadURDF(robot_urdf, useFixedBase=1)\n",
    "joint_limits = get_joint_limits(robot_id, 7)\n",
    "\n",
    "p.loadURDF('plane.urdf')\n",
    "\n",
    "#Define the end-effector\n",
    "link_id = 10\n",
    "link_name = 'panda_grasptarget_hand'\n",
    "\n",
    "#Create a ball to show the target\n",
    "_,_,ballId = create_primitives(radius=0.05)"
   ]
  },
  {
   "cell_type": "markdown",
   "metadata": {},
   "source": [
    "### Construct the robot system"
   ]
  },
  {
   "cell_type": "code",
   "execution_count": 4,
   "metadata": {},
   "outputs": [],
   "source": [
    "dt = 0.05\n",
    "T = 100\n",
    "dof = 7\n",
    "sys = URDFRobot(dof=dof, robot_id=robot_id, dt = dt)"
   ]
  },
  {
   "cell_type": "markdown",
   "metadata": {},
   "source": [
    "#### Set the initial state"
   ]
  },
  {
   "cell_type": "code",
   "execution_count": 5,
   "metadata": {},
   "outputs": [],
   "source": [
    "q0 = np.random.rand(7)\n",
    "q0 = np.array([0.,0.,0.,-1.5,0.,1.5,0.])\n",
    "#q0 = np.array([0.4201, 0.4719, 0.9226, 0.8089, 0.3113, 0.7598, 0.364 ])\n",
    "x0 = np.concatenate([q0, np.zeros(7)])\n",
    "sys.set_init_state(x0)"
   ]
  },
  {
   "cell_type": "markdown",
   "metadata": {},
   "source": [
    "#### Try forward kinematics"
   ]
  },
  {
   "cell_type": "code",
   "execution_count": 6,
   "metadata": {},
   "outputs": [
    {
     "name": "stdout",
     "output_type": "stream",
     "text": [
      "[ 0.5477 -0.      0.5465]\n"
     ]
    }
   ],
   "source": [
    "pos0, quat0 = sys.compute_ee(x0, link_id)\n",
    "\n",
    "#Put the ball at the end-effector\n",
    "p.resetBasePositionAndOrientation(ballId, pos0, quat0)\n",
    "print(pos0)"
   ]
  },
  {
   "cell_type": "markdown",
   "metadata": {},
   "source": [
    "#### Set initial control output"
   ]
  },
  {
   "cell_type": "code",
   "execution_count": 7,
   "metadata": {},
   "outputs": [],
   "source": [
    "#set initial control output to be all zeros\n",
    "us = np.zeros((T+1,sys.Du))\n",
    "_ = sys.compute_matrices(x0, us[0])\n",
    "xs = sys.rollout(us[:-1])"
   ]
  },
  {
   "cell_type": "markdown",
   "metadata": {},
   "source": [
    "#### Plot initial trajectory"
   ]
  },
  {
   "cell_type": "raw",
   "metadata": {},
   "source": [
    "sys.vis_traj(xs)"
   ]
  },
  {
   "cell_type": "markdown",
   "metadata": {},
   "source": [
    "#### Set the regularization cost coefficients Q and R "
   ]
  },
  {
   "cell_type": "code",
   "execution_count": 8,
   "metadata": {},
   "outputs": [],
   "source": [
    "Q = np.eye(sys.Dx)*.1\n",
    "Q[0:sys.dof,0:sys.dof] *= 0.01  #only put cost regularization on the velocity, not on the joint angles\n",
    "Qf = np.eye(sys.Dx)*1\n",
    "Qf[0:sys.dof,0:sys.dof] *= 0.01 #only put cost regularization on the velocity, not on the joint angles\n",
    "R = np.eye(sys.Du)*1e-6\n",
    "mu = 1e-6          #regularization coefficient"
   ]
  },
  {
   "cell_type": "markdown",
   "metadata": {},
   "source": [
    "#### Set end effector reference "
   ]
  },
  {
   "cell_type": "code",
   "execution_count": 9,
   "metadata": {},
   "outputs": [],
   "source": [
    "#W and WT: cost coefficients for the end-effector reaching task\n",
    "p_ref = np.array([0.5, -.4, 0.4])\n",
    "W = np.eye(3)*1\n",
    "WT = np.eye(3)*100"
   ]
  },
  {
   "cell_type": "code",
   "execution_count": 10,
   "metadata": {},
   "outputs": [],
   "source": [
    "p.resetBasePositionAndOrientation(ballId, p_ref, (0,0,0,1))"
   ]
  },
  {
   "cell_type": "markdown",
   "metadata": {},
   "source": [
    "### iLQR using cost model"
   ]
  },
  {
   "cell_type": "markdown",
   "metadata": {},
   "source": [
    "#### Define the cost"
   ]
  },
  {
   "cell_type": "code",
   "execution_count": 11,
   "metadata": {},
   "outputs": [],
   "source": [
    "#The costs consist of: a) state regularization (Q), b) control regularization (R), and c) End-effector reaching task (W)\n",
    "#Running cost is for the time 0 <= t < T, while terminal cost is for the time t = T\n",
    "\n",
    "runningStateCost = CostModelQuadratic(sys, Q)\n",
    "runningControlCost = CostModelQuadratic(sys, None, R)\n",
    "runningEECost = CostModelQuadraticTranslation(sys,W, link_id,p_ref)\n",
    "runningCost = CostModelSum(sys, [runningStateCost, runningControlCost, runningEECost])\n",
    "\n",
    "terminalStateCost = CostModelQuadratic(sys,Qf)\n",
    "terminalControlCost = CostModelQuadratic(sys, None,R)\n",
    "terminalEECost = CostModelQuadraticTranslation(sys,WT, link_id,p_ref)\n",
    "terminalCost = CostModelSum(sys, [terminalStateCost, terminalControlCost, terminalEECost])\n",
    "\n",
    "costs = [runningCost]*T + [terminalCost]"
   ]
  },
  {
   "cell_type": "markdown",
   "metadata": {},
   "source": [
    "#### Construct ILQR"
   ]
  },
  {
   "cell_type": "code",
   "execution_count": 12,
   "metadata": {},
   "outputs": [],
   "source": [
    "ilqr_cost = ILQR(sys, mu)\n",
    "ilqr_cost.set_init_state(x0)\n",
    "ilqr_cost.set_timestep(T)\n",
    "ilqr_cost.set_cost(costs)\n",
    "ilqr_cost.set_state(xs, us) #set initial trajectory"
   ]
  },
  {
   "cell_type": "code",
   "execution_count": 13,
   "metadata": {},
   "outputs": [],
   "source": [
    "ilqr_cost.mu = 1e-6"
   ]
  },
  {
   "cell_type": "markdown",
   "metadata": {},
   "source": [
    "#### Solve and Plot"
   ]
  },
  {
   "cell_type": "code",
   "execution_count": 14,
   "metadata": {
    "scrolled": true
   },
   "outputs": [
    {
     "name": "stdout",
     "output_type": "stream",
     "text": [
      "1.5140739660073135\n",
      "1.0 1.5346630087358442\n",
      "0.8 1.528804614622876\n",
      "0.6400000000000001 1.52474383039754\n",
      "0.5120000000000001 1.5218961344076707\n",
      "0.40960000000000013 1.519874743246155\n",
      "0.32768000000000014 1.5184220462068185\n",
      "0.2621440000000001 1.5173651583423102\n",
      "0.2097152000000001 1.5165870428691817\n",
      "0.1677721600000001 1.516007694461117\n",
      "0.13421772800000006 1.5155718336285835\n",
      "0.10737418240000006 1.5152408233495096\n",
      "0.08589934592000005 1.5149873307921902\n",
      "0.06871947673600004 1.5147917795378802\n",
      "0.054975581388800036 1.5146399743121481\n",
      "0.043980465111040035 1.514521497229259\n",
      "0.03518437208883203 1.5144286146077295\n",
      "0.028147497671065627 1.5143555239514692\n",
      "0.022517998136852502 1.5142978293354383\n",
      "0.018014398509482003 1.5142521715180521\n",
      "0.014411518807585602 1.5142159639114305\n",
      "0.011529215046068483 1.5141872017639828\n",
      "0.009223372036854787 1.5141643225680852\n",
      "0.00737869762948383 1.5141461027464242\n",
      "0.005902958103587064 1.5141315803520123\n",
      "0.004722366482869652 1.5141199966529977\n",
      "0.0037778931862957215 1.5141107515924808\n",
      "0.0030223145490365774 1.5141033695592965\n",
      "0.002417851639229262 1.514097472902529\n",
      "0.0019342813113834097 1.514092761317789\n",
      "0.0015474250491067279 1.5140889957240409\n",
      "0.0012379400392853823 1.5140859856004327\n",
      "0.0009903520314283058 1.514083579006437\n",
      "0.0007922816251426447 1.5140816546943752\n",
      "0.0006338253001141158 1.5140801158611277\n",
      "0.0005070602400912927 1.5140788851890332\n",
      "0.00040564819207303417 1.5140779009038343\n",
      "0.00032451855365842736 1.514077113637263\n",
      "0.0002596148429267419 1.514076483927423\n",
      "0.00020769187434139353 1.5140759802257373\n",
      "0.00016615349947311482 1.5140755773067474\n",
      "0.00013292279957849188 1.5140752549986638\n",
      "0.0001063382396627935 1.5140749971695493\n",
      "8.507059173023481e-05 1.514074790917362\n",
      "6.805647338418785e-05 1.5140746259227176\n",
      "5.444517870735028e-05 1.5140744939315516\n",
      "4.3556142965880224e-05 1.5140743883415277\n",
      "3.484491437270418e-05 1.514074303871373\n",
      "2.7875931498163346e-05 1.514074236296442\n",
      "2.2300745198530677e-05 1.5140741822372605\n",
      "1.784059615882454e-05 1.5140741389904027\n",
      "1.4272476927059634e-05 1.514074104393228\n",
      "1.1417981541647708e-05 1.5140740767156902\n",
      "9.134385233318167e-06 1.5140740545737885\n",
      "7.307508186654534e-06 1.5140740368603465\n",
      "5.846006549323628e-06 1.5140740226896476\n",
      "4.676805239458903e-06 1.5140740113531197\n",
      "3.7414441915671226e-06 1.5140740022839205\n",
      "2.9931553532536984e-06 1.5140739950285753\n",
      "2.394524282602959e-06 1.514073989224308\n",
      "1.9156194260823675e-06 1.5140739845808993\n",
      "1.5324955408658941e-06 1.514073980866174\n",
      "1.2259964326927154e-06 1.5140739778943988\n",
      "9.807971461541723e-07 1.5140739755169796\n",
      "7.846377169233379e-07 1.5140739736150453\n",
      "6.277101735386704e-07 1.5140739720934964\n",
      "5.021681388309363e-07 1.5140739708762587\n",
      "4.017345110647491e-07 1.5140739699024701\n",
      "3.213876088517993e-07 1.514073969123437\n",
      "2.5711008708143947e-07 1.514073968500213\n",
      "2.056880696651516e-07 1.5140739680016317\n",
      "1.645504557321213e-07 1.5140739676027686\n",
      "1.3164036458569703e-07 1.5140739672836787\n",
      "1.0531229166855763e-07 1.5140739670284051\n",
      "8.42498333348461e-08 1.5140739668241858\n",
      "6.739986666787689e-08 1.5140739666608103\n",
      "5.3919893334301516e-08 1.5140739665301128\n",
      "4.313591466744121e-08 1.5140739664255518\n",
      "3.450873173395297e-08 1.5140739663419047\n",
      "2.7606985387162378e-08 1.5140739662749874\n",
      "2.2085588309729903e-08 1.514073966221453\n",
      "1.7668470647783922e-08 1.514073966178625\n",
      "1.4134776518227139e-08 1.5140739661443612\n",
      "1.1307821214581712e-08 1.5140739661169529\n",
      "9.046256971665371e-09 1.514073966095026\n",
      "7.237005577332297e-09 1.5140739660774811\n",
      "5.789604461865838e-09 1.5140739660634488\n",
      "4.6316835694926705e-09 1.514073966052223\n",
      "3.7053468555941365e-09 1.51407396604324\n",
      "2.9642774844753093e-09 1.514073966036054\n",
      "2.3714219875802478e-09 1.5140739660303073\n",
      "1.8971375900641985e-09 1.5140739660257092\n",
      "1.517710072051359e-09 1.5140739660220301\n",
      "1.2141680576410873e-09 1.5140739660190876\n",
      "9.713344461128698e-10 1.5140739660167324\n",
      "7.770675568902959e-10 1.514073966014848\n",
      "6.216540455122368e-10 1.514073966013342\n",
      "4.973232364097895e-10 1.5140739660121356\n",
      "3.978585891278316e-10 1.5140739660111713\n",
      "3.182868713022653e-10 1.5140739660103995\n",
      "2.5462949704181227e-10 1.5140739660097826\n",
      "Ending the iteration..\n",
      "ValueError('Cannot find a good direction')\n",
      "Reach maximum ILQR iteration\n"
     ]
    }
   ],
   "source": [
    "n_iter = 30\n",
    "ilqr_cost.solve(n_iter, method='batch')\n",
    "xs_batch, us_batch = ilqr_cost.xs, ilqr_cost.us\n",
    "\n",
    "#clear_output()"
   ]
  },
  {
   "cell_type": "markdown",
   "metadata": {},
   "source": [
    "#### Play traj"
   ]
  },
  {
   "cell_type": "code",
   "execution_count": 15,
   "metadata": {},
   "outputs": [],
   "source": [
    "sys.vis_traj(ilqr_cost.xs)"
   ]
  },
  {
   "cell_type": "markdown",
   "metadata": {},
   "source": [
    "#### Compute Error"
   ]
  },
  {
   "cell_type": "code",
   "execution_count": 16,
   "metadata": {},
   "outputs": [],
   "source": [
    "pos, quat = sys.compute_ee(ilqr_cost.xs[-1], link_id)"
   ]
  },
  {
   "cell_type": "code",
   "execution_count": 17,
   "metadata": {},
   "outputs": [
    {
     "name": "stdout",
     "output_type": "stream",
     "text": [
      "[-0.003  -0.0014 -0.0062]\n"
     ]
    }
   ],
   "source": [
    "print(pos-p_ref)"
   ]
  },
  {
   "cell_type": "code",
   "execution_count": null,
   "metadata": {},
   "outputs": [],
   "source": []
  }
 ],
 "metadata": {
  "kernelspec": {
   "display_name": "Python 3",
   "language": "python",
   "name": "python3"
  },
  "language_info": {
   "codemirror_mode": {
    "name": "ipython",
    "version": 3
   },
   "file_extension": ".py",
   "mimetype": "text/x-python",
   "name": "python",
   "nbconvert_exporter": "python",
   "pygments_lexer": "ipython3",
   "version": "3.8.5"
  }
 },
 "nbformat": 4,
 "nbformat_minor": 4
}
