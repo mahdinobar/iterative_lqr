{
 "cells": [
  {
   "cell_type": "markdown",
   "metadata": {},
   "source": [
    "#### iLQR for kinematic example"
   ]
  },
  {
   "cell_type": "code",
   "execution_count": 1,
   "metadata": {},
   "outputs": [
    {
     "name": "stderr",
     "output_type": "stream",
     "text": [
      "\n",
      "Bad key \"text.kerning_factor\" on line 4 in\n",
      "/home/teguh/miniconda3/envs/tf3/lib/python3.8/site-packages/matplotlib/mpl-data/stylelib/_classic_test_patch.mplstyle.\n",
      "You probably need to get an updated matplotlibrc file from\n",
      "https://github.com/matplotlib/matplotlib/blob/v3.1.3/matplotlibrc.template\n",
      "or from the matplotlib source distribution\n"
     ]
    }
   ],
   "source": [
    "import numpy as np\n",
    "import matplotlib.pyplot as plt\n",
    "from IPython.display import clear_output\n",
    "import time\n",
    "from ocp import *\n",
    "from costs import *\n",
    "from ocp_utils import *\n",
    "\n",
    "import pybullet as p\n",
    "import pybullet_data\n",
    "\n",
    "%load_ext autoreload\n",
    "%autoreload 2\n",
    "np.set_printoptions(precision=4, suppress=True)"
   ]
  },
  {
   "cell_type": "markdown",
   "metadata": {},
   "source": [
    "#### Setup pybullet with the urdf"
   ]
  },
  {
   "cell_type": "code",
   "execution_count": 2,
   "metadata": {},
   "outputs": [],
   "source": [
    "# configure pybullet and load plane.urdf and quadcopter.urdf\n",
    "#physicsClient = p.connect(p.DIRECT)  # pybullet only for computations no visualisation, faster\n",
    "physicsClient = p.connect(p.GUI)  # pybullet with visualisation\n",
    "p.configureDebugVisualizer(p.COV_ENABLE_GUI,0)\n",
    "\n",
    "p.setAdditionalSearchPath(pybullet_data.getDataPath())"
   ]
  },
  {
   "cell_type": "code",
   "execution_count": 3,
   "metadata": {},
   "outputs": [],
   "source": [
    "p.resetSimulation()\n",
    "\n",
    "robot_urdf = \"../data/urdf/frankaemika_new/panda_arm.urdf\"\n",
    "robot_id = p.loadURDF(robot_urdf, useFixedBase=1)\n",
    "joint_limits = get_joint_limits(robot_id, 7)\n",
    "\n",
    "p.loadURDF('plane.urdf')\n",
    "\n",
    "#Define the end-effector\n",
    "link_id = 10\n",
    "link_name = 'panda_grasptarget_hand'\n",
    "\n",
    "#Create a ball to show the target\n",
    "_,_,ballId = create_primitives(radius=0.05)"
   ]
  },
  {
   "cell_type": "markdown",
   "metadata": {},
   "source": [
    "### Construct the robot system"
   ]
  },
  {
   "cell_type": "code",
   "execution_count": 4,
   "metadata": {},
   "outputs": [],
   "source": [
    "dt = 0.05\n",
    "T = 100\n",
    "dof = 7\n",
    "sys = URDFRobot(dof=dof, robot_id=robot_id, dt = dt)"
   ]
  },
  {
   "cell_type": "markdown",
   "metadata": {},
   "source": [
    "#### Set the initial state"
   ]
  },
  {
   "cell_type": "code",
   "execution_count": 5,
   "metadata": {},
   "outputs": [],
   "source": [
    "q0 = np.random.rand(7)\n",
    "q0 = np.array([0.,0.,0.,-1.5,0.,1.5,0.])\n",
    "#q0 = np.array([0.4201, 0.4719, 0.9226, 0.8089, 0.3113, 0.7598, 0.364 ])\n",
    "x0 = np.concatenate([q0, np.zeros(7)])\n",
    "sys.set_init_state(x0)"
   ]
  },
  {
   "cell_type": "markdown",
   "metadata": {},
   "source": [
    "#### Try forward kinematics"
   ]
  },
  {
   "cell_type": "code",
   "execution_count": 6,
   "metadata": {},
   "outputs": [
    {
     "name": "stdout",
     "output_type": "stream",
     "text": [
      "[ 0.5477 -0.      0.5465]\n"
     ]
    }
   ],
   "source": [
    "pos0, quat0 = sys.compute_ee(x0, link_id)\n",
    "\n",
    "#Put the ball at the end-effector\n",
    "p.resetBasePositionAndOrientation(ballId, pos0, quat0)\n",
    "print(pos0)"
   ]
  },
  {
   "cell_type": "markdown",
   "metadata": {},
   "source": [
    "#### Set initial control output"
   ]
  },
  {
   "cell_type": "code",
   "execution_count": 7,
   "metadata": {},
   "outputs": [],
   "source": [
    "#set initial control output to be all zeros\n",
    "us = np.zeros((T+1,sys.Du))\n",
    "_ = sys.compute_matrices(x0, us[0])\n",
    "xs = sys.rollout(us[:-1])"
   ]
  },
  {
   "cell_type": "markdown",
   "metadata": {},
   "source": [
    "#### Plot initial trajectory"
   ]
  },
  {
   "cell_type": "raw",
   "metadata": {},
   "source": [
    "sys.vis_traj(xs)"
   ]
  },
  {
   "cell_type": "markdown",
   "metadata": {},
   "source": [
    "#### Set the regularization cost coefficients Q and R "
   ]
  },
  {
   "cell_type": "code",
   "execution_count": 8,
   "metadata": {},
   "outputs": [],
   "source": [
    "Q = np.eye(sys.Dx)*.1\n",
    "Q[0:sys.dof,0:sys.dof] *= 0.01  #only put cost regularization on the velocity, not on the joint angles\n",
    "Qf = np.eye(sys.Dx)*1\n",
    "Qf[0:sys.dof,0:sys.dof] *= 0.01 #only put cost regularization on the velocity, not on the joint angles\n",
    "R = np.eye(sys.Du)*.1\n",
    "mu = 1e-6          #regularization coefficient"
   ]
  },
  {
   "cell_type": "markdown",
   "metadata": {},
   "source": [
    "#### Set end effector reference "
   ]
  },
  {
   "cell_type": "code",
   "execution_count": 51,
   "metadata": {},
   "outputs": [],
   "source": [
    "#W and WT: cost coefficients for the end-effector reaching task\n",
    "p_ref = np.array([0.5, -.4, 0.4])\n",
    "W = np.eye(3)*1\n",
    "WT = np.eye(3)*100"
   ]
  },
  {
   "cell_type": "code",
   "execution_count": 52,
   "metadata": {},
   "outputs": [],
   "source": [
    "p.resetBasePositionAndOrientation(ballId, p_ref, (0,0,0,1))"
   ]
  },
  {
   "cell_type": "markdown",
   "metadata": {},
   "source": [
    "### iLQR using cost model"
   ]
  },
  {
   "cell_type": "markdown",
   "metadata": {},
   "source": [
    "#### Define the cost"
   ]
  },
  {
   "cell_type": "code",
   "execution_count": 53,
   "metadata": {},
   "outputs": [],
   "source": [
    "#The costs consist of: a) state regularization (Q), b) control regularization (R), and c) End-effector reaching task (W)\n",
    "#Running cost is for the time 0 <= t < T, while terminal cost is for the time t = T\n",
    "\n",
    "runningStateCost = CostModelQuadratic(sys, Q)\n",
    "runningControlCost = CostModelQuadratic(sys, None, R)\n",
    "runningEECost = CostModelQuadraticTranslation(sys,W, link_id,p_ref)\n",
    "runningCost = CostModelSum(sys, [runningStateCost, runningControlCost, runningEECost])\n",
    "\n",
    "terminalStateCost = CostModelQuadratic(sys,Qf)\n",
    "terminalControlCost = CostModelQuadratic(sys, None,R)\n",
    "terminalEECost = CostModelQuadraticTranslation(sys,WT, link_id,p_ref)\n",
    "terminalCost = CostModelSum(sys, [terminalStateCost, terminalControlCost, terminalEECost])\n",
    "\n",
    "costs = [runningCost]*T + [terminalCost]"
   ]
  },
  {
   "cell_type": "markdown",
   "metadata": {},
   "source": [
    "#### Construct ILQR"
   ]
  },
  {
   "cell_type": "code",
   "execution_count": 54,
   "metadata": {},
   "outputs": [],
   "source": [
    "ilqr_cost = ILQR(sys, mu)\n",
    "ilqr_cost.set_init_state(x0)\n",
    "ilqr_cost.set_timestep(T)\n",
    "ilqr_cost.set_cost(costs)\n",
    "ilqr_cost.set_state(xs, us) #set initial trajectory"
   ]
  },
  {
   "cell_type": "code",
   "execution_count": 55,
   "metadata": {},
   "outputs": [],
   "source": [
    "ilqr_cost.mu = 1e-6"
   ]
  },
  {
   "cell_type": "markdown",
   "metadata": {},
   "source": [
    "#### Solve and Plot"
   ]
  },
  {
   "cell_type": "code",
   "execution_count": 56,
   "metadata": {
    "scrolled": true
   },
   "outputs": [
    {
     "name": "stdout",
     "output_type": "stream",
     "text": [
      "1.6145078713024632\n",
      "1.0 1.6335471410067526\n",
      "0.8 1.628235401597161\n",
      "0.6400000000000001 1.6245267641943544\n",
      "0.5120000000000001 1.621906254602903\n",
      "0.40960000000000013 1.6200317039673078\n",
      "0.32768000000000014 1.61867413355462\n",
      "0.2621440000000001 1.6176790435528552\n",
      "0.2097152000000001 1.6169412111065606\n",
      "0.1677721600000001 1.6163882292188205\n",
      "0.13421772800000006 1.615969710997845\n",
      "0.10737418240000006 1.6156501742857334\n",
      "0.08589934592000005 1.6154043241792526\n",
      "0.06871947673600004 1.6152139035531348\n",
      "0.054975581388800036 1.6150655734795207\n",
      "0.043980465111040035 1.6149494737250611\n",
      "0.03518437208883203 1.61485823517401\n",
      "0.028147497671065627 1.6147862947847504\n",
      "0.022517998136852502 1.6147294147879234\n",
      "0.018014398509482003 1.6146843410848775\n",
      "0.014411518807585602 1.6146485575175624\n",
      "0.011529215046068483 1.614620106920016\n",
      "0.009223372036854787 1.6145974592477677\n",
      "0.00737869762948383 1.6145794133065738\n",
      "0.005902958103587064 1.614565022759903\n",
      "0.004722366482869652 1.6145535398948263\n",
      "0.0037778931862957215 1.6145443725291297\n",
      "0.0030223145490365774 1.6145370507495087\n",
      "0.002417851639229262 1.6145312010781216\n",
      "0.0019342813113834097 1.6145265263025077\n",
      "0.0015474250491067279 1.6145227896573815\n",
      "0.0012379400392853823 1.6145198023735172\n",
      "0.0009903520314283058 1.6145174138470613\n",
      "0.0007922816251426447 1.6145155038583037\n",
      "0.0006338253001141158 1.6145139764000385\n",
      "0.0005070602400912927 1.6145127547743814\n",
      "0.00040564819207303417 1.6145117776920659\n",
      "0.00032451855365842736 1.6145109961658695\n",
      "0.0002596148429267419 1.6145103710342916\n",
      "0.00020769187434139353 1.6145098709862316\n",
      "0.00016615349947311482 1.614509470984395\n",
      "0.00013292279957849188 1.6145091510063532\n",
      "0.0001063382396627935 1.6145088950389166\n",
      "8.507059173023481e-05 1.6145086902745651\n",
      "6.805647338418785e-05 1.614508526469225\n",
      "5.444517870735028e-05 1.614508395428884\n",
      "4.3556142965880224e-05 1.6145082905991275\n",
      "3.484491437270418e-05 1.6145082067369323\n",
      "2.7875931498163346e-05 1.6145081396482066\n",
      "2.2300745198530677e-05 1.6145080859778855\n",
      "1.784059615882454e-05 1.6145080430420509\n",
      "1.4272476927059634e-05 1.6145080086936523\n",
      "1.1417981541647708e-05 1.6145079812151073\n",
      "9.134385233318167e-06 1.614507959232382\n",
      "7.307508186654534e-06 1.6145079416462724\n",
      "5.846006549323628e-06 1.614507927577429\n",
      "4.676805239458903e-06 1.6145079163223846\n",
      "3.7414441915671226e-06 1.6145079073183672\n",
      "2.9931553532536984e-06 1.6145079001151654\n",
      "2.394524282602959e-06 1.6145078943526114\n",
      "1.9156194260823675e-06 1.6145078897425733\n",
      "1.5324955408658941e-06 1.6145078860545452\n",
      "1.2259964326927154e-06 1.6145078831041253\n",
      "9.807971461541723e-07 1.6145078807437907\n",
      "7.846377169233379e-07 1.6145078788555238\n",
      "6.277101735386704e-07 1.6145078773449106\n",
      "5.021681388309363e-07 1.6145078761364207\n",
      "4.017345110647491e-07 1.6145078751696291\n",
      "3.213876088517993e-07 1.6145078743961958\n",
      "2.5711008708143947e-07 1.6145078737774483\n",
      "2.056880696651516e-07 1.614507873282451\n",
      "1.645504557321213e-07 1.6145078728864528\n",
      "1.3164036458569703e-07 1.614507872569655\n",
      "1.0531229166855763e-07 1.6145078723162178\n",
      "8.42498333348461e-08 1.614507872113466\n",
      "6.739986666787689e-08 1.6145078719512658\n",
      "5.3919893334301516e-08 1.6145078718215053\n",
      "4.313591466744121e-08 1.6145078717176964\n",
      "3.450873173395297e-08 1.6145078716346493\n",
      "2.7606985387162378e-08 1.6145078715682124\n",
      "2.2085588309729903e-08 1.6145078715150625\n",
      "1.7668470647783922e-08 1.614507871472542\n",
      "1.4134776518227139e-08 1.6145078714385264\n",
      "1.1307821214581712e-08 1.6145078714113146\n",
      "9.046256971665371e-09 1.6145078713895435\n",
      "7.237005577332297e-09 1.6145078713721277\n",
      "5.789604461865838e-09 1.6145078713581946\n",
      "4.6316835694926705e-09 1.6145078713470478\n",
      "3.7053468555941365e-09 1.6145078713381316\n",
      "2.9642774844753093e-09 1.614507871330998\n",
      "2.3714219875802478e-09 1.614507871325291\n",
      "1.8971375900641985e-09 1.614507871320725\n",
      "1.517710072051359e-09 1.614507871317073\n",
      "1.2141680576410873e-09 1.6145078713141503\n",
      "9.713344461128698e-10 1.6145078713118135\n",
      "7.770675568902959e-10 1.614507871309943\n",
      "6.216540455122368e-10 1.6145078713084478\n",
      "4.973232364097895e-10 1.614507871307251\n",
      "3.978585891278316e-10 1.6145078713062933\n",
      "3.182868713022653e-10 1.6145078713055265\n",
      "2.5462949704181227e-10 1.6145078713049144\n",
      "Ending the iteration..\n",
      "ValueError('Cannot find a good direction')\n",
      "Reach maximum ILQR iteration\n"
     ]
    }
   ],
   "source": [
    "n_iter = 30\n",
    "ilqr_cost.solve(n_iter, method='batch')\n",
    "xs_batch, us_batch = ilqr_cost.xs, ilqr_cost.us\n",
    "\n",
    "#clear_output()"
   ]
  },
  {
   "cell_type": "markdown",
   "metadata": {},
   "source": [
    "#### Play traj"
   ]
  },
  {
   "cell_type": "code",
   "execution_count": 33,
   "metadata": {},
   "outputs": [],
   "source": [
    "sys.vis_traj(ilqr_cost.xs)"
   ]
  },
  {
   "cell_type": "markdown",
   "metadata": {},
   "source": [
    "#### Compute Error"
   ]
  },
  {
   "cell_type": "code",
   "execution_count": 253,
   "metadata": {},
   "outputs": [],
   "source": [
    "pos, quat = robot_sys.compute_ee(ilqr_cost.xs[-1], link_id)"
   ]
  },
  {
   "cell_type": "code",
   "execution_count": 254,
   "metadata": {},
   "outputs": [
    {
     "name": "stdout",
     "output_type": "stream",
     "text": [
      "[ 0.0002  0.0015 -0.0053]\n"
     ]
    }
   ],
   "source": [
    "print(pos-p_ref)"
   ]
  }
 ],
 "metadata": {
  "kernelspec": {
   "display_name": "Python 3",
   "language": "python",
   "name": "python3"
  },
  "language_info": {
   "codemirror_mode": {
    "name": "ipython",
    "version": 3
   },
   "file_extension": ".py",
   "mimetype": "text/x-python",
   "name": "python",
   "nbconvert_exporter": "python",
   "pygments_lexer": "ipython3",
   "version": "3.8.3"
  }
 },
 "nbformat": 4,
 "nbformat_minor": 4
}
